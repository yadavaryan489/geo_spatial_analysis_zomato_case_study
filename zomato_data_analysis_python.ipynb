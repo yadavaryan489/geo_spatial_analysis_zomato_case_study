{
 "cells": [
  {
   "cell_type": "markdown",
   "id": "6e6eadcf-4d86-4a37-a574-daf1fa30c138",
   "metadata": {},
   "source": [
    "# Geospatial Analysis"
   ]
  },
  {
   "cell_type": "markdown",
   "id": "9ca848d0-7be2-4d5e-aeed-93220897d6d2",
   "metadata": {},
   "source": [
    "## Problem Statement\n",
    "\n",
    "### In this case study we are analysing\n",
    "\n"
   ]
  },
  {
   "cell_type": "markdown",
   "id": "4daba04f-575d-40d4-8148-5940bf8d081b",
   "metadata": {},
   "source": [
    "### 1. Reading Data from SQL Database\n",
    "### 2. Analysing Realtion between online order and rating\n",
    "### 3. Text Cleaning\n",
    "### 4. Performing Unigram, Bi-gram and Trigram analysis on data\n",
    "### 5. Extracting Geographical Cordinates \n",
    "### 6. Performing Spatial Analysis\n",
    "### 7. Automating Spatial Analysis"
   ]
  },
  {
   "cell_type": "markdown",
   "id": "ff70c1af-90b8-48c2-954c-c2434882f42f",
   "metadata": {},
   "source": [
    "### Importing modules"
   ]
  },
  {
   "cell_type": "code",
   "execution_count": 1,
   "id": "2331885b-fe8d-4344-9fec-1c73b4fd008d",
   "metadata": {},
   "outputs": [],
   "source": [
    "import pandas as pd\n",
    "import numpy as np\n",
    "import matplotlib.pyplot as plt\n",
    "import seaborn as sns\n",
    "import sqlite3"
   ]
  },
  {
   "cell_type": "code",
   "execution_count": 2,
   "id": "ba2c0b70-7155-439f-8422-83c8d2d22b5c",
   "metadata": {},
   "outputs": [],
   "source": [
    "import warnings\n",
    "from warnings import filterwarnings\n",
    "filterwarnings('ignore')"
   ]
  },
  {
   "cell_type": "markdown",
   "id": "8fe9644a-b3fb-467e-9494-4bf301007bd4",
   "metadata": {},
   "source": [
    "### 1. Reading Data from SQL Database"
   ]
  },
  {
   "cell_type": "code",
   "execution_count": 3,
   "id": "414a7abb-7b97-481b-ac2a-47f707eb5192",
   "metadata": {},
   "outputs": [],
   "source": [
    "con = sqlite3.connect(r\"C:\\Users\\ARYAN YADAV\\OneDrive\\Documents\\Resources\\zomato_rawdata.sqlite\")"
   ]
  },
  {
   "cell_type": "markdown",
   "id": "4a9e4e6e-8b73-4c94-946a-2be18d0c4a0b",
   "metadata": {},
   "source": [
    "### Showing the Data from the database using SQL query"
   ]
  },
  {
   "cell_type": "code",
   "execution_count": 4,
   "id": "7b9b2f03-f94f-4955-9fdb-c8e7b6fd91c8",
   "metadata": {},
   "outputs": [
    {
     "data": {
      "text/html": [
       "<div>\n",
       "<style scoped>\n",
       "    .dataframe tbody tr th:only-of-type {\n",
       "        vertical-align: middle;\n",
       "    }\n",
       "\n",
       "    .dataframe tbody tr th {\n",
       "        vertical-align: top;\n",
       "    }\n",
       "\n",
       "    .dataframe thead th {\n",
       "        text-align: right;\n",
       "    }\n",
       "</style>\n",
       "<table border=\"1\" class=\"dataframe\">\n",
       "  <thead>\n",
       "    <tr style=\"text-align: right;\">\n",
       "      <th></th>\n",
       "      <th>index</th>\n",
       "      <th>url</th>\n",
       "      <th>address</th>\n",
       "      <th>name</th>\n",
       "      <th>online_order</th>\n",
       "      <th>book_table</th>\n",
       "      <th>rate</th>\n",
       "      <th>votes</th>\n",
       "      <th>phone</th>\n",
       "      <th>location</th>\n",
       "      <th>rest_type</th>\n",
       "      <th>dish_liked</th>\n",
       "      <th>cuisines</th>\n",
       "      <th>approx_cost(for two people)</th>\n",
       "      <th>reviews_list</th>\n",
       "      <th>menu_item</th>\n",
       "      <th>listed_in(type)</th>\n",
       "      <th>listed_in(city)</th>\n",
       "    </tr>\n",
       "  </thead>\n",
       "  <tbody>\n",
       "    <tr>\n",
       "      <th>0</th>\n",
       "      <td>0</td>\n",
       "      <td>https://www.zomato.com/bangalore/jalsa-banasha...</td>\n",
       "      <td>942, 21st Main Road, 2nd Stage, Banashankari, ...</td>\n",
       "      <td>Jalsa</td>\n",
       "      <td>Yes</td>\n",
       "      <td>Yes</td>\n",
       "      <td>4.1/5</td>\n",
       "      <td>775</td>\n",
       "      <td>080 42297555\\r\\n+91 9743772233</td>\n",
       "      <td>Banashankari</td>\n",
       "      <td>Casual Dining</td>\n",
       "      <td>Pasta, Lunch Buffet, Masala Papad, Paneer Laja...</td>\n",
       "      <td>North Indian, Mughlai, Chinese</td>\n",
       "      <td>800</td>\n",
       "      <td>[('Rated 4.0', 'RATED\\n  A beautiful place to ...</td>\n",
       "      <td>[]</td>\n",
       "      <td>Buffet</td>\n",
       "      <td>Banashankari</td>\n",
       "    </tr>\n",
       "    <tr>\n",
       "      <th>1</th>\n",
       "      <td>1</td>\n",
       "      <td>https://www.zomato.com/bangalore/spice-elephan...</td>\n",
       "      <td>2nd Floor, 80 Feet Road, Near Big Bazaar, 6th ...</td>\n",
       "      <td>Spice Elephant</td>\n",
       "      <td>Yes</td>\n",
       "      <td>No</td>\n",
       "      <td>4.1/5</td>\n",
       "      <td>787</td>\n",
       "      <td>080 41714161</td>\n",
       "      <td>Banashankari</td>\n",
       "      <td>Casual Dining</td>\n",
       "      <td>Momos, Lunch Buffet, Chocolate Nirvana, Thai G...</td>\n",
       "      <td>Chinese, North Indian, Thai</td>\n",
       "      <td>800</td>\n",
       "      <td>[('Rated 4.0', 'RATED\\n  Had been here for din...</td>\n",
       "      <td>[]</td>\n",
       "      <td>Buffet</td>\n",
       "      <td>Banashankari</td>\n",
       "    </tr>\n",
       "  </tbody>\n",
       "</table>\n",
       "</div>"
      ],
      "text/plain": [
       "   index                                                url  \\\n",
       "0      0  https://www.zomato.com/bangalore/jalsa-banasha...   \n",
       "1      1  https://www.zomato.com/bangalore/spice-elephan...   \n",
       "\n",
       "                                             address            name  \\\n",
       "0  942, 21st Main Road, 2nd Stage, Banashankari, ...           Jalsa   \n",
       "1  2nd Floor, 80 Feet Road, Near Big Bazaar, 6th ...  Spice Elephant   \n",
       "\n",
       "  online_order book_table   rate  votes                           phone  \\\n",
       "0          Yes        Yes  4.1/5    775  080 42297555\\r\\n+91 9743772233   \n",
       "1          Yes         No  4.1/5    787                    080 41714161   \n",
       "\n",
       "       location      rest_type  \\\n",
       "0  Banashankari  Casual Dining   \n",
       "1  Banashankari  Casual Dining   \n",
       "\n",
       "                                          dish_liked  \\\n",
       "0  Pasta, Lunch Buffet, Masala Papad, Paneer Laja...   \n",
       "1  Momos, Lunch Buffet, Chocolate Nirvana, Thai G...   \n",
       "\n",
       "                         cuisines approx_cost(for two people)  \\\n",
       "0  North Indian, Mughlai, Chinese                         800   \n",
       "1     Chinese, North Indian, Thai                         800   \n",
       "\n",
       "                                        reviews_list menu_item  \\\n",
       "0  [('Rated 4.0', 'RATED\\n  A beautiful place to ...        []   \n",
       "1  [('Rated 4.0', 'RATED\\n  Had been here for din...        []   \n",
       "\n",
       "  listed_in(type) listed_in(city)  \n",
       "0          Buffet    Banashankari  \n",
       "1          Buffet    Banashankari  "
      ]
     },
     "execution_count": 4,
     "metadata": {},
     "output_type": "execute_result"
    }
   ],
   "source": [
    "pd.read_sql_query(\"SELECT * FROM USERS\",con).head(2)"
   ]
  },
  {
   "cell_type": "markdown",
   "id": "9de9d45f-c358-4c55-94b3-01271eadc65c",
   "metadata": {},
   "source": [
    "### Creating the dataframe "
   ]
  },
  {
   "cell_type": "code",
   "execution_count": 5,
   "id": "cd155dbd-7430-44e9-8d9f-01c67263c67c",
   "metadata": {},
   "outputs": [],
   "source": [
    "df = pd.read_sql_query(\"SELECT * FROM USERS\",con)"
   ]
  },
  {
   "cell_type": "markdown",
   "id": "d7675752-05bc-4e1f-a838-e5a2ff26d457",
   "metadata": {},
   "source": [
    "### Checking the shape/Structure of the dataframe"
   ]
  },
  {
   "cell_type": "code",
   "execution_count": 6,
   "id": "2062d867-1ed4-4d39-957c-61add1b78240",
   "metadata": {},
   "outputs": [
    {
     "data": {
      "text/plain": [
       "(51717, 18)"
      ]
     },
     "execution_count": 6,
     "metadata": {},
     "output_type": "execute_result"
    }
   ],
   "source": [
    "df.shape"
   ]
  },
  {
   "cell_type": "markdown",
   "id": "6b68eba3-28b2-4df2-9b17-010a2bc67686",
   "metadata": {},
   "source": [
    "### Checking the columns of the dataframe"
   ]
  },
  {
   "cell_type": "code",
   "execution_count": 7,
   "id": "9bb55e9d-7b0b-4457-bb6e-c5b36276c2fa",
   "metadata": {},
   "outputs": [
    {
     "data": {
      "text/plain": [
       "Index(['index', 'url', 'address', 'name', 'online_order', 'book_table', 'rate',\n",
       "       'votes', 'phone', 'location', 'rest_type', 'dish_liked', 'cuisines',\n",
       "       'approx_cost(for two people)', 'reviews_list', 'menu_item',\n",
       "       'listed_in(type)', 'listed_in(city)'],\n",
       "      dtype='object')"
      ]
     },
     "execution_count": 7,
     "metadata": {},
     "output_type": "execute_result"
    }
   ],
   "source": [
    "df.columns"
   ]
  },
  {
   "cell_type": "markdown",
   "id": "6539c336-5456-4cab-8dd4-3039cdb8b7b4",
   "metadata": {},
   "source": [
    "### Checking the number of null values in dataframe columns"
   ]
  },
  {
   "cell_type": "code",
   "execution_count": 8,
   "id": "1b4ace63-c23d-46be-adc8-73cd81294141",
   "metadata": {},
   "outputs": [
    {
     "data": {
      "text/plain": [
       "index                              0\n",
       "url                                0\n",
       "address                            0\n",
       "name                               0\n",
       "online_order                       0\n",
       "book_table                         0\n",
       "rate                            7775\n",
       "votes                              0\n",
       "phone                           1208\n",
       "location                          21\n",
       "rest_type                        227\n",
       "dish_liked                     28078\n",
       "cuisines                          45\n",
       "approx_cost(for two people)      346\n",
       "reviews_list                       0\n",
       "menu_item                          0\n",
       "listed_in(type)                    0\n",
       "listed_in(city)                    0\n",
       "dtype: int64"
      ]
     },
     "execution_count": 8,
     "metadata": {},
     "output_type": "execute_result"
    }
   ],
   "source": [
    "pd.isnull(df).sum()"
   ]
  },
  {
   "cell_type": "markdown",
   "id": "447e8827-de78-46e7-967d-7bab5dbfef1f",
   "metadata": {},
   "source": [
    "### Checking the percentage od null values affecting the dataframe"
   ]
  },
  {
   "cell_type": "code",
   "execution_count": 9,
   "id": "bc76b142-1f40-4962-b69e-353eed7d865c",
   "metadata": {},
   "outputs": [
    {
     "data": {
      "text/plain": [
       "index                           0.000000\n",
       "url                             0.000000\n",
       "address                         0.000000\n",
       "name                            0.000000\n",
       "online_order                    0.000000\n",
       "book_table                      0.000000\n",
       "rate                           15.033741\n",
       "votes                           0.000000\n",
       "phone                           2.335789\n",
       "location                        0.040606\n",
       "rest_type                       0.438927\n",
       "dish_liked                     54.291626\n",
       "cuisines                        0.087012\n",
       "approx_cost(for two people)     0.669026\n",
       "reviews_list                    0.000000\n",
       "menu_item                       0.000000\n",
       "listed_in(type)                 0.000000\n",
       "listed_in(city)                 0.000000\n",
       "dtype: float64"
      ]
     },
     "execution_count": 9,
     "metadata": {},
     "output_type": "execute_result"
    }
   ],
   "source": [
    "pd.isnull(df).sum()/len(df)*100"
   ]
  },
  {
   "cell_type": "markdown",
   "id": "6ff72063-03a8-4dca-96ff-7448836d9300",
   "metadata": {},
   "source": [
    "### 2. Analysing Realtion between online order and rating"
   ]
  },
  {
   "cell_type": "markdown",
   "id": "408d37f1-24b4-4070-9a5b-8bc8a0143b9a",
   "metadata": {},
   "source": [
    "### Checking the unique balues in the rate column in the dataframe"
   ]
  },
  {
   "cell_type": "code",
   "execution_count": 10,
   "id": "a620ab3b-0f68-4414-a398-b1371eb59a3b",
   "metadata": {},
   "outputs": [
    {
     "data": {
      "text/plain": [
       "array(['4.1/5', '3.8/5', '3.7/5', '3.6/5', '4.6/5', '4.0/5', '4.2/5',\n",
       "       '3.9/5', '3.1/5', '3.0/5', '3.2/5', '3.3/5', '2.8/5', '4.4/5',\n",
       "       '4.3/5', 'NEW', '2.9/5', '3.5/5', None, '2.6/5', '3.8 /5', '3.4/5',\n",
       "       '4.5/5', '2.5/5', '2.7/5', '4.7/5', '2.4/5', '2.2/5', '2.3/5',\n",
       "       '3.4 /5', '-', '3.6 /5', '4.8/5', '3.9 /5', '4.2 /5', '4.0 /5',\n",
       "       '4.1 /5', '3.7 /5', '3.1 /5', '2.9 /5', '3.3 /5', '2.8 /5',\n",
       "       '3.5 /5', '2.7 /5', '2.5 /5', '3.2 /5', '2.6 /5', '4.5 /5',\n",
       "       '4.3 /5', '4.4 /5', '4.9/5', '2.1/5', '2.0/5', '1.8/5', '4.6 /5',\n",
       "       '4.9 /5', '3.0 /5', '4.8 /5', '2.3 /5', '4.7 /5', '2.4 /5',\n",
       "       '2.1 /5', '2.2 /5', '2.0 /5', '1.8 /5'], dtype=object)"
      ]
     },
     "execution_count": 10,
     "metadata": {},
     "output_type": "execute_result"
    }
   ],
   "source": [
    "df['rate'].unique()"
   ]
  },
  {
   "cell_type": "markdown",
   "id": "d3b6c85a-b3ea-4444-a705-560943e7cb59",
   "metadata": {},
   "source": [
    "### Replacing the garbage value with the NaN value in the rate column dataframe"
   ]
  },
  {
   "cell_type": "code",
   "execution_count": 11,
   "id": "c244b6dc-8b48-4fc5-a19e-1388defed7a1",
   "metadata": {},
   "outputs": [],
   "source": [
    "df['rate'].replace(('NEW','-'), np.nan ,inplace = True)"
   ]
  },
  {
   "cell_type": "markdown",
   "id": "1435a265-8028-427f-bffe-f8f749fd3171",
   "metadata": {},
   "source": [
    "### Checking the changes in the rte column of the dataframe"
   ]
  },
  {
   "cell_type": "code",
   "execution_count": 12,
   "id": "e1d666e0-b57a-48c8-86a6-91096f160110",
   "metadata": {},
   "outputs": [
    {
     "data": {
      "text/plain": [
       "array(['4.1/5', '3.8/5', '3.7/5', '3.6/5', '4.6/5', '4.0/5', '4.2/5',\n",
       "       '3.9/5', '3.1/5', '3.0/5', '3.2/5', '3.3/5', '2.8/5', '4.4/5',\n",
       "       '4.3/5', nan, '2.9/5', '3.5/5', None, '2.6/5', '3.8 /5', '3.4/5',\n",
       "       '4.5/5', '2.5/5', '2.7/5', '4.7/5', '2.4/5', '2.2/5', '2.3/5',\n",
       "       '3.4 /5', '3.6 /5', '4.8/5', '3.9 /5', '4.2 /5', '4.0 /5',\n",
       "       '4.1 /5', '3.7 /5', '3.1 /5', '2.9 /5', '3.3 /5', '2.8 /5',\n",
       "       '3.5 /5', '2.7 /5', '2.5 /5', '3.2 /5', '2.6 /5', '4.5 /5',\n",
       "       '4.3 /5', '4.4 /5', '4.9/5', '2.1/5', '2.0/5', '1.8/5', '4.6 /5',\n",
       "       '4.9 /5', '3.0 /5', '4.8 /5', '2.3 /5', '4.7 /5', '2.4 /5',\n",
       "       '2.1 /5', '2.2 /5', '2.0 /5', '1.8 /5'], dtype=object)"
      ]
     },
     "execution_count": 12,
     "metadata": {},
     "output_type": "execute_result"
    }
   ],
   "source": [
    "df['rate'].unique()"
   ]
  },
  {
   "cell_type": "markdown",
   "id": "0bbfb0fe-a85d-47ef-b53b-b8a3d8c0c187",
   "metadata": {},
   "source": [
    "### Converting the values inside the rate column into the insightful data for the feasiability of the visualtization \n",
    "#### In this step we are cleaning the text by removing the '/5' from each values"
   ]
  },
  {
   "cell_type": "code",
   "execution_count": 13,
   "id": "cac7e55a-8204-4597-a145-fd71da2bc0c0",
   "metadata": {},
   "outputs": [
    {
     "data": {
      "text/plain": [
       "'4.1'"
      ]
     },
     "execution_count": 13,
     "metadata": {},
     "output_type": "execute_result"
    }
   ],
   "source": [
    "\"4.1/5\".split('/')[0]"
   ]
  },
  {
   "cell_type": "code",
   "execution_count": 14,
   "id": "f933770d-027d-4eb2-a91d-3522daae75e9",
   "metadata": {},
   "outputs": [
    {
     "data": {
      "text/plain": [
       "str"
      ]
     },
     "execution_count": 14,
     "metadata": {},
     "output_type": "execute_result"
    }
   ],
   "source": [
    "type(\"4.1/5\".split('/')[0])"
   ]
  },
  {
   "cell_type": "code",
   "execution_count": 15,
   "id": "46634b90-eb2c-4e99-a127-b3cf3269d42a",
   "metadata": {},
   "outputs": [
    {
     "data": {
      "text/plain": [
       "4.1"
      ]
     },
     "execution_count": 15,
     "metadata": {},
     "output_type": "execute_result"
    }
   ],
   "source": [
    "float(\"4.1/5\".split('/')[0])"
   ]
  },
  {
   "cell_type": "code",
   "execution_count": 16,
   "id": "bcbe2840-66ae-40d4-814b-8cb990ae434a",
   "metadata": {},
   "outputs": [],
   "source": [
    "df['rate'] = df['rate'].apply(lambda x: float(x.split('/')[0]) if type(x)==str else x)"
   ]
  },
  {
   "cell_type": "markdown",
   "id": "a3072e65-04c3-45a5-aa5f-f063b87c6723",
   "metadata": {},
   "source": [
    "### Checking the column rate of the dataframe "
   ]
  },
  {
   "cell_type": "code",
   "execution_count": 17,
   "id": "348f15a4-b0d0-4145-bfab-66d72e9bec92",
   "metadata": {},
   "outputs": [
    {
     "data": {
      "text/plain": [
       "0        4.1\n",
       "1        4.1\n",
       "2        3.8\n",
       "3        3.7\n",
       "4        3.8\n",
       "        ... \n",
       "51712    3.6\n",
       "51713    NaN\n",
       "51714    NaN\n",
       "51715    4.3\n",
       "51716    3.4\n",
       "Name: rate, Length: 51717, dtype: float64"
      ]
     },
     "execution_count": 17,
     "metadata": {},
     "output_type": "execute_result"
    }
   ],
   "source": [
    "df['rate']"
   ]
  },
  {
   "cell_type": "markdown",
   "id": "7a051619-9cfb-4f5a-9ccd-1703437d7b20",
   "metadata": {},
   "source": [
    "### Pivoting the columns online order and rate column for the visualizations"
   ]
  },
  {
   "cell_type": "code",
   "execution_count": 18,
   "id": "931706ff-e055-450e-8fae-d17a8c50ad81",
   "metadata": {},
   "outputs": [],
   "source": [
    "x = pd.crosstab(df['rate'],df['online_order'])"
   ]
  },
  {
   "cell_type": "markdown",
   "id": "8dbcdbd7-35ab-49a4-adff-77bdf7c0763c",
   "metadata": {},
   "source": [
    "### Plotting the stacked bar chart in which the graph eesembles for which rating the online order has been made"
   ]
  },
  {
   "cell_type": "code",
   "execution_count": 19,
   "id": "f399995e-d101-495f-852d-4f7a5dd81d39",
   "metadata": {},
   "outputs": [
    {
     "data": {
      "text/plain": [
       "<Axes: xlabel='rate'>"
      ]
     },
     "execution_count": 19,
     "metadata": {},
     "output_type": "execute_result"
    },
    {
     "data": {
      "image/png": "[encoded data removed]",
      "text/plain": [
       "<Figure size 640x480 with 1 Axes>"
      ]
     },
     "metadata": {},
     "output_type": "display_data"
    }
   ],
   "source": [
    "x.plot(kind='bar',stacked=True)"
   ]
  },
  {
   "cell_type": "markdown",
   "id": "aa0d197c-836e-437f-a2d3-bfd249bc2ab0",
   "metadata": {},
   "source": [
    "### Analysing the relation between the rating and online orders column on the percentage basis"
   ]
  },
  {
   "cell_type": "markdown",
   "id": "7d4f0243-183e-467b-9ff4-1c28c93bbb6d",
   "metadata": {},
   "source": [
    "### Getting the sum of each rating in the dataframe"
   ]
  },
  {
   "cell_type": "code",
   "execution_count": 20,
   "id": "d7192371-649f-42ad-ad9a-966332fbb3a8",
   "metadata": {},
   "outputs": [
    {
     "data": {
      "text/plain": [
       "rate\n",
       "1.8       5.0\n",
       "2.0      11.0\n",
       "2.1      24.0\n",
       "2.2      26.0\n",
       "2.3      51.0\n",
       "2.4      70.0\n",
       "2.5     101.0\n",
       "2.6     260.0\n",
       "2.7     307.0\n",
       "2.8     600.0\n",
       "2.9     802.0\n",
       "3.0    1023.0\n",
       "3.1    1561.0\n",
       "3.2    1873.0\n",
       "3.3    2310.0\n",
       "3.4    2476.0\n",
       "3.5    2784.0\n",
       "3.6    3316.0\n",
       "3.7    3821.0\n",
       "3.8    3873.0\n",
       "3.9    3972.0\n",
       "4.0    3183.0\n",
       "4.1    2948.0\n",
       "4.2    2184.0\n",
       "4.3    1693.0\n",
       "4.4    1147.0\n",
       "4.5     656.0\n",
       "4.6     300.0\n",
       "4.7     167.0\n",
       "4.8      66.0\n",
       "4.9      55.0\n",
       "dtype: float64"
      ]
     },
     "execution_count": 20,
     "metadata": {},
     "output_type": "execute_result"
    }
   ],
   "source": [
    "x.sum(axis = 1).astype(float)"
   ]
  },
  {
   "cell_type": "markdown",
   "id": "4408d82d-f1ca-434e-93b2-5ad9ad771d62",
   "metadata": {},
   "source": [
    "## Calculating the percentage values for each rating"
   ]
  },
  {
   "cell_type": "code",
   "execution_count": 21,
   "id": "5d8eac27-9df1-4196-accb-a8c2609dacca",
   "metadata": {},
   "outputs": [],
   "source": [
    "normalize_df = x.div(x.sum(axis = 1).astype(float), axis = 0)"
   ]
  },
  {
   "cell_type": "markdown",
   "id": "0a8cfbb8-5638-4e86-bc3e-3ca92a552187",
   "metadata": {},
   "source": [
    "### Plotting the stacked bar chart"
   ]
  },
  {
   "cell_type": "code",
   "execution_count": 22,
   "id": "788b7858-6925-4b0e-8218-2b04e24e1c9d",
   "metadata": {},
   "outputs": [
    {
     "data": {
      "text/plain": [
       "<Axes: xlabel='rate'>"
      ]
     },
     "execution_count": 22,
     "metadata": {},
     "output_type": "execute_result"
    },
    {
     "data": {
      "image/png": "[encoded data removed]",
      "text/plain": [
       "<Figure size 640x480 with 1 Axes>"
      ]
     },
     "metadata": {},
     "output_type": "display_data"
    }
   ],
   "source": [
    "(normalize_df*100).plot(kind='bar',stacked=True)"
   ]
  },
  {
   "cell_type": "markdown",
   "id": "57507f8c-2dae-49be-a6f7-696aac70251b",
   "metadata": {},
   "source": [
    "### 3. Text Cleaning"
   ]
  },
  {
   "cell_type": "code",
   "execution_count": 23,
   "id": "39e6df5f-3935-4df6-b40f-014be3a4f3d6",
   "metadata": {},
   "outputs": [
    {
     "data": {
      "text/plain": [
       "Index(['index', 'url', 'address', 'name', 'online_order', 'book_table', 'rate',\n",
       "       'votes', 'phone', 'location', 'rest_type', 'dish_liked', 'cuisines',\n",
       "       'approx_cost(for two people)', 'reviews_list', 'menu_item',\n",
       "       'listed_in(type)', 'listed_in(city)'],\n",
       "      dtype='object')"
      ]
     },
     "execution_count": 23,
     "metadata": {},
     "output_type": "execute_result"
    }
   ],
   "source": [
    "df.columns"
   ]
  },
  {
   "cell_type": "markdown",
   "id": "31caa098-46ec-4d79-8133-6825f22f47ac",
   "metadata": {},
   "source": [
    "### Checking the number of null values in dataframe columns "
   ]
  },
  {
   "cell_type": "code",
   "execution_count": 24,
   "id": "3dc2387b-5ce4-4f75-aece-651ad7d464bd",
   "metadata": {},
   "outputs": [
    {
     "data": {
      "text/plain": [
       "np.int64(227)"
      ]
     },
     "execution_count": 24,
     "metadata": {},
     "output_type": "execute_result"
    }
   ],
   "source": [
    "df[\"rest_type\"].isnull().sum()"
   ]
  },
  {
   "cell_type": "markdown",
   "id": "eb9d1717-d4f8-4afd-9c5d-3e2e55aeab52",
   "metadata": {},
   "source": [
    "### Dropping the null values from the dataframe and storing in different dataframe"
   ]
  },
  {
   "cell_type": "code",
   "execution_count": 25,
   "id": "33cd3c6c-5991-4899-89f2-1f530d926146",
   "metadata": {},
   "outputs": [],
   "source": [
    "data = df.dropna(subset = ['rest_type'])"
   ]
  },
  {
   "cell_type": "markdown",
   "id": "6d4b96ae-bdc0-4bac-bcd2-46a5e3f0a78e",
   "metadata": {},
   "source": [
    "### Checking the first 5 row"
   ]
  },
  {
   "cell_type": "code",
   "execution_count": 26,
   "id": "9db3e148-eb7b-4edc-87ef-2f71c37e21b1",
   "metadata": {},
   "outputs": [
    {
     "data": {
      "text/html": [
       "<div>\n",
       "<style scoped>\n",
       "    .dataframe tbody tr th:only-of-type {\n",
       "        vertical-align: middle;\n",
       "    }\n",
       "\n",
       "    .dataframe tbody tr th {\n",
       "        vertical-align: top;\n",
       "    }\n",
       "\n",
       "    .dataframe thead th {\n",
       "        text-align: right;\n",
       "    }\n",
       "</style>\n",
       "<table border=\"1\" class=\"dataframe\">\n",
       "  <thead>\n",
       "    <tr style=\"text-align: right;\">\n",
       "      <th></th>\n",
       "      <th>index</th>\n",
       "      <th>url</th>\n",
       "      <th>address</th>\n",
       "      <th>name</th>\n",
       "      <th>online_order</th>\n",
       "      <th>book_table</th>\n",
       "      <th>rate</th>\n",
       "      <th>votes</th>\n",
       "      <th>phone</th>\n",
       "      <th>location</th>\n",
       "      <th>rest_type</th>\n",
       "      <th>dish_liked</th>\n",
       "      <th>cuisines</th>\n",
       "      <th>approx_cost(for two people)</th>\n",
       "      <th>reviews_list</th>\n",
       "      <th>menu_item</th>\n",
       "      <th>listed_in(type)</th>\n",
       "      <th>listed_in(city)</th>\n",
       "    </tr>\n",
       "  </thead>\n",
       "  <tbody>\n",
       "    <tr>\n",
       "      <th>0</th>\n",
       "      <td>0</td>\n",
       "      <td>https://www.zomato.com/bangalore/jalsa-banasha...</td>\n",
       "      <td>942, 21st Main Road, 2nd Stage, Banashankari, ...</td>\n",
       "      <td>Jalsa</td>\n",
       "      <td>Yes</td>\n",
       "      <td>Yes</td>\n",
       "      <td>4.1</td>\n",
       "      <td>775</td>\n",
       "      <td>080 42297555\\r\\n+91 9743772233</td>\n",
       "      <td>Banashankari</td>\n",
       "      <td>Casual Dining</td>\n",
       "      <td>Pasta, Lunch Buffet, Masala Papad, Paneer Laja...</td>\n",
       "      <td>North Indian, Mughlai, Chinese</td>\n",
       "      <td>800</td>\n",
       "      <td>[('Rated 4.0', 'RATED\\n  A beautiful place to ...</td>\n",
       "      <td>[]</td>\n",
       "      <td>Buffet</td>\n",
       "      <td>Banashankari</td>\n",
       "    </tr>\n",
       "    <tr>\n",
       "      <th>1</th>\n",
       "      <td>1</td>\n",
       "      <td>https://www.zomato.com/bangalore/spice-elephan...</td>\n",
       "      <td>2nd Floor, 80 Feet Road, Near Big Bazaar, 6th ...</td>\n",
       "      <td>Spice Elephant</td>\n",
       "      <td>Yes</td>\n",
       "      <td>No</td>\n",
       "      <td>4.1</td>\n",
       "      <td>787</td>\n",
       "      <td>080 41714161</td>\n",
       "      <td>Banashankari</td>\n",
       "      <td>Casual Dining</td>\n",
       "      <td>Momos, Lunch Buffet, Chocolate Nirvana, Thai G...</td>\n",
       "      <td>Chinese, North Indian, Thai</td>\n",
       "      <td>800</td>\n",
       "      <td>[('Rated 4.0', 'RATED\\n  Had been here for din...</td>\n",
       "      <td>[]</td>\n",
       "      <td>Buffet</td>\n",
       "      <td>Banashankari</td>\n",
       "    </tr>\n",
       "    <tr>\n",
       "      <th>2</th>\n",
       "      <td>2</td>\n",
       "      <td>https://www.zomato.com/SanchurroBangalore?cont...</td>\n",
       "      <td>1112, Next to KIMS Medical College, 17th Cross...</td>\n",
       "      <td>San Churro Cafe</td>\n",
       "      <td>Yes</td>\n",
       "      <td>No</td>\n",
       "      <td>3.8</td>\n",
       "      <td>918</td>\n",
       "      <td>+91 9663487993</td>\n",
       "      <td>Banashankari</td>\n",
       "      <td>Cafe, Casual Dining</td>\n",
       "      <td>Churros, Cannelloni, Minestrone Soup, Hot Choc...</td>\n",
       "      <td>Cafe, Mexican, Italian</td>\n",
       "      <td>800</td>\n",
       "      <td>[('Rated 3.0', \"RATED\\n  Ambience is not that ...</td>\n",
       "      <td>[]</td>\n",
       "      <td>Buffet</td>\n",
       "      <td>Banashankari</td>\n",
       "    </tr>\n",
       "    <tr>\n",
       "      <th>3</th>\n",
       "      <td>3</td>\n",
       "      <td>https://www.zomato.com/bangalore/addhuri-udupi...</td>\n",
       "      <td>1st Floor, Annakuteera, 3rd Stage, Banashankar...</td>\n",
       "      <td>Addhuri Udupi Bhojana</td>\n",
       "      <td>No</td>\n",
       "      <td>No</td>\n",
       "      <td>3.7</td>\n",
       "      <td>88</td>\n",
       "      <td>+91 9620009302</td>\n",
       "      <td>Banashankari</td>\n",
       "      <td>Quick Bites</td>\n",
       "      <td>Masala Dosa</td>\n",
       "      <td>South Indian, North Indian</td>\n",
       "      <td>300</td>\n",
       "      <td>[('Rated 4.0', \"RATED\\n  Great food and proper...</td>\n",
       "      <td>[]</td>\n",
       "      <td>Buffet</td>\n",
       "      <td>Banashankari</td>\n",
       "    </tr>\n",
       "    <tr>\n",
       "      <th>4</th>\n",
       "      <td>4</td>\n",
       "      <td>https://www.zomato.com/bangalore/grand-village...</td>\n",
       "      <td>10, 3rd Floor, Lakshmi Associates, Gandhi Baza...</td>\n",
       "      <td>Grand Village</td>\n",
       "      <td>No</td>\n",
       "      <td>No</td>\n",
       "      <td>3.8</td>\n",
       "      <td>166</td>\n",
       "      <td>+91 8026612447\\r\\n+91 9901210005</td>\n",
       "      <td>Basavanagudi</td>\n",
       "      <td>Casual Dining</td>\n",
       "      <td>Panipuri, Gol Gappe</td>\n",
       "      <td>North Indian, Rajasthani</td>\n",
       "      <td>600</td>\n",
       "      <td>[('Rated 4.0', 'RATED\\n  Very good restaurant ...</td>\n",
       "      <td>[]</td>\n",
       "      <td>Buffet</td>\n",
       "      <td>Banashankari</td>\n",
       "    </tr>\n",
       "  </tbody>\n",
       "</table>\n",
       "</div>"
      ],
      "text/plain": [
       "   index                                                url  \\\n",
       "0      0  https://www.zomato.com/bangalore/jalsa-banasha...   \n",
       "1      1  https://www.zomato.com/bangalore/spice-elephan...   \n",
       "2      2  https://www.zomato.com/SanchurroBangalore?cont...   \n",
       "3      3  https://www.zomato.com/bangalore/addhuri-udupi...   \n",
       "4      4  https://www.zomato.com/bangalore/grand-village...   \n",
       "\n",
       "                                             address                   name  \\\n",
       "0  942, 21st Main Road, 2nd Stage, Banashankari, ...                  Jalsa   \n",
       "1  2nd Floor, 80 Feet Road, Near Big Bazaar, 6th ...         Spice Elephant   \n",
       "2  1112, Next to KIMS Medical College, 17th Cross...        San Churro Cafe   \n",
       "3  1st Floor, Annakuteera, 3rd Stage, Banashankar...  Addhuri Udupi Bhojana   \n",
       "4  10, 3rd Floor, Lakshmi Associates, Gandhi Baza...          Grand Village   \n",
       "\n",
       "  online_order book_table  rate  votes                             phone  \\\n",
       "0          Yes        Yes   4.1    775    080 42297555\\r\\n+91 9743772233   \n",
       "1          Yes         No   4.1    787                      080 41714161   \n",
       "2          Yes         No   3.8    918                    +91 9663487993   \n",
       "3           No         No   3.7     88                    +91 9620009302   \n",
       "4           No         No   3.8    166  +91 8026612447\\r\\n+91 9901210005   \n",
       "\n",
       "       location            rest_type  \\\n",
       "0  Banashankari        Casual Dining   \n",
       "1  Banashankari        Casual Dining   \n",
       "2  Banashankari  Cafe, Casual Dining   \n",
       "3  Banashankari          Quick Bites   \n",
       "4  Basavanagudi        Casual Dining   \n",
       "\n",
       "                                          dish_liked  \\\n",
       "0  Pasta, Lunch Buffet, Masala Papad, Paneer Laja...   \n",
       "1  Momos, Lunch Buffet, Chocolate Nirvana, Thai G...   \n",
       "2  Churros, Cannelloni, Minestrone Soup, Hot Choc...   \n",
       "3                                        Masala Dosa   \n",
       "4                                Panipuri, Gol Gappe   \n",
       "\n",
       "                         cuisines approx_cost(for two people)  \\\n",
       "0  North Indian, Mughlai, Chinese                         800   \n",
       "1     Chinese, North Indian, Thai                         800   \n",
       "2          Cafe, Mexican, Italian                         800   \n",
       "3      South Indian, North Indian                         300   \n",
       "4        North Indian, Rajasthani                         600   \n",
       "\n",
       "                                        reviews_list menu_item  \\\n",
       "0  [('Rated 4.0', 'RATED\\n  A beautiful place to ...        []   \n",
       "1  [('Rated 4.0', 'RATED\\n  Had been here for din...        []   \n",
       "2  [('Rated 3.0', \"RATED\\n  Ambience is not that ...        []   \n",
       "3  [('Rated 4.0', \"RATED\\n  Great food and proper...        []   \n",
       "4  [('Rated 4.0', 'RATED\\n  Very good restaurant ...        []   \n",
       "\n",
       "  listed_in(type) listed_in(city)  \n",
       "0          Buffet    Banashankari  \n",
       "1          Buffet    Banashankari  \n",
       "2          Buffet    Banashankari  \n",
       "3          Buffet    Banashankari  \n",
       "4          Buffet    Banashankari  "
      ]
     },
     "execution_count": 26,
     "metadata": {},
     "output_type": "execute_result"
    }
   ],
   "source": [
    "data.head(5)"
   ]
  },
  {
   "cell_type": "markdown",
   "id": "2b033977-f516-4a54-a630-79483c2091f4",
   "metadata": {},
   "source": [
    "### Checking the number of null values in dataframe column after changes"
   ]
  },
  {
   "cell_type": "code",
   "execution_count": 27,
   "id": "3d6692dc-9afb-4fbf-b247-8eabb1655c67",
   "metadata": {},
   "outputs": [
    {
     "data": {
      "text/plain": [
       "np.int64(0)"
      ]
     },
     "execution_count": 27,
     "metadata": {},
     "output_type": "execute_result"
    }
   ],
   "source": [
    "data['rest_type'].isnull().sum()"
   ]
  },
  {
   "cell_type": "markdown",
   "id": "ef665476-8e38-4cdf-8a7b-404661dc386e",
   "metadata": {},
   "source": [
    "### Checking the unique values from the rest_type column from the dataframe"
   ]
  },
  {
   "cell_type": "code",
   "execution_count": 28,
   "id": "5d9e279d-a984-4c94-8dca-5f45b67b567e",
   "metadata": {},
   "outputs": [
    {
     "data": {
      "text/plain": [
       "array(['Casual Dining', 'Cafe, Casual Dining', 'Quick Bites',\n",
       "       'Casual Dining, Cafe', 'Cafe', 'Quick Bites, Cafe',\n",
       "       'Cafe, Quick Bites', 'Delivery', 'Mess', 'Dessert Parlor',\n",
       "       'Bakery, Dessert Parlor', 'Pub', 'Bakery', 'Takeaway, Delivery',\n",
       "       'Fine Dining', 'Beverage Shop', 'Sweet Shop', 'Bar',\n",
       "       'Beverage Shop, Quick Bites', 'Confectionery',\n",
       "       'Quick Bites, Beverage Shop', 'Dessert Parlor, Sweet Shop',\n",
       "       'Bakery, Quick Bites', 'Sweet Shop, Quick Bites', 'Kiosk',\n",
       "       'Food Truck', 'Quick Bites, Dessert Parlor',\n",
       "       'Beverage Shop, Dessert Parlor', 'Takeaway', 'Pub, Casual Dining',\n",
       "       'Casual Dining, Bar', 'Dessert Parlor, Beverage Shop',\n",
       "       'Quick Bites, Bakery', 'Dessert Parlor, Quick Bites',\n",
       "       'Microbrewery, Casual Dining', 'Lounge', 'Bar, Casual Dining',\n",
       "       'Food Court', 'Cafe, Bakery', 'Dhaba', 'Quick Bites, Sweet Shop',\n",
       "       'Microbrewery', 'Food Court, Quick Bites', 'Pub, Bar',\n",
       "       'Casual Dining, Pub', 'Lounge, Bar', 'Food Court, Dessert Parlor',\n",
       "       'Casual Dining, Sweet Shop', 'Food Court, Casual Dining',\n",
       "       'Casual Dining, Microbrewery', 'Sweet Shop, Dessert Parlor',\n",
       "       'Bakery, Beverage Shop', 'Lounge, Casual Dining',\n",
       "       'Cafe, Food Court', 'Beverage Shop, Cafe', 'Cafe, Dessert Parlor',\n",
       "       'Dessert Parlor, Cafe', 'Dessert Parlor, Bakery',\n",
       "       'Microbrewery, Pub', 'Bakery, Food Court', 'Club',\n",
       "       'Quick Bites, Food Court', 'Bakery, Cafe', 'Bar, Cafe',\n",
       "       'Pub, Cafe', 'Casual Dining, Irani Cafee', 'Fine Dining, Lounge',\n",
       "       'Bar, Quick Bites', 'Bakery, Kiosk', 'Pub, Microbrewery',\n",
       "       'Microbrewery, Lounge', 'Fine Dining, Microbrewery',\n",
       "       'Fine Dining, Bar', 'Mess, Quick Bites', 'Dessert Parlor, Kiosk',\n",
       "       'Bhojanalya', 'Casual Dining, Quick Bites', 'Pop Up', 'Cafe, Bar',\n",
       "       'Casual Dining, Lounge', 'Bakery, Sweet Shop', 'Microbrewery, Bar',\n",
       "       'Cafe, Lounge', 'Bar, Pub', 'Lounge, Cafe', 'Club, Casual Dining',\n",
       "       'Quick Bites, Mess', 'Quick Bites, Meat Shop',\n",
       "       'Quick Bites, Kiosk', 'Lounge, Microbrewery',\n",
       "       'Food Court, Beverage Shop', 'Dessert Parlor, Food Court',\n",
       "       'Bar, Lounge'], dtype=object)"
      ]
     },
     "execution_count": 28,
     "metadata": {},
     "output_type": "execute_result"
    }
   ],
   "source": [
    "data['rest_type'].unique()"
   ]
  },
  {
   "cell_type": "markdown",
   "id": "1592b3d0-173e-44f5-909f-70ce01db87cb",
   "metadata": {},
   "source": [
    "### Getting the values in the dataframe which has restaurant typ as 'Quick Bites'"
   ]
  },
  {
   "cell_type": "code",
   "execution_count": 29,
   "id": "bb3f7471-243b-4e9d-8c93-2210df1736d2",
   "metadata": {},
   "outputs": [
    {
     "data": {
      "text/plain": [
       "0        False\n",
       "1        False\n",
       "2        False\n",
       "3         True\n",
       "4        False\n",
       "         ...  \n",
       "51712    False\n",
       "51713    False\n",
       "51714    False\n",
       "51715    False\n",
       "51716    False\n",
       "Name: rest_type, Length: 51490, dtype: bool"
      ]
     },
     "execution_count": 29,
     "metadata": {},
     "output_type": "execute_result"
    }
   ],
   "source": [
    "data['rest_type'].str.contains('Quick Bites')"
   ]
  },
  {
   "cell_type": "markdown",
   "id": "187f9d4f-4d3d-4698-8486-c1d53b4a313c",
   "metadata": {},
   "source": [
    "### Storing the values of the dataframe which has restaurant type as 'Quick Bites'"
   ]
  },
  {
   "cell_type": "code",
   "execution_count": 30,
   "id": "2663c320-bcd6-4f1f-92cc-64c633768a2f",
   "metadata": {},
   "outputs": [],
   "source": [
    "quick_bites = data[data['rest_type'].str.contains('Quick Bites')]"
   ]
  },
  {
   "cell_type": "markdown",
   "id": "91b2ea45-9329-440f-9d4a-4f1ce2814f15",
   "metadata": {},
   "source": [
    "### Checking the shape/Structure of the Dataset"
   ]
  },
  {
   "cell_type": "code",
   "execution_count": 31,
   "id": "20af2600-cce2-4d8b-b4fa-9dd40cdd3ad9",
   "metadata": {},
   "outputs": [
    {
     "data": {
      "text/plain": [
       "(20639, 18)"
      ]
     },
     "execution_count": 31,
     "metadata": {},
     "output_type": "execute_result"
    }
   ],
   "source": [
    "quick_bites.shape"
   ]
  },
  {
   "cell_type": "markdown",
   "id": "0a5e8c8d-a099-4f2e-bcc0-72d22c572e64",
   "metadata": {},
   "source": [
    "### Checking the columns of the dataframe"
   ]
  },
  {
   "cell_type": "code",
   "execution_count": 32,
   "id": "5ce8bf02-efca-4fc9-aeca-179813f4324c",
   "metadata": {},
   "outputs": [
    {
     "data": {
      "text/plain": [
       "Index(['index', 'url', 'address', 'name', 'online_order', 'book_table', 'rate',\n",
       "       'votes', 'phone', 'location', 'rest_type', 'dish_liked', 'cuisines',\n",
       "       'approx_cost(for two people)', 'reviews_list', 'menu_item',\n",
       "       'listed_in(type)', 'listed_in(city)'],\n",
       "      dtype='object')"
      ]
     },
     "execution_count": 32,
     "metadata": {},
     "output_type": "execute_result"
    }
   ],
   "source": [
    "quick_bites.columns"
   ]
  },
  {
   "cell_type": "markdown",
   "id": "8d16b2c5-3351-47ca-aeb3-dca93a32bedb",
   "metadata": {},
   "source": [
    "### Checking the values of reviews_list in the dataframe"
   ]
  },
  {
   "cell_type": "code",
   "execution_count": 33,
   "id": "984b82ea-301f-4e2a-8415-6428f9d2892b",
   "metadata": {},
   "outputs": [
    {
     "data": {
      "text/plain": [
       "3        [('Rated 4.0', \"RATED\\n  Great food and proper...\n",
       "23       [('Rated 4.0', \"RATED\\n  So, went here with fr...\n",
       "26       [('Rated 5.0', 'RATED\\n  please provide some e...\n",
       "31       [('Rated 1.0', \"RATED\\n  Worst restaurant ever...\n",
       "34       [('Rated 3.0', 'RATED\\n  Not worth for the mon...\n",
       "                               ...                        \n",
       "51641    [('Rated 2.0', \"RATED\\n  Food is not upto the ...\n",
       "51642                                                   []\n",
       "51643                                                   []\n",
       "51644                                                   []\n",
       "51645    [('Rated 5.0', \"RATED\\n  I was randomly lookin...\n",
       "Name: reviews_list, Length: 20639, dtype: object"
      ]
     },
     "execution_count": 33,
     "metadata": {},
     "output_type": "execute_result"
    }
   ],
   "source": [
    "quick_bites['reviews_list']"
   ]
  },
  {
   "cell_type": "markdown",
   "id": "b09a404f-43d8-4735-96db-73ac13b62640",
   "metadata": {},
   "source": [
    "### Converting and storing the reviews_list column data in to the lower format"
   ]
  },
  {
   "cell_type": "code",
   "execution_count": 34,
   "id": "0d692fa8-ce1f-429e-89b5-7862322dac3e",
   "metadata": {},
   "outputs": [],
   "source": [
    "quick_bites['reviews_list'] = quick_bites['reviews_list'].apply(lambda x:x.lower())"
   ]
  },
  {
   "cell_type": "markdown",
   "id": "f88fe6a5-6e9a-4b3f-b550-c08fe16b2105",
   "metadata": {},
   "source": [
    "### Installing the nltk package in the system"
   ]
  },
  {
   "cell_type": "code",
   "execution_count": 35,
   "id": "57e7a3f5-b214-4f78-977c-66148d09d60b",
   "metadata": {},
   "outputs": [
    {
     "name": "stdout",
     "output_type": "stream",
     "text": [
      "Requirement already satisfied: nltk in c:\\users\\aryan yadav\\appdata\\roaming\\python\\python312\\site-packages (3.8.1)\n",
      "Requirement already satisfied: click in c:\\users\\aryan yadav\\appdata\\roaming\\python\\python312\\site-packages (from nltk) (8.1.7)\n",
      "Requirement already satisfied: joblib in c:\\users\\aryan yadav\\appdata\\roaming\\python\\python312\\site-packages (from nltk) (1.4.2)\n",
      "Requirement already satisfied: regex>=2021.8.3 in c:\\users\\aryan yadav\\appdata\\roaming\\python\\python312\\site-packages (from nltk) (2024.5.15)\n",
      "Requirement already satisfied: tqdm in c:\\users\\aryan yadav\\appdata\\roaming\\python\\python312\\site-packages (from nltk) (4.66.4)\n",
      "Requirement already satisfied: colorama in c:\\users\\aryan yadav\\appdata\\roaming\\python\\python312\\site-packages (from click->nltk) (0.4.6)\n"
     ]
    }
   ],
   "source": [
    "!pip install --user -U nltk"
   ]
  },
  {
   "cell_type": "markdown",
   "id": "d05f708e-b28e-4906-847c-cfaaff723387",
   "metadata": {},
   "source": [
    "### Importing the RegexpTokenizer from the nltk corpus to clean the dataframe "
   ]
  },
  {
   "cell_type": "code",
   "execution_count": 36,
   "id": "df5ea85d-eea5-419d-86f0-391312cf300b",
   "metadata": {},
   "outputs": [],
   "source": [
    "from nltk.corpus import RegexpTokenizer"
   ]
  },
  {
   "cell_type": "code",
   "execution_count": 37,
   "id": "5ab9f9b7-ef48-49a4-aac5-9b58f5e340c7",
   "metadata": {},
   "outputs": [],
   "source": [
    "tokenizer = RegexpTokenizer(\"[a-zA-Z]+\")"
   ]
  },
  {
   "cell_type": "code",
   "execution_count": 38,
   "id": "5dd1d21b-a334-4076-ac76-d8266f1d04a9",
   "metadata": {},
   "outputs": [
    {
     "data": {
      "text/plain": [
       "RegexpTokenizer(pattern='[a-zA-Z]+', gaps=False, discard_empty=True, flags=re.UNICODE|re.MULTILINE|re.DOTALL)"
      ]
     },
     "execution_count": 38,
     "metadata": {},
     "output_type": "execute_result"
    }
   ],
   "source": [
    "tokenizer"
   ]
  },
  {
   "cell_type": "markdown",
   "id": "e30b9b8a-840c-40e7-8498-7e5526b9f8e6",
   "metadata": {},
   "source": [
    "### Applying the tokeizer on the reviews_list columns of the dataframe for the testing on how it works"
   ]
  },
  {
   "cell_type": "code",
   "execution_count": 39,
   "id": "a145a371-97ac-421b-8151-39d330711600",
   "metadata": {
    "scrolled": true
   },
   "outputs": [
    {
     "data": {
      "text/plain": [
       "['rated',\n",
       " 'rated',\n",
       " 'n',\n",
       " 'great',\n",
       " 'food',\n",
       " 'and',\n",
       " 'proper',\n",
       " 'karnataka',\n",
       " 'style',\n",
       " 'full',\n",
       " 'meals',\n",
       " 'been',\n",
       " 'there',\n",
       " 'twice',\n",
       " 'and',\n",
       " 'was',\n",
       " 'fully',\n",
       " 'satisfied',\n",
       " 'will',\n",
       " 'give',\n",
       " 'stars',\n",
       " 'if',\n",
       " 'it',\n",
       " 's',\n",
       " 'well',\n",
       " 'managed',\n",
       " 'rated',\n",
       " 'rated',\n",
       " 'n',\n",
       " 'reached',\n",
       " 'the',\n",
       " 'place',\n",
       " 'at',\n",
       " 'pm',\n",
       " 'on',\n",
       " 'saturday',\n",
       " 'half',\n",
       " 'of',\n",
       " 'the',\n",
       " 'items',\n",
       " 'on',\n",
       " 'the',\n",
       " 'menu',\n",
       " 'were',\n",
       " 'over',\n",
       " 'what',\n",
       " 'was',\n",
       " 'annoying',\n",
       " 'was',\n",
       " 'is',\n",
       " 'the',\n",
       " 'food',\n",
       " 'was',\n",
       " 'cold',\n",
       " 'the',\n",
       " 'taste',\n",
       " 'was',\n",
       " 'also',\n",
       " 'very',\n",
       " 'average',\n",
       " 'only',\n",
       " 'dosa',\n",
       " 'and',\n",
       " 'holige',\n",
       " 'were',\n",
       " 'good',\n",
       " 'there',\n",
       " 'were',\n",
       " 'very',\n",
       " 'few',\n",
       " 'people',\n",
       " 'in',\n",
       " 'the',\n",
       " 'restaurant',\n",
       " 'and',\n",
       " 'the',\n",
       " 'service',\n",
       " 'was',\n",
       " 'still',\n",
       " 'very',\n",
       " 'slow',\n",
       " 'the',\n",
       " 'waiters',\n",
       " 'were',\n",
       " 'all',\n",
       " 'standing',\n",
       " 'in',\n",
       " 'one',\n",
       " 'corner',\n",
       " 'and',\n",
       " 'talking',\n",
       " 'had',\n",
       " 'to',\n",
       " 'call',\n",
       " 'them',\n",
       " 'repeatedly',\n",
       " 'rated',\n",
       " 'rated',\n",
       " 'n',\n",
       " 'had',\n",
       " 'been',\n",
       " 'here',\n",
       " 'good',\n",
       " 'food',\n",
       " 'served',\n",
       " 'and',\n",
       " 'tasty',\n",
       " 'good',\n",
       " 'place',\n",
       " 'to',\n",
       " 'go',\n",
       " 'with',\n",
       " 'freinds',\n",
       " 'and',\n",
       " 'family',\n",
       " 'should',\n",
       " 'be',\n",
       " 'first',\n",
       " 'to',\n",
       " 'get',\n",
       " 'served',\n",
       " 'well',\n",
       " 'with',\n",
       " 'all',\n",
       " 'food',\n",
       " 'one',\n",
       " 'of',\n",
       " 'the',\n",
       " 'good',\n",
       " 'hotel',\n",
       " 'there',\n",
       " 'for',\n",
       " 'this',\n",
       " 'price',\n",
       " 'rated',\n",
       " 'rated',\n",
       " 'n',\n",
       " 'how',\n",
       " 'can',\n",
       " 'a',\n",
       " 'udupi',\n",
       " 'restaurant',\n",
       " 'be',\n",
       " 'so',\n",
       " 'dirty',\n",
       " 'the',\n",
       " 'floor',\n",
       " 'the',\n",
       " 'walls',\n",
       " 'the',\n",
       " 'waiters',\n",
       " 'are',\n",
       " 'all',\n",
       " 'stained',\n",
       " 'in',\n",
       " 'food',\n",
       " 'why',\n",
       " 'cant',\n",
       " 'they',\n",
       " 'clean',\n",
       " 'it',\n",
       " 'the',\n",
       " 'floor',\n",
       " 'even',\n",
       " 'had',\n",
       " 'decorative',\n",
       " 'colour',\n",
       " 'paper',\n",
       " 'every',\n",
       " 'where',\n",
       " 'and',\n",
       " 'lot',\n",
       " 'of',\n",
       " 'food',\n",
       " 'now',\n",
       " 'coming',\n",
       " 'to',\n",
       " 'the',\n",
       " 'taste',\n",
       " 'of',\n",
       " 'the',\n",
       " 'food',\n",
       " 'it',\n",
       " 'was',\n",
       " 'pretty',\n",
       " 'decent',\n",
       " 'for',\n",
       " 'what',\n",
       " 'they',\n",
       " 'chargw',\n",
       " 'what',\n",
       " 'upset',\n",
       " 'us',\n",
       " 'was',\n",
       " 'the',\n",
       " 'menu',\n",
       " 'says',\n",
       " 'they',\n",
       " 'serve',\n",
       " 'thambuli',\n",
       " 'two',\n",
       " 'variety',\n",
       " 'of',\n",
       " 'rice',\n",
       " 'etc',\n",
       " 'but',\n",
       " 'they',\n",
       " 'were',\n",
       " 'all',\n",
       " 'over',\n",
       " 'at',\n",
       " 'but',\n",
       " 'they',\n",
       " 'still',\n",
       " 'charged',\n",
       " 'us',\n",
       " 'full',\n",
       " 'amount',\n",
       " 'lastly',\n",
       " 'if',\n",
       " 'u',\n",
       " 'r',\n",
       " 'ok',\n",
       " 'to',\n",
       " 'b',\n",
       " 'seated',\n",
       " 'with',\n",
       " 'random',\n",
       " 'people',\n",
       " 'and',\n",
       " 'adjust',\n",
       " 'with',\n",
       " 'their',\n",
       " 'table',\n",
       " 'manners',\n",
       " 'burrping',\n",
       " 'etc',\n",
       " 'then',\n",
       " 'tis',\n",
       " 'place',\n",
       " 'is',\n",
       " 'decent',\n",
       " 'for',\n",
       " 'a',\n",
       " 'quick',\n",
       " 'veg',\n",
       " 'udupi',\n",
       " 'meals',\n",
       " 'rated',\n",
       " 'rated',\n",
       " 'n',\n",
       " 'aadhuri',\n",
       " 'udupi',\n",
       " 'bhojana',\n",
       " 'is',\n",
       " 'one',\n",
       " 'of',\n",
       " 'the',\n",
       " 'best',\n",
       " 'vegetarian',\n",
       " 'hotel',\n",
       " 'in',\n",
       " 'and',\n",
       " 'around',\n",
       " 'banashankari',\n",
       " 'locality',\n",
       " 'nwere',\n",
       " 'we',\n",
       " 'can',\n",
       " 'enjoy',\n",
       " 'the',\n",
       " 'authentic',\n",
       " 'south',\n",
       " 'karnataka',\n",
       " 'style',\n",
       " 'food',\n",
       " 'rated',\n",
       " 'rated',\n",
       " 'n',\n",
       " 'one',\n",
       " 'of',\n",
       " 'the',\n",
       " 'best',\n",
       " 'restaurants',\n",
       " 'for',\n",
       " 'unlimited',\n",
       " 'food',\n",
       " 'price',\n",
       " 'for',\n",
       " 'one',\n",
       " 'full',\n",
       " 'unlimited',\n",
       " 'meal',\n",
       " 'is',\n",
       " 'and',\n",
       " 'the',\n",
       " 'service',\n",
       " 'is',\n",
       " 'awesome',\n",
       " 'here',\n",
       " 'if',\n",
       " 'you',\n",
       " 'x',\n",
       " 'x',\n",
       " 'x',\n",
       " 'x',\n",
       " 'x',\n",
       " 'x',\n",
       " 'x',\n",
       " 'x',\n",
       " 're',\n",
       " 'a',\n",
       " 'costalian',\n",
       " 'you',\n",
       " 'will',\n",
       " 'love',\n",
       " 'the',\n",
       " 'food',\n",
       " 'served',\n",
       " 'here',\n",
       " 'rated',\n",
       " 'rated',\n",
       " 'n',\n",
       " 'been',\n",
       " 'here',\n",
       " 'a',\n",
       " 'couple',\n",
       " 'of',\n",
       " 'times',\n",
       " 'highly',\n",
       " 'satisfying',\n",
       " 'on',\n",
       " 'both',\n",
       " 'the',\n",
       " 'ocassions',\n",
       " 'great',\n",
       " 'food',\n",
       " 'decent',\n",
       " 'service',\n",
       " 'at',\n",
       " 'price',\n",
       " 'of',\n",
       " 'per',\n",
       " 'person',\n",
       " 'it',\n",
       " 'is',\n",
       " 'of',\n",
       " 'a',\n",
       " 'great',\n",
       " 'value',\n",
       " 'the',\n",
       " 'staff',\n",
       " 'here',\n",
       " 'serves',\n",
       " 'in',\n",
       " 'a',\n",
       " 'traditional',\n",
       " 'mysore',\n",
       " 'style',\n",
       " 'dresses',\n",
       " 'the',\n",
       " 'food',\n",
       " 'is',\n",
       " 'authentic',\n",
       " 'karnataka',\n",
       " 'meals',\n",
       " 'i',\n",
       " 'really',\n",
       " 'liked',\n",
       " 'the',\n",
       " 'pineapple',\n",
       " 'pickle',\n",
       " 'chutney',\n",
       " 'they',\n",
       " 'serve',\n",
       " 'some',\n",
       " 'varities',\n",
       " 'of',\n",
       " 'rice',\n",
       " 'of',\n",
       " 'which',\n",
       " 'you',\n",
       " 'shouldn',\n",
       " 't',\n",
       " 'try',\n",
       " 'all',\n",
       " 'as',\n",
       " 'you',\n",
       " 'would',\n",
       " 'already',\n",
       " 'be',\n",
       " 'full',\n",
       " 'roti',\n",
       " 'dosa',\n",
       " 'were',\n",
       " 'decent',\n",
       " 'in',\n",
       " 'the',\n",
       " 'deserts',\n",
       " 'payasam',\n",
       " 'holige',\n",
       " 'were',\n",
       " 'good',\n",
       " 'ni',\n",
       " 'think',\n",
       " 'it',\n",
       " 'is',\n",
       " 'one',\n",
       " 'the',\n",
       " 'must',\n",
       " 'try',\n",
       " 'places',\n",
       " 'to',\n",
       " 'try',\n",
       " 'some',\n",
       " 'authentic',\n",
       " 'south',\n",
       " 'food',\n",
       " 'even',\n",
       " 'if',\n",
       " 'you',\n",
       " 'have',\n",
       " 'been',\n",
       " 'to',\n",
       " 'the',\n",
       " 'likes',\n",
       " 'of',\n",
       " 'kamath',\n",
       " 'etc',\n",
       " 'this',\n",
       " 'one',\n",
       " 'is',\n",
       " 'a',\n",
       " 'little',\n",
       " 'different',\n",
       " 'rated',\n",
       " 'rated',\n",
       " 'n',\n",
       " 'very',\n",
       " 'good',\n",
       " 'restorent',\n",
       " 'good',\n",
       " 'south',\n",
       " 'indian',\n",
       " 'food',\n",
       " 'very',\n",
       " 'nice',\n",
       " 'all',\n",
       " 'food',\n",
       " 's',\n",
       " 'are',\n",
       " 'good',\n",
       " 'we',\n",
       " 'spent',\n",
       " 'good',\n",
       " 'time',\n",
       " 'and',\n",
       " 'food',\n",
       " 'in',\n",
       " 'this',\n",
       " 'hotel',\n",
       " 'value',\n",
       " 'of',\n",
       " 'money',\n",
       " 'we',\n",
       " 'loved',\n",
       " 'it',\n",
       " 'rated',\n",
       " 'rated',\n",
       " 'n',\n",
       " 'i',\n",
       " 'went',\n",
       " 'to',\n",
       " 'this',\n",
       " 'restaurant',\n",
       " 'on',\n",
       " 'sunday',\n",
       " 'afternoon',\n",
       " 'it',\n",
       " 'was',\n",
       " 'a',\n",
       " 'bit',\n",
       " 'crowded',\n",
       " 'n',\n",
       " 'nits',\n",
       " 'located',\n",
       " 'in',\n",
       " 'the',\n",
       " 'st',\n",
       " 'floor',\n",
       " 'above',\n",
       " 'anna',\n",
       " 'kuteera',\n",
       " 'kathriguppe',\n",
       " 'n',\n",
       " 'nyou',\n",
       " 'need',\n",
       " 'to',\n",
       " 'take',\n",
       " 'food',\n",
       " 'coupon',\n",
       " 'in',\n",
       " 'the',\n",
       " 'ground',\n",
       " 'floor',\n",
       " 'itself',\n",
       " 'nit',\n",
       " 'was',\n",
       " 'rs',\n",
       " 'n',\n",
       " 'ntaste',\n",
       " 'wise',\n",
       " 'it',\n",
       " 'was',\n",
       " 'good',\n",
       " 'nservice',\n",
       " 'was',\n",
       " 'slow',\n",
       " 'nnothing',\n",
       " 'exciting',\n",
       " 'different',\n",
       " 'in',\n",
       " 'the',\n",
       " 'menu',\n",
       " 'nwhatever',\n",
       " 'they',\n",
       " 'serve',\n",
       " 'its',\n",
       " 'good',\n",
       " 'nworth',\n",
       " 'for',\n",
       " 'money',\n",
       " 'rated',\n",
       " 'rated',\n",
       " 'n',\n",
       " 'awesome',\n",
       " 'place',\n",
       " 'worth',\n",
       " 'with',\n",
       " 'price',\n",
       " 'quality',\n",
       " 'quantity',\n",
       " 'service',\n",
       " 'hygiene',\n",
       " 'and',\n",
       " 'discipline',\n",
       " 'i',\n",
       " 'loved',\n",
       " 'it',\n",
       " 'wish',\n",
       " 'there',\n",
       " 'were',\n",
       " 'more',\n",
       " 'rating',\n",
       " 'stars',\n",
       " 'to',\n",
       " 'give',\n",
       " 'i',\n",
       " 'give',\n",
       " 'on',\n",
       " 'for',\n",
       " 'sure',\n",
       " 'rated',\n",
       " 'rated',\n",
       " 'n',\n",
       " 'nice',\n",
       " 'food',\n",
       " 'good',\n",
       " 'ambiance',\n",
       " 'so',\n",
       " 'many',\n",
       " 'verity',\n",
       " 'of',\n",
       " 'food',\n",
       " 'this',\n",
       " 'time',\n",
       " 'i',\n",
       " 'was',\n",
       " 'in',\n",
       " 'hurry',\n",
       " 'so',\n",
       " 'next',\n",
       " 'review',\n",
       " 'will',\n",
       " 'be',\n",
       " 'detailed',\n",
       " 'one',\n",
       " 'its',\n",
       " 'good',\n",
       " 'to',\n",
       " 'see',\n",
       " 'all',\n",
       " 'dishes',\n",
       " 'at',\n",
       " 'one',\n",
       " 'place',\n",
       " 'rated',\n",
       " 'rated',\n",
       " 'n',\n",
       " 'the',\n",
       " 'food',\n",
       " 'was',\n",
       " 'not',\n",
       " 'satisfactory',\n",
       " 'not',\n",
       " 'one',\n",
       " 'item',\n",
       " 'served',\n",
       " 'could',\n",
       " 'be',\n",
       " 'eaten',\n",
       " 'again',\n",
       " 'only',\n",
       " 'advantage',\n",
       " 'is',\n",
       " 'the',\n",
       " 'price',\n",
       " 'but',\n",
       " 'even',\n",
       " 'that',\n",
       " 'is',\n",
       " 'not',\n",
       " 'going',\n",
       " 'to',\n",
       " 'be',\n",
       " 'enough',\n",
       " 'to',\n",
       " 'make',\n",
       " 'me',\n",
       " 'visit',\n",
       " 'the',\n",
       " 'place',\n",
       " 'again',\n",
       " 'dear',\n",
       " 'udupi',\n",
       " 'staff',\n",
       " 'people',\n",
       " 'wouldn',\n",
       " 'x',\n",
       " 'x',\n",
       " 'x',\n",
       " 'x',\n",
       " 'x',\n",
       " 'x',\n",
       " 'x',\n",
       " 'x',\n",
       " 't',\n",
       " 'mind',\n",
       " 'if',\n",
       " 'the',\n",
       " 'food',\n",
       " 'quality',\n",
       " 'was',\n",
       " 'better',\n",
       " 'for',\n",
       " 'a',\n",
       " 'higher',\n",
       " 'price',\n",
       " 'and',\n",
       " 'please',\n",
       " 'get',\n",
       " 'more',\n",
       " 'fans',\n",
       " 'so',\n",
       " 'that',\n",
       " 'people',\n",
       " 'won',\n",
       " 'x',\n",
       " 'x',\n",
       " 'x',\n",
       " 'x',\n",
       " 'x',\n",
       " 'x',\n",
       " 'x',\n",
       " 'x',\n",
       " 't',\n",
       " 'have',\n",
       " 'to',\n",
       " 'deal',\n",
       " 'with',\n",
       " 'another',\n",
       " 'disappointment',\n",
       " 'of',\n",
       " 'sweating',\n",
       " 'while',\n",
       " 'eating',\n",
       " 'rated',\n",
       " 'rated',\n",
       " 'n',\n",
       " 'excellent',\n",
       " 'quality',\n",
       " 'and',\n",
       " 'taste',\n",
       " 'more',\n",
       " 'variety',\n",
       " 'of',\n",
       " 'authentic',\n",
       " 'south',\n",
       " 'indian',\n",
       " 'food',\n",
       " 'excellent',\n",
       " 'service',\n",
       " 'highly',\n",
       " 'recommended',\n",
       " 'worth',\n",
       " 'the',\n",
       " 'money',\n",
       " 'we',\n",
       " 'pay',\n",
       " 'here',\n",
       " 'rated',\n",
       " 'rated',\n",
       " 'n',\n",
       " 'i',\n",
       " 'm',\n",
       " 'rating',\n",
       " 'only',\n",
       " 'because',\n",
       " 'of',\n",
       " 'the',\n",
       " 'large',\n",
       " 'number',\n",
       " 'of',\n",
       " 'items',\n",
       " 'they',\n",
       " 'serve',\n",
       " 'for',\n",
       " 'the',\n",
       " 'price',\n",
       " 'they',\n",
       " 'charge',\n",
       " 'while',\n",
       " 'the',\n",
       " 'taste',\n",
       " 'is',\n",
       " 'moderate',\n",
       " 'the',\n",
       " 'biggest',\n",
       " 'turn',\n",
       " 'off',\n",
       " 'is',\n",
       " 'the',\n",
       " 'poor',\n",
       " 'service',\n",
       " 'and',\n",
       " 'totally',\n",
       " 'unresponsive',\n",
       " 'staff',\n",
       " 'they',\n",
       " 'are',\n",
       " 'either',\n",
       " 'understaffed',\n",
       " 'or',\n",
       " 'poorly',\n",
       " 'trained',\n",
       " 'i',\n",
       " 'didn',\n",
       " 't',\n",
       " 'get',\n",
       " 'to',\n",
       " 'taste',\n",
       " 'a',\n",
       " 'few',\n",
       " 'items',\n",
       " 'thanks',\n",
       " 'to',\n",
       " 'their',\n",
       " 'ever',\n",
       " 'busy',\n",
       " 'staff',\n",
       " 'and',\n",
       " 'ended',\n",
       " 'eating',\n",
       " 'what',\n",
       " 'was',\n",
       " 'served',\n",
       " 'please',\n",
       " 'learn',\n",
       " 'the',\n",
       " 'crowd',\n",
       " 'management',\n",
       " 'from',\n",
       " 'other',\n",
       " 'peers',\n",
       " 'like',\n",
       " 'maiyya',\n",
       " 'and',\n",
       " 'roti',\n",
       " 'ghar',\n",
       " 'rated',\n",
       " 'rated',\n",
       " 'n',\n",
       " 'one',\n",
       " 'of',\n",
       " 'my',\n",
       " 'colleagues',\n",
       " 'suggested',\n",
       " 'this',\n",
       " 'place',\n",
       " 'went',\n",
       " 'there',\n",
       " 'at',\n",
       " 'pm',\n",
       " 'and',\n",
       " 'place',\n",
       " 'wasnt',\n",
       " 'crowded',\n",
       " 'ambience',\n",
       " 'is',\n",
       " 'decent',\n",
       " 'and',\n",
       " 'cool',\n",
       " 'a',\n",
       " 'welcome',\n",
       " 'drink',\n",
       " 'appekai',\n",
       " 'saru',\n",
       " 'was',\n",
       " 'served',\n",
       " 'then',\n",
       " 'started',\n",
       " 'typical',\n",
       " 'baale',\n",
       " 'yele',\n",
       " 'uta',\n",
       " 'diffrerent',\n",
       " 'types',\n",
       " 'of',\n",
       " 'palya',\n",
       " 'kosambari',\n",
       " 'and',\n",
       " 'sides',\n",
       " 'then',\n",
       " 'came',\n",
       " 'masala',\n",
       " 'dosa',\n",
       " 'pulka',\n",
       " 'pulav',\n",
       " 'veg',\n",
       " 'rice',\n",
       " 'bath',\n",
       " 'masala',\n",
       " 'dosa',\n",
       " 'was',\n",
       " 'very',\n",
       " 'very',\n",
       " 'tasty',\n",
       " 'service',\n",
       " 'is',\n",
       " 'bit',\n",
       " 'fast',\n",
       " 'as',\n",
       " 'people',\n",
       " 'will',\n",
       " 'be',\n",
       " 'coming',\n",
       " 'but',\n",
       " 'they',\n",
       " 'will',\n",
       " 'make',\n",
       " 'it',\n",
       " 'slow',\n",
       " 'if',\n",
       " 'u',\n",
       " 'tell',\n",
       " 'them',\n",
       " 'to',\n",
       " 'then',\n",
       " 'comes',\n",
       " 'rice',\n",
       " 'with',\n",
       " 'sambar',\n",
       " 'rasam',\n",
       " 'daal',\n",
       " 'tambali',\n",
       " 'and',\n",
       " 'yes',\n",
       " 'dont',\n",
       " 'forget',\n",
       " 'to',\n",
       " 'eat',\n",
       " 'holige',\n",
       " 'payasam',\n",
       " 'and',\n",
       " 'icecream',\n",
       " 'service',\n",
       " 'is',\n",
       " 'very',\n",
       " 'nice',\n",
       " 'one',\n",
       " 'best',\n",
       " 'thing',\n",
       " 'is',\n",
       " 'all',\n",
       " 'of',\n",
       " 'this',\n",
       " 'comes',\n",
       " 'in',\n",
       " 'just',\n",
       " 'rs',\n",
       " 'and',\n",
       " 'its',\n",
       " 'unlimited',\n",
       " 'what',\n",
       " 'else',\n",
       " 'you',\n",
       " 'want',\n",
       " 'a',\n",
       " 'must',\n",
       " 'visit',\n",
       " 'place',\n",
       " 'for',\n",
       " 'south',\n",
       " 'indian',\n",
       " 'foodie',\n",
       " 'rated',\n",
       " 'rated',\n",
       " 'n',\n",
       " 'been',\n",
       " 'here',\n",
       " 'last',\n",
       " 'week',\n",
       " 'with',\n",
       " 'high',\n",
       " 'expectations',\n",
       " 'based',\n",
       " 'on',\n",
       " 'few',\n",
       " 'reviews',\n",
       " 'but',\n",
       " 'utterly',\n",
       " 'disappointed',\n",
       " 'with',\n",
       " 'the',\n",
       " 'food',\n",
       " 'quality',\n",
       " 'taste',\n",
       " 'i',\n",
       " 'feel',\n",
       " 'it',\n",
       " 's',\n",
       " 'an',\n",
       " 'overhyped',\n",
       " 'place',\n",
       " 'there',\n",
       " 'are',\n",
       " 'many',\n",
       " 'better',\n",
       " 'places',\n",
       " 'in',\n",
       " 'the',\n",
       " 'vicinity',\n",
       " 'for',\n",
       " 'plantain',\n",
       " 'leaf',\n",
       " 'meal',\n",
       " 'there',\n",
       " 'was',\n",
       " 'too',\n",
       " 'much',\n",
       " 'of',\n",
       " 'waiting',\n",
       " 'these',\n",
       " 'staffs',\n",
       " 'were',\n",
       " 'too',\n",
       " 'hurry',\n",
       " 'in',\n",
       " 'serving',\n",
       " 'food',\n",
       " 'asking',\n",
       " 'people',\n",
       " 'to',\n",
       " 'finish',\n",
       " 'meal',\n",
       " 'leave',\n",
       " 'quickly',\n",
       " 'i',\n",
       " 'can',\n",
       " 'understand',\n",
       " 'there',\n",
       " 'is',\n",
       " 'a',\n",
       " 'waiting',\n",
       " 'and',\n",
       " 'staffs',\n",
       " 'should',\n",
       " 'approach',\n",
       " 'in',\n",
       " 'a',\n",
       " 'positive',\n",
       " 'way',\n",
       " 'i',\n",
       " 'will',\n",
       " 'never',\n",
       " 'go',\n",
       " 'there',\n",
       " 'again',\n",
       " 'n',\n",
       " 'nbangaloreepicure',\n",
       " ...]"
      ]
     },
     "execution_count": 39,
     "metadata": {},
     "output_type": "execute_result"
    }
   ],
   "source": [
    "tokenizer.tokenize(quick_bites['reviews_list'][3])"
   ]
  },
  {
   "cell_type": "markdown",
   "id": "5275f240-003b-4795-bec3-0e8cd6dff45e",
   "metadata": {},
   "source": [
    "### Creating sample dataframe which contaiins first 1000 rows "
   ]
  },
  {
   "cell_type": "code",
   "execution_count": 40,
   "id": "b790e0f0-b748-4fcc-803b-cca624a95b5a",
   "metadata": {},
   "outputs": [],
   "source": [
    "sample = data[0:10000]"
   ]
  },
  {
   "cell_type": "markdown",
   "id": "fb077178-909e-478e-9ec6-be2b64ccaca4",
   "metadata": {},
   "source": [
    "### Applying the tokenization on the sample datframe"
   ]
  },
  {
   "cell_type": "code",
   "execution_count": 41,
   "id": "fd048b4f-8bae-47e8-9fb4-52b9bd42d7ba",
   "metadata": {},
   "outputs": [],
   "source": [
    "reviews_tokens = sample['reviews_list'].apply(tokenizer.tokenize)"
   ]
  },
  {
   "cell_type": "markdown",
   "id": "f5a162ee-8e2e-47e8-bb71-f831ad7e50c1",
   "metadata": {},
   "source": [
    "### Importing Stopwords module to remove the stopwords from the dataframe"
   ]
  },
  {
   "cell_type": "code",
   "execution_count": 42,
   "id": "eb60a499-c2d5-4a7c-9045-13eca943027c",
   "metadata": {},
   "outputs": [],
   "source": [
    "import nltk"
   ]
  },
  {
   "cell_type": "code",
   "execution_count": 43,
   "id": "9478975f-5e08-4c4e-aa57-0913dafeeaa1",
   "metadata": {},
   "outputs": [],
   "source": [
    "from nltk.corpus import stopwords"
   ]
  },
  {
   "cell_type": "markdown",
   "id": "91ebdb69-69e9-4180-b63b-83ec06bc001f",
   "metadata": {},
   "source": [
    "### Creating the list of the stopwords "
   ]
  },
  {
   "cell_type": "code",
   "execution_count": 44,
   "id": "ce1ccc76-e6ad-4653-aff5-245c2cb10fe9",
   "metadata": {},
   "outputs": [],
   "source": [
    "stop = stopwords.words('english')"
   ]
  },
  {
   "cell_type": "markdown",
   "id": "3c3ad7c8-0dd3-42ee-b81e-c107a1e27a1e",
   "metadata": {},
   "source": [
    "### Printing the stopwords dataframe "
   ]
  },
  {
   "cell_type": "code",
   "execution_count": 45,
   "id": "a28ccec4-8c81-4793-9cb9-a4b9483b7bb4",
   "metadata": {},
   "outputs": [
    {
     "name": "stdout",
     "output_type": "stream",
     "text": [
      "['i', 'me', 'my', 'myself', 'we', 'our', 'ours', 'ourselves', 'you', \"you're\", \"you've\", \"you'll\", \"you'd\", 'your', 'yours', 'yourself', 'yourselves', 'he', 'him', 'his', 'himself', 'she', \"she's\", 'her', 'hers', 'herself', 'it', \"it's\", 'its', 'itself', 'they', 'them', 'their', 'theirs', 'themselves', 'what', 'which', 'who', 'whom', 'this', 'that', \"that'll\", 'these', 'those', 'am', 'is', 'are', 'was', 'were', 'be', 'been', 'being', 'have', 'has', 'had', 'having', 'do', 'does', 'did', 'doing', 'a', 'an', 'the', 'and', 'but', 'if', 'or', 'because', 'as', 'until', 'while', 'of', 'at', 'by', 'for', 'with', 'about', 'against', 'between', 'into', 'through', 'during', 'before', 'after', 'above', 'below', 'to', 'from', 'up', 'down', 'in', 'out', 'on', 'off', 'over', 'under', 'again', 'further', 'then', 'once', 'here', 'there', 'when', 'where', 'why', 'how', 'all', 'any', 'both', 'each', 'few', 'more', 'most', 'other', 'some', 'such', 'no', 'nor', 'not', 'only', 'own', 'same', 'so', 'than', 'too', 'very', 's', 't', 'can', 'will', 'just', 'don', \"don't\", 'should', \"should've\", 'now', 'd', 'll', 'm', 'o', 're', 've', 'y', 'ain', 'aren', \"aren't\", 'couldn', \"couldn't\", 'didn', \"didn't\", 'doesn', \"doesn't\", 'hadn', \"hadn't\", 'hasn', \"hasn't\", 'haven', \"haven't\", 'isn', \"isn't\", 'ma', 'mightn', \"mightn't\", 'mustn', \"mustn't\", 'needn', \"needn't\", 'shan', \"shan't\", 'shouldn', \"shouldn't\", 'wasn', \"wasn't\", 'weren', \"weren't\", 'won', \"won't\", 'wouldn', \"wouldn't\"]\n"
     ]
    }
   ],
   "source": [
    "print(stop)"
   ]
  },
  {
   "cell_type": "markdown",
   "id": "20edf1ab-44da-4ee1-8e2f-94c72838e935",
   "metadata": {},
   "source": [
    "### Extending the stopwords dataframe with the most common words in the sample dataframe but not in the stowords dataframe"
   ]
  },
  {
   "cell_type": "code",
   "execution_count": 46,
   "id": "3946e851-ce0a-40a9-b3cb-20d7279bd6a9",
   "metadata": {},
   "outputs": [],
   "source": [
    "stop.extend([\"rated\",\"n\",\"nan\",\"x\",\"RATED\",\"Rated\"])"
   ]
  },
  {
   "cell_type": "markdown",
   "id": "86acf8e4-a5e4-4f94-bc3a-c8d69294bcb4",
   "metadata": {},
   "source": [
    "### Printing the stopwords dataframe"
   ]
  },
  {
   "cell_type": "code",
   "execution_count": 47,
   "id": "8e1117e0-314a-40b6-8ce6-3f6bb48e8dc7",
   "metadata": {},
   "outputs": [
    {
     "name": "stdout",
     "output_type": "stream",
     "text": [
      "['i', 'me', 'my', 'myself', 'we', 'our', 'ours', 'ourselves', 'you', \"you're\", \"you've\", \"you'll\", \"you'd\", 'your', 'yours', 'yourself', 'yourselves', 'he', 'him', 'his', 'himself', 'she', \"she's\", 'her', 'hers', 'herself', 'it', \"it's\", 'its', 'itself', 'they', 'them', 'their', 'theirs', 'themselves', 'what', 'which', 'who', 'whom', 'this', 'that', \"that'll\", 'these', 'those', 'am', 'is', 'are', 'was', 'were', 'be', 'been', 'being', 'have', 'has', 'had', 'having', 'do', 'does', 'did', 'doing', 'a', 'an', 'the', 'and', 'but', 'if', 'or', 'because', 'as', 'until', 'while', 'of', 'at', 'by', 'for', 'with', 'about', 'against', 'between', 'into', 'through', 'during', 'before', 'after', 'above', 'below', 'to', 'from', 'up', 'down', 'in', 'out', 'on', 'off', 'over', 'under', 'again', 'further', 'then', 'once', 'here', 'there', 'when', 'where', 'why', 'how', 'all', 'any', 'both', 'each', 'few', 'more', 'most', 'other', 'some', 'such', 'no', 'nor', 'not', 'only', 'own', 'same', 'so', 'than', 'too', 'very', 's', 't', 'can', 'will', 'just', 'don', \"don't\", 'should', \"should've\", 'now', 'd', 'll', 'm', 'o', 're', 've', 'y', 'ain', 'aren', \"aren't\", 'couldn', \"couldn't\", 'didn', \"didn't\", 'doesn', \"doesn't\", 'hadn', \"hadn't\", 'hasn', \"hasn't\", 'haven', \"haven't\", 'isn', \"isn't\", 'ma', 'mightn', \"mightn't\", 'mustn', \"mustn't\", 'needn', \"needn't\", 'shan', \"shan't\", 'shouldn', \"shouldn't\", 'wasn', \"wasn't\", 'weren', \"weren't\", 'won', \"won't\", 'wouldn', \"wouldn't\", 'rated', 'n', 'nan', 'x', 'RATED', 'Rated']\n"
     ]
    }
   ],
   "source": [
    "print(stop)"
   ]
  },
  {
   "cell_type": "markdown",
   "id": "b2ecf890-bc33-43f5-84f8-b618187c3109",
   "metadata": {},
   "source": [
    "### Taking the 3rd index row from the dataframe"
   ]
  },
  {
   "cell_type": "code",
   "execution_count": 48,
   "id": "1eced4c8-0e13-4550-938a-105ad7b30df8",
   "metadata": {},
   "outputs": [
    {
     "name": "stdout",
     "output_type": "stream",
     "text": [
      "['Rated', 'RATED', 'n', 'Great', 'food', 'and', 'proper', 'Karnataka', 'style', 'full', 'meals', 'Been', 'there', 'twice', 'and', 'was', 'fully', 'satisfied', 'Will', 'give', 'stars', 'if', 'it', 's', 'well', 'managed', 'Rated', 'RATED', 'n', 'Reached', 'the', 'place', 'at', 'pm', 'on', 'Saturday', 'Half', 'of', 'the', 'items', 'on', 'the', 'menu', 'were', 'over', 'What', 'was', 'annoying', 'was', 'is', 'the', 'food', 'was', 'cold', 'The', 'taste', 'was', 'also', 'very', 'average', 'Only', 'dosa', 'and', 'holige', 'were', 'good', 'There', 'were', 'very', 'few', 'people', 'in', 'the', 'restaurant', 'and', 'the', 'service', 'was', 'still', 'very', 'slow', 'The', 'waiters', 'were', 'all', 'standing', 'in', 'one', 'corner', 'and', 'talking', 'Had', 'to', 'call', 'them', 'repeatedly', 'Rated', 'RATED', 'n', 'Had', 'been', 'here', 'good', 'food', 'served', 'and', 'tasty', 'good', 'place', 'to', 'go', 'with', 'freinds', 'and', 'family', 'should', 'be', 'first', 'to', 'get', 'served', 'well', 'with', 'all', 'food', 'One', 'of', 'the', 'good', 'hotel', 'there', 'for', 'this', 'price', 'Rated', 'RATED', 'n', 'How', 'can', 'a', 'Udupi', 'restaurant', 'be', 'so', 'dirty', 'the', 'floor', 'the', 'walls', 'the', 'waiters', 'are', 'all', 'stained', 'in', 'food', 'Why', 'cant', 'they', 'clean', 'it', 'The', 'floor', 'even', 'had', 'decorative', 'colour', 'paper', 'every', 'where', 'and', 'lot', 'of', 'food', 'Now', 'coming', 'to', 'the', 'taste', 'of', 'the', 'food', 'it', 'was', 'pretty', 'decent', 'for', 'what', 'they', 'chargw', 'What', 'upset', 'us', 'was', 'the', 'menu', 'says', 'they', 'serve', 'thambuli', 'two', 'variety', 'of', 'rice', 'etc', 'but', 'they', 'were', 'all', 'over', 'at', 'but', 'they', 'still', 'charged', 'us', 'full', 'amount', 'Lastly', 'if', 'u', 'r', 'ok', 'to', 'b', 'seated', 'with', 'random', 'people', 'and', 'adjust', 'with', 'their', 'table', 'manners', 'burrping', 'etc', 'then', 'tis', 'place', 'is', 'decent', 'for', 'a', 'quick', 'veg', 'udupi', 'meals', 'Rated', 'RATED', 'n', 'Aadhuri', 'Udupi', 'bhojana', 'is', 'one', 'of', 'the', 'best', 'vegetarian', 'hotel', 'in', 'and', 'around', 'Banashankari', 'locality', 'nwere', 'we', 'can', 'enjoy', 'the', 'authentic', 'south', 'Karnataka', 'style', 'food', 'Rated', 'RATED', 'n', 'One', 'of', 'the', 'best', 'restaurants', 'for', 'unlimited', 'food', 'Price', 'for', 'one', 'full', 'unlimited', 'meal', 'is', 'and', 'the', 'service', 'is', 'awesome', 'here', 'If', 'you', 'x', 'x', 'x', 'x', 'x', 'x', 'x', 'x', 're', 'a', 'costalian', 'you', 'will', 'love', 'the', 'food', 'served', 'here', 'Rated', 'RATED', 'n', 'Been', 'here', 'a', 'couple', 'of', 'times', 'Highly', 'satisfying', 'on', 'both', 'the', 'ocassions', 'Great', 'food', 'Decent', 'service', 'At', 'price', 'of', 'per', 'person', 'it', 'is', 'of', 'a', 'great', 'value', 'The', 'staff', 'here', 'serves', 'in', 'a', 'traditional', 'Mysore', 'style', 'dresses', 'The', 'food', 'is', 'authentic', 'Karnataka', 'meals', 'I', 'really', 'liked', 'the', 'pineapple', 'pickle', 'chutney', 'They', 'serve', 'some', 'varities', 'of', 'rice', 'of', 'which', 'you', 'shouldn', 't', 'try', 'all', 'as', 'you', 'would', 'already', 'be', 'full', 'Roti', 'Dosa', 'were', 'decent', 'In', 'the', 'deserts', 'Payasam', 'Holige', 'were', 'good', 'nI', 'think', 'it', 'is', 'one', 'the', 'must', 'try', 'places', 'to', 'try', 'some', 'authentic', 'south', 'food', 'even', 'if', 'you', 'have', 'been', 'to', 'the', 'likes', 'of', 'Kamath', 'etc', 'this', 'one', 'is', 'a', 'little', 'different', 'Rated', 'RATED', 'n', 'Very', 'good', 'restorent', 'good', 'south', 'Indian', 'food', 'very', 'nice', 'all', 'food', 's', 'are', 'good', 'we', 'spent', 'good', 'time', 'and', 'food', 'in', 'this', 'hotel', 'value', 'of', 'money', 'we', 'loved', 'it', 'Rated', 'RATED', 'n', 'I', 'went', 'to', 'this', 'restaurant', 'on', 'Sunday', 'afternoon', 'It', 'was', 'a', 'bit', 'crowded', 'n', 'nIts', 'located', 'in', 'the', 'st', 'floor', 'Above', 'anna', 'kuteera', 'kathriguppe', 'n', 'nYou', 'need', 'to', 'take', 'food', 'coupon', 'in', 'the', 'ground', 'floor', 'itself', 'nit', 'was', 'rs', 'n', 'nTaste', 'wise', 'it', 'was', 'good', 'nService', 'was', 'slow', 'nNothing', 'exciting', 'different', 'in', 'the', 'menu', 'nWhatever', 'they', 'serve', 'its', 'good', 'nWorth', 'for', 'money', 'Rated', 'RATED', 'n', 'Awesome', 'place', 'worth', 'with', 'price', 'quality', 'quantity', 'service', 'hygiene', 'and', 'discipline', 'I', 'loved', 'it', 'wish', 'there', 'were', 'more', 'rating', 'stars', 'to', 'give', 'I', 'give', 'on', 'for', 'sure', 'Rated', 'RATED', 'n', 'Nice', 'food', 'good', 'ambiance', 'so', 'many', 'verity', 'of', 'food', 'this', 'time', 'i', 'was', 'in', 'hurry', 'so', 'next', 'review', 'will', 'be', 'detailed', 'one', 'Its', 'good', 'to', 'see', 'all', 'dishes', 'at', 'one', 'place', 'Rated', 'RATED', 'n', 'The', 'food', 'was', 'not', 'satisfactory', 'Not', 'one', 'item', 'served', 'could', 'be', 'eaten', 'again', 'Only', 'advantage', 'is', 'the', 'price', 'but', 'even', 'that', 'is', 'not', 'going', 'to', 'be', 'enough', 'to', 'make', 'me', 'visit', 'the', 'place', 'again', 'Dear', 'Udupi', 'staff', 'people', 'wouldn', 'x', 'x', 'x', 'x', 'x', 'x', 'x', 'x', 't', 'mind', 'if', 'the', 'food', 'quality', 'was', 'better', 'for', 'a', 'higher', 'price', 'and', 'please', 'get', 'more', 'fans', 'so', 'that', 'people', 'won', 'x', 'x', 'x', 'x', 'x', 'x', 'x', 'x', 't', 'have', 'to', 'deal', 'with', 'another', 'disappointment', 'of', 'sweating', 'while', 'eating', 'Rated', 'RATED', 'n', 'Excellent', 'quality', 'and', 'taste', 'more', 'variety', 'of', 'authentic', 'south', 'Indian', 'food', 'Excellent', 'service', 'Highly', 'recommended', 'Worth', 'the', 'money', 'we', 'pay', 'here', 'Rated', 'RATED', 'n', 'I', 'm', 'rating', 'only', 'because', 'of', 'the', 'large', 'number', 'of', 'items', 'they', 'serve', 'for', 'the', 'price', 'they', 'charge', 'While', 'the', 'taste', 'is', 'moderate', 'the', 'biggest', 'turn', 'off', 'is', 'the', 'poor', 'service', 'and', 'totally', 'unresponsive', 'staff', 'They', 'are', 'either', 'understaffed', 'or', 'poorly', 'trained', 'I', 'didn', 't', 'get', 'to', 'taste', 'a', 'few', 'items', 'thanks', 'to', 'their', 'ever', 'busy', 'staff', 'and', 'ended', 'eating', 'what', 'was', 'served', 'Please', 'learn', 'the', 'crowd', 'management', 'from', 'other', 'peers', 'like', 'maiyya', 'and', 'roti', 'ghar', 'Rated', 'RATED', 'n', 'One', 'of', 'my', 'colleagues', 'suggested', 'this', 'place', 'Went', 'there', 'at', 'pm', 'and', 'place', 'wasnt', 'crowded', 'Ambience', 'is', 'decent', 'and', 'cool', 'A', 'welcome', 'drink', 'appekai', 'saru', 'was', 'served', 'Then', 'started', 'typical', 'baale', 'yele', 'uta', 'Diffrerent', 'types', 'of', 'palya', 'kosambari', 'and', 'sides', 'Then', 'came', 'masala', 'dosa', 'pulka', 'pulav', 'veg', 'rice', 'bath', 'Masala', 'dosa', 'was', 'very', 'very', 'tasty', 'Service', 'is', 'bit', 'fast', 'as', 'people', 'will', 'be', 'coming', 'but', 'they', 'will', 'make', 'it', 'slow', 'if', 'u', 'tell', 'them', 'to', 'Then', 'comes', 'rice', 'with', 'sambar', 'rasam', 'daal', 'tambali', 'And', 'yes', 'dont', 'forget', 'to', 'eat', 'holige', 'payasam', 'and', 'icecream', 'Service', 'is', 'very', 'nice', 'One', 'best', 'thing', 'is', 'all', 'of', 'this', 'comes', 'in', 'just', 'rs', 'and', 'its', 'unlimited', 'What', 'else', 'you', 'want', 'A', 'must', 'visit', 'place', 'for', 'south', 'indian', 'foodie', 'Rated', 'RATED', 'n', 'Been', 'here', 'last', 'week', 'with', 'high', 'expectations', 'based', 'on', 'few', 'reviews', 'But', 'utterly', 'disappointed', 'with', 'the', 'food', 'quality', 'taste', 'I', 'feel', 'it', 's', 'an', 'overhyped', 'place', 'There', 'are', 'many', 'better', 'places', 'in', 'the', 'vicinity', 'for', 'Plantain', 'leaf', 'meal', 'There', 'was', 'too', 'much', 'of', 'waiting', 'these', 'staffs', 'were', 'too', 'hurry', 'in', 'serving', 'food', 'asking', 'people', 'to', 'finish', 'meal', 'leave', 'quickly', 'I', 'can', 'understand', 'there', 'is', 'a', 'waiting', 'and', 'staffs', 'should', 'approach', 'in', 'a', 'positive', 'way', 'I', 'will', 'never', 'go', 'there', 'again', 'n', 'nbangaloreepicure', 'com', 'Rated', 'RATED', 'n', 'I', 'have', 'a', 'confession', 'being', 'a', 'south', 'Indian', 'I', 'distaste', 'south', 'Indian', 'food', 'not', 'that', 'I', 'hate', 'it', 'I', 'don', 't', 'like', 'it', 'either', 'But', 'still', 'made', 'up', 'my', 'mind', 'on', 'Sankaranti', 'to', 'have', 'authentic', 'south', 'Indian', 'food', 'visited', 'Adduri', 'Udupi', 'Bhojana', 'because', 'it', 'was', 'close', 'to', 'my', 'place', 'I', 'just', 'had', 'a', 'look', 'at', 'the', 'menu', 'told', 'myself', 'that', 'I', 'can', 'do', 'it', 'I', 'am', 'not', 'blessed', 'with', 'a', 'tremendous', 'appetite', 'welcomed', 'with', 'the', 'mango', 'soup', 'followed', 'by', 'the', 'wide', 'variety', 'of', 'dishes', 'served', 'I', 'have', 'developed', 'the', 'new', 'love', 'for', 'Pongal', 'both', 'sweet', 'and', 'Khara', 'I', 'can', 'still', 'feel', 'the', 'taste', 'of', 'the', 'ghee', 'bursting', 'in', 'my', 'mouth', 'but', 'it', 'was', 'kai', 'holige', 'that', 'made', 'my', 'day', 'crisp', 'and', 'soft', 'not', 'to', 'forget', 'food', 'is', 'served', 'on', 'a', 'banana', 'leaf', 'that', 'adds', 'in', 'more', 'flavor', 'and', 'taste', 'waiters', 'are', 'attentive', 'and', 'responsive', 'The', 'customer', 's', 'needs', 'are', 'monitored', 'and', 'addressed', 'so', 'much', 'variety', 'for', 'just', 'Rs', 'without', 'compromising', 'on', 'quantity', 'and', 'quality', 'and', 'yes', 'it', 'is', 'unlimited', 'This', 'visit', 'turned', 'out', 'to', 'be', 'a', 'surprise', 'package', 'Rated', 'RATED', 'n', 'Food', 'is', 'good', 'nNo', 'parking', 'nAmbience', 'is', 'average', 'nOverall', 'its', 'value', 'for', 'money', 'if', 'you', 'looking', 'for', 'south', 'Indian', 'food', 'nPreferred', 'the', 'tiffin', 'items', 'Rated', 'RATED', 'n', 'Been', 'here', 'last', 'week', 'with', 'high', 'expectations', 'based', 'on', 'few', 'reviews', 'But', 'utterly', 'disappointed', 'with', 'the', 'food', 'quality', 'taste', 'I', 'feel', 'it', 's', 'an', 'overhyped', 'place', 'There', 'are', 'many', 'better', 'places', 'in', 'the', 'vicinity', 'for', 'Plantain', 'leaf', 'meal', 'There', 'was', 'too', 'much', 'of', 'waiting', 'these', 'staffs', 'were', 'too', 'hurry', 'in', 'serving', 'food', 'asking', 'people', 'to', 'finish', 'meal', 'leave', 'quickly', 'I', 'can', 'understand', 'there', 'is', 'a', 'waiting', 'and', 'staffs', 'should', 'approach', 'in', 'a', 'positive', 'way', 'I', 'will', 'never', 'go', 'there', 'again', 'n', 'nbangaloreepicure', 'com', 'Rated', 'RATED', 'n', 'I', 'have', 'a', 'confession', 'being', 'a', 'south', 'Indian', 'I', 'distaste', 'south', 'Indian', 'food', 'not', 'that', 'I', 'hate', 'it', 'I', 'don', 't', 'like', 'it', 'either', 'But', 'still', 'made', 'up', 'my', 'mind', 'on', 'Sankaranti', 'to', 'have', 'authentic', 'south', 'Indian', 'food', 'visited', 'Adduri', 'Udupi', 'Bhojana', 'because', 'it', 'was', 'close', 'to', 'my', 'place', 'I', 'just', 'had', 'a', 'look', 'at', 'the', 'menu', 'told', 'myself', 'that', 'I', 'can', 'do', 'it', 'I', 'am', 'not', 'blessed', 'with', 'a', 'tremendous', 'appetite', 'welcomed', 'with', 'the', 'mango', 'soup', 'followed', 'by', 'the', 'wide', 'variety', 'of', 'dishes', 'served', 'I', 'have', 'developed', 'the', 'new', 'love', 'for', 'Pongal', 'both', 'sweet', 'and', 'Khara', 'I', 'can', 'still', 'feel', 'the', 'taste', 'of', 'the', 'ghee', 'bursting', 'in', 'my', 'mouth', 'but', 'it', 'was', 'kai', 'holige', 'that', 'made', 'my', 'day', 'crisp', 'and', 'soft', 'not', 'to', 'forget', 'food', 'is', 'served', 'on', 'a', 'banana', 'leaf', 'that', 'adds', 'in', 'more', 'flavor', 'and', 'taste', 'waiters', 'are', 'attentive', 'and', 'responsive', 'The', 'customer', 's', 'needs', 'are', 'monitored', 'and', 'addressed', 'so', 'much', 'variety', 'for', 'just', 'Rs', 'without', 'compromising', 'on', 'quantity', 'and', 'quality', 'and', 'yes', 'it', 'is', 'unlimited', 'This', 'visit', 'turned', 'out', 'to', 'be', 'a', 'surprise', 'package', 'Rated', 'RATED', 'n', 'Food', 'is', 'good', 'nNo', 'parking', 'nAmbience', 'is', 'average', 'nOverall', 'its', 'value', 'for', 'money', 'if', 'you', 'looking', 'for', 'south', 'Indian', 'food', 'nPreferred', 'the', 'tiffin', 'items', 'Rated', 'RATED', 'n', 'Been', 'here', 'last', 'week', 'with', 'high', 'expectations', 'based', 'on', 'few', 'reviews', 'But', 'utterly', 'disappointed', 'with', 'the', 'food', 'quality', 'taste', 'I', 'feel', 'it', 's', 'an', 'overhyped', 'place', 'There', 'are', 'many', 'better', 'places', 'in', 'the', 'vicinity', 'for', 'Plantain', 'leaf', 'meal', 'There', 'was', 'too', 'much', 'of', 'waiting', 'these', 'staffs', 'were', 'too', 'hurry', 'in', 'serving', 'food', 'asking', 'people', 'to', 'finish', 'meal', 'leave', 'quickly', 'I', 'can', 'understand', 'there', 'is', 'a', 'waiting', 'and', 'staffs', 'should', 'approach', 'in', 'a', 'positive', 'way', 'I', 'will', 'never', 'go', 'there', 'again', 'n', 'nbangaloreepicure', 'com', 'Rated', 'RATED', 'n', 'I', 'have', 'a', 'confession', 'being', 'a', 'south', 'Indian', 'I', 'distaste', 'south', 'Indian', 'food', 'not', 'that', 'I', 'hate', 'it', 'I', 'don', 't', 'like', 'it', 'either', 'But', 'still', 'made', 'up', 'my', 'mind', 'on', 'Sankaranti', 'to', 'have', 'authentic', 'south', 'Indian', 'food', 'visited', 'Adduri', 'Udupi', 'Bhojana', 'because', 'it', 'was', 'close', 'to', 'my', 'place', 'I', 'just', 'had', 'a', 'look', 'at', 'the', 'menu', 'told', 'myself', 'that', 'I', 'can', 'do', 'it', 'I', 'am', 'not', 'blessed', 'with', 'a', 'tremendous', 'appetite', 'welcomed', 'with', 'the', 'mango', 'soup', 'followed', 'by', 'the', 'wide', 'variety', 'of', 'dishes', 'served', 'I', 'have', 'developed', 'the', 'new', 'love', 'for', 'Pongal', 'both', 'sweet', 'and', 'Khara', 'I', 'can', 'still', 'feel', 'the', 'taste', 'of', 'the', 'ghee', 'bursting', 'in', 'my', 'mouth', 'but', 'it', 'was', 'kai', 'holige', 'that', 'made', 'my', 'day', 'crisp', 'and', 'soft', 'not', 'to', 'forget', 'food', 'is', 'served', 'on', 'a', 'banana', 'leaf', 'that', 'adds', 'in', 'more', 'flavor', 'and', 'taste', 'waiters', 'are', 'attentive', 'and', 'responsive', 'The', 'customer', 's', 'needs', 'are', 'monitored', 'and', 'addressed', 'so', 'much', 'variety', 'for', 'just', 'Rs', 'without', 'compromising', 'on', 'quantity', 'and', 'quality', 'and', 'yes', 'it', 'is', 'unlimited', 'This', 'visit', 'turned', 'out', 'to', 'be', 'a', 'surprise', 'package', 'Rated', 'RATED', 'n', 'Food', 'is', 'good', 'nNo', 'parking', 'nAmbience', 'is', 'average', 'nOverall', 'its', 'value', 'for', 'money', 'if', 'you', 'looking', 'for', 'south', 'Indian', 'food', 'nPreferred', 'the', 'tiffin', 'items', 'Rated', 'RATED', 'n', 'Been', 'here', 'last', 'week', 'with', 'high', 'expectations', 'based', 'on', 'few', 'reviews', 'But', 'utterly', 'disappointed', 'with', 'the', 'food', 'quality', 'taste', 'I', 'feel', 'it', 's', 'an', 'overhyped', 'place', 'There', 'are', 'many', 'better', 'places', 'in', 'the', 'vicinity', 'for', 'Plantain', 'leaf', 'meal', 'There', 'was', 'too', 'much', 'of', 'waiting', 'these', 'staffs', 'were', 'too', 'hurry', 'in', 'serving', 'food', 'asking', 'people', 'to', 'finish', 'meal', 'leave', 'quickly', 'I', 'can', 'understand', 'there', 'is', 'a', 'waiting', 'and', 'staffs', 'should', 'approach', 'in', 'a', 'positive', 'way', 'I', 'will', 'never', 'go', 'there', 'again', 'n', 'nbangaloreepicure', 'com', 'Rated', 'RATED', 'n', 'I', 'have', 'a', 'confession', 'being', 'a', 'south', 'Indian', 'I', 'distaste', 'south', 'Indian', 'food', 'not', 'that', 'I', 'hate', 'it', 'I', 'don', 't', 'like', 'it', 'either', 'But', 'still', 'made', 'up', 'my', 'mind', 'on', 'Sankaranti', 'to', 'have', 'authentic', 'south', 'Indian', 'food', 'visited', 'Adduri', 'Udupi', 'Bhojana', 'because', 'it', 'was', 'close', 'to', 'my', 'place', 'I', 'just', 'had', 'a', 'look', 'at', 'the', 'menu', 'told', 'myself', 'that', 'I', 'can', 'do', 'it', 'I', 'am', 'not', 'blessed', 'with', 'a', 'tremendous', 'appetite', 'welcomed', 'with', 'the', 'mango', 'soup', 'followed', 'by', 'the', 'wide', 'variety', 'of', 'dishes', 'served', 'I', 'have', 'developed', 'the', 'new', 'love', 'for', 'Pongal', 'both', 'sweet', 'and', 'Khara', 'I', 'can', 'still', 'feel', 'the', 'taste', 'of', 'the', 'ghee', 'bursting', 'in', 'my', 'mouth', 'but', 'it', 'was', 'kai', 'holige', 'that', 'made', 'my', 'day', 'crisp', 'and', 'soft', 'not', 'to', 'forget', 'food', 'is', 'served', 'on', 'a', 'banana', 'leaf', 'that', 'adds', 'in', 'more', 'flavor', 'and', 'taste', 'waiters', 'are', 'attentive', 'and', 'responsive', 'The', 'customer', 's', 'needs', 'are', 'monitored', 'and', 'addressed', 'so', 'much', 'variety', 'for', 'just', 'Rs', 'without', 'compromising', 'on', 'quantity', 'and', 'quality', 'and', 'yes', 'it', 'is', 'unlimited', 'This', 'visit', 'turned', 'out', 'to', 'be', 'a', 'surprise', 'package', 'Rated', 'RATED', 'n', 'Food', 'is', 'good', 'nNo', 'parking', 'nAmbience', 'is', 'average', 'nOverall', 'its', 'value', 'for', 'money', 'if', 'you', 'looking', 'for', 'south', 'Indian', 'food', 'nPreferred', 'the', 'tiffin', 'items', 'Rated', 'RATED', 'n', 'Been', 'here', 'last', 'week', 'with', 'high', 'expectations', 'based', 'on', 'few', 'reviews', 'But', 'utterly', 'disappointed', 'with', 'the', 'food', 'quality', 'taste', 'I', 'feel', 'it', 's', 'an', 'overhyped', 'place', 'There', 'are', 'many', 'better', 'places', 'in', 'the', 'vicinity', 'for', 'Plantain', 'leaf', 'meal', 'There', 'was', 'too', 'much', 'of', 'waiting', 'these', 'staffs', 'were', 'too', 'hurry', 'in', 'serving', 'food', 'asking', 'people', 'to', 'finish', 'meal', 'leave', 'quickly', 'I', 'can', 'understand', 'there', 'is', 'a', 'waiting', 'and', 'staffs', 'should', 'approach', 'in', 'a', 'positive', 'way', 'I', 'will', 'never', 'go', 'there', 'again', 'n', 'nbangaloreepicure', 'com', 'Rated', 'RATED', 'n', 'I', 'have', 'a', 'confession', 'being', 'a', 'south', 'Indian', 'I', 'distaste', 'south', 'Indian', 'food', 'not', 'that', 'I', 'hate', 'it', 'I', 'don', 't', 'like', 'it', 'either', 'But', 'still', 'made', 'up', 'my', 'mind', 'on', 'Sankaranti', 'to', 'have', 'authentic', 'south', 'Indian', 'food', 'visited', 'Adduri', 'Udupi', 'Bhojana', 'because', 'it', 'was', 'close', 'to', 'my', 'place', 'I', 'just', 'had', 'a', 'look', 'at', 'the', 'menu', 'told', 'myself', 'that', 'I', 'can', 'do', 'it', 'I', 'am', 'not', 'blessed', 'with', 'a', 'tremendous', 'appetite', 'welcomed', 'with', 'the', 'mango', 'soup', 'followed', 'by', 'the', 'wide', 'variety', 'of', 'dishes', 'served', 'I', 'have', 'developed', 'the', 'new', 'love', 'for', 'Pongal', 'both', 'sweet', 'and', 'Khara', 'I', 'can', 'still', 'feel', 'the', 'taste', 'of', 'the', 'ghee', 'bursting', 'in', 'my', 'mouth', 'but', 'it', 'was', 'kai', 'holige', 'that', 'made', 'my', 'day', 'crisp', 'and', 'soft', 'not', 'to', 'forget', 'food', 'is', 'served', 'on', 'a', 'banana', 'leaf', 'that', 'adds', 'in', 'more', 'flavor', 'and', 'taste', 'waiters', 'are', 'attentive', 'and', 'responsive', 'The', 'customer', 's', 'needs', 'are', 'monitored', 'and', 'addressed', 'so', 'much', 'variety', 'for', 'just', 'Rs', 'without', 'compromising', 'on', 'quantity', 'and', 'quality', 'and', 'yes', 'it', 'is', 'unlimited', 'This', 'visit', 'turned', 'out', 'to', 'be', 'a', 'surprise', 'package', 'Rated', 'RATED', 'n', 'Food', 'is', 'good', 'nNo', 'parking', 'nAmbience', 'is', 'average', 'nOverall', 'its', 'value', 'for', 'money', 'if', 'you', 'looking', 'for', 'south', 'Indian', 'food', 'nPreferred', 'the', 'tiffin', 'items', 'Rated', 'RATED', 'n', 'Had', 'been', 'on', 'a', 'week', 'night', 'for', 'an', 'authentic', 'south', 'Indian', 'food', 'I', 'personally', 'love', 'being', 'served', 'on', 'banyan', 'leaf', 'The', 'waiters', 'are', 'all', 'dressed', 'up', 'in', 'traditional', 'Mysore', 'attire', 'wearing', 'with', 'a', 'peta', 'The', 'food', 'was', 'delicious', 'and', 'definitely', 'worth', 'it', 's', 'price', 'The', 'waiters', 'are', 'friendly', 'and', 'serve', 'u', 'well', 'with', 'a', 'smile', 'The', 'food', 'is', 'prepared', 'without', 'garlic', 'which', 'is', 'a', 'plus', 'point', 'attracting', 'many', 'senior', 'customers', 'Rated', 'RATED', 'n', 'Food', 'is', 'good', 'and', 'enjoyed', 'With', 'Rs', 'is', 'very', 'nice', 'nNote', 'It', 'happen', 'with', 'us', 'n', 'If', 'you', 'going', 'TWO', 'people', 'you', 'may', 'need', 'to', 'share', 'the', 'table', 'there', 'Its', 'almost', 'crowed', 'n', 'You', 'have', 'to', 'sit', 'where', 'they', 'ask', 'you', 'can', 't', 'choose', 'even', 'if', 'all', 'the', 'table', 'are', 'empty', 'nJust', 'wait', 'eat', 'and', 'come', 'back', 'Rated', 'RATED', 'n', 'Excellent', 'Ambience', 'with', 'delicious', 'meals', 'with', 'variety', 'types', 'Worth', 'paying', 'for', 'money', 'and', 'you', 'can', 'dine', 'out', 'if', 'you', 'are', 'with', 'more', 'friends', 'relatives', 'in', 'home', 'Rated', 'RATED', 'n', 'Very', 'good', 'and', 'Unlimited', 'especially', 'masala', 'dosa', 'Service', 'and', 'ambience', 'was', 'also', 'good', 'will', 'visit', 'again', 'with', 'friends', 'very', 'very', 'reasonble', 'and', 'wholesome', 'food', 'Rated', 'RATED', 'n', 'Aaaa', 'wt', 'to', 'tell', 'Unlimited', 'food', 'food', 'was', 'like', 'exactly', 'like', 'south', 'indian', 'marriage', 'food', 'soups', 'sides', 'masala', 'dosa', 'all', 'were', 'unlimited', 'for', 'just', 'except', 'ice', 'cream', 'in', 'the', 'end', 'they', 'give', 'a', 'water', 'bottle', 'and', 'main', 'thing', 'is', 'have', 'patience', 'to', 'get', 'place', 'to', 'sit', 'there', 'is', 'no', 'parking', 'place', 'of', 'this', 'outlet', 'and', 'difficult', 'to', 'park', 'in', 'front', 'of', 'the', 'restaurants']\n"
     ]
    }
   ],
   "source": [
    "rev3 = reviews_tokens[3]\n",
    "print(rev3)"
   ]
  },
  {
   "cell_type": "markdown",
   "id": "4078e46a-19d7-4899-813c-64b35e170005",
   "metadata": {},
   "source": [
    "### Printing the words from rev3 datafrae which are not present in the stop dataframe"
   ]
  },
  {
   "cell_type": "code",
   "execution_count": 49,
   "id": "bcda609c-e9c5-4fb1-8076-2fa1ed31c78a",
   "metadata": {},
   "outputs": [
    {
     "name": "stdout",
     "output_type": "stream",
     "text": [
      "['Great', 'food', 'proper', 'Karnataka', 'style', 'full', 'meals', 'Been', 'twice', 'fully', 'satisfied', 'Will', 'give', 'stars', 'well', 'managed', 'Reached', 'place', 'pm', 'Saturday', 'Half', 'items', 'menu', 'What', 'annoying', 'food', 'cold', 'The', 'taste', 'also', 'average', 'Only', 'dosa', 'holige', 'good', 'There', 'people', 'restaurant', 'service', 'still', 'slow', 'The', 'waiters', 'standing', 'one', 'corner', 'talking', 'Had', 'call', 'repeatedly', 'Had', 'good', 'food', 'served', 'tasty', 'good', 'place', 'go', 'freinds', 'family', 'first', 'get', 'served', 'well', 'food', 'One', 'good', 'hotel', 'price', 'How', 'Udupi', 'restaurant', 'dirty', 'floor', 'walls', 'waiters', 'stained', 'food', 'Why', 'cant', 'clean', 'The', 'floor', 'even', 'decorative', 'colour', 'paper', 'every', 'lot', 'food', 'Now', 'coming', 'taste', 'food', 'pretty', 'decent', 'chargw', 'What', 'upset', 'us', 'menu', 'says', 'serve', 'thambuli', 'two', 'variety', 'rice', 'etc', 'still', 'charged', 'us', 'full', 'amount', 'Lastly', 'u', 'r', 'ok', 'b', 'seated', 'random', 'people', 'adjust', 'table', 'manners', 'burrping', 'etc', 'tis', 'place', 'decent', 'quick', 'veg', 'udupi', 'meals', 'Aadhuri', 'Udupi', 'bhojana', 'one', 'best', 'vegetarian', 'hotel', 'around', 'Banashankari', 'locality', 'nwere', 'enjoy', 'authentic', 'south', 'Karnataka', 'style', 'food', 'One', 'best', 'restaurants', 'unlimited', 'food', 'Price', 'one', 'full', 'unlimited', 'meal', 'service', 'awesome', 'If', 'costalian', 'love', 'food', 'served', 'Been', 'couple', 'times', 'Highly', 'satisfying', 'ocassions', 'Great', 'food', 'Decent', 'service', 'At', 'price', 'per', 'person', 'great', 'value', 'The', 'staff', 'serves', 'traditional', 'Mysore', 'style', 'dresses', 'The', 'food', 'authentic', 'Karnataka', 'meals', 'I', 'really', 'liked', 'pineapple', 'pickle', 'chutney', 'They', 'serve', 'varities', 'rice', 'try', 'would', 'already', 'full', 'Roti', 'Dosa', 'decent', 'In', 'deserts', 'Payasam', 'Holige', 'good', 'nI', 'think', 'one', 'must', 'try', 'places', 'try', 'authentic', 'south', 'food', 'even', 'likes', 'Kamath', 'etc', 'one', 'little', 'different', 'Very', 'good', 'restorent', 'good', 'south', 'Indian', 'food', 'nice', 'food', 'good', 'spent', 'good', 'time', 'food', 'hotel', 'value', 'money', 'loved', 'I', 'went', 'restaurant', 'Sunday', 'afternoon', 'It', 'bit', 'crowded', 'nIts', 'located', 'st', 'floor', 'Above', 'anna', 'kuteera', 'kathriguppe', 'nYou', 'need', 'take', 'food', 'coupon', 'ground', 'floor', 'nit', 'rs', 'nTaste', 'wise', 'good', 'nService', 'slow', 'nNothing', 'exciting', 'different', 'menu', 'nWhatever', 'serve', 'good', 'nWorth', 'money', 'Awesome', 'place', 'worth', 'price', 'quality', 'quantity', 'service', 'hygiene', 'discipline', 'I', 'loved', 'wish', 'rating', 'stars', 'give', 'I', 'give', 'sure', 'Nice', 'food', 'good', 'ambiance', 'many', 'verity', 'food', 'time', 'hurry', 'next', 'review', 'detailed', 'one', 'Its', 'good', 'see', 'dishes', 'one', 'place', 'The', 'food', 'satisfactory', 'Not', 'one', 'item', 'served', 'could', 'eaten', 'Only', 'advantage', 'price', 'even', 'going', 'enough', 'make', 'visit', 'place', 'Dear', 'Udupi', 'staff', 'people', 'mind', 'food', 'quality', 'better', 'higher', 'price', 'please', 'get', 'fans', 'people', 'deal', 'another', 'disappointment', 'sweating', 'eating', 'Excellent', 'quality', 'taste', 'variety', 'authentic', 'south', 'Indian', 'food', 'Excellent', 'service', 'Highly', 'recommended', 'Worth', 'money', 'pay', 'I', 'rating', 'large', 'number', 'items', 'serve', 'price', 'charge', 'While', 'taste', 'moderate', 'biggest', 'turn', 'poor', 'service', 'totally', 'unresponsive', 'staff', 'They', 'either', 'understaffed', 'poorly', 'trained', 'I', 'get', 'taste', 'items', 'thanks', 'ever', 'busy', 'staff', 'ended', 'eating', 'served', 'Please', 'learn', 'crowd', 'management', 'peers', 'like', 'maiyya', 'roti', 'ghar', 'One', 'colleagues', 'suggested', 'place', 'Went', 'pm', 'place', 'wasnt', 'crowded', 'Ambience', 'decent', 'cool', 'A', 'welcome', 'drink', 'appekai', 'saru', 'served', 'Then', 'started', 'typical', 'baale', 'yele', 'uta', 'Diffrerent', 'types', 'palya', 'kosambari', 'sides', 'Then', 'came', 'masala', 'dosa', 'pulka', 'pulav', 'veg', 'rice', 'bath', 'Masala', 'dosa', 'tasty', 'Service', 'bit', 'fast', 'people', 'coming', 'make', 'slow', 'u', 'tell', 'Then', 'comes', 'rice', 'sambar', 'rasam', 'daal', 'tambali', 'And', 'yes', 'dont', 'forget', 'eat', 'holige', 'payasam', 'icecream', 'Service', 'nice', 'One', 'best', 'thing', 'comes', 'rs', 'unlimited', 'What', 'else', 'want', 'A', 'must', 'visit', 'place', 'south', 'indian', 'foodie', 'Been', 'last', 'week', 'high', 'expectations', 'based', 'reviews', 'But', 'utterly', 'disappointed', 'food', 'quality', 'taste', 'I', 'feel', 'overhyped', 'place', 'There', 'many', 'better', 'places', 'vicinity', 'Plantain', 'leaf', 'meal', 'There', 'much', 'waiting', 'staffs', 'hurry', 'serving', 'food', 'asking', 'people', 'finish', 'meal', 'leave', 'quickly', 'I', 'understand', 'waiting', 'staffs', 'approach', 'positive', 'way', 'I', 'never', 'go', 'nbangaloreepicure', 'com', 'I', 'confession', 'south', 'Indian', 'I', 'distaste', 'south', 'Indian', 'food', 'I', 'hate', 'I', 'like', 'either', 'But', 'still', 'made', 'mind', 'Sankaranti', 'authentic', 'south', 'Indian', 'food', 'visited', 'Adduri', 'Udupi', 'Bhojana', 'close', 'place', 'I', 'look', 'menu', 'told', 'I', 'I', 'blessed', 'tremendous', 'appetite', 'welcomed', 'mango', 'soup', 'followed', 'wide', 'variety', 'dishes', 'served', 'I', 'developed', 'new', 'love', 'Pongal', 'sweet', 'Khara', 'I', 'still', 'feel', 'taste', 'ghee', 'bursting', 'mouth', 'kai', 'holige', 'made', 'day', 'crisp', 'soft', 'forget', 'food', 'served', 'banana', 'leaf', 'adds', 'flavor', 'taste', 'waiters', 'attentive', 'responsive', 'The', 'customer', 'needs', 'monitored', 'addressed', 'much', 'variety', 'Rs', 'without', 'compromising', 'quantity', 'quality', 'yes', 'unlimited', 'This', 'visit', 'turned', 'surprise', 'package', 'Food', 'good', 'nNo', 'parking', 'nAmbience', 'average', 'nOverall', 'value', 'money', 'looking', 'south', 'Indian', 'food', 'nPreferred', 'tiffin', 'items', 'Been', 'last', 'week', 'high', 'expectations', 'based', 'reviews', 'But', 'utterly', 'disappointed', 'food', 'quality', 'taste', 'I', 'feel', 'overhyped', 'place', 'There', 'many', 'better', 'places', 'vicinity', 'Plantain', 'leaf', 'meal', 'There', 'much', 'waiting', 'staffs', 'hurry', 'serving', 'food', 'asking', 'people', 'finish', 'meal', 'leave', 'quickly', 'I', 'understand', 'waiting', 'staffs', 'approach', 'positive', 'way', 'I', 'never', 'go', 'nbangaloreepicure', 'com', 'I', 'confession', 'south', 'Indian', 'I', 'distaste', 'south', 'Indian', 'food', 'I', 'hate', 'I', 'like', 'either', 'But', 'still', 'made', 'mind', 'Sankaranti', 'authentic', 'south', 'Indian', 'food', 'visited', 'Adduri', 'Udupi', 'Bhojana', 'close', 'place', 'I', 'look', 'menu', 'told', 'I', 'I', 'blessed', 'tremendous', 'appetite', 'welcomed', 'mango', 'soup', 'followed', 'wide', 'variety', 'dishes', 'served', 'I', 'developed', 'new', 'love', 'Pongal', 'sweet', 'Khara', 'I', 'still', 'feel', 'taste', 'ghee', 'bursting', 'mouth', 'kai', 'holige', 'made', 'day', 'crisp', 'soft', 'forget', 'food', 'served', 'banana', 'leaf', 'adds', 'flavor', 'taste', 'waiters', 'attentive', 'responsive', 'The', 'customer', 'needs', 'monitored', 'addressed', 'much', 'variety', 'Rs', 'without', 'compromising', 'quantity', 'quality', 'yes', 'unlimited', 'This', 'visit', 'turned', 'surprise', 'package', 'Food', 'good', 'nNo', 'parking', 'nAmbience', 'average', 'nOverall', 'value', 'money', 'looking', 'south', 'Indian', 'food', 'nPreferred', 'tiffin', 'items', 'Been', 'last', 'week', 'high', 'expectations', 'based', 'reviews', 'But', 'utterly', 'disappointed', 'food', 'quality', 'taste', 'I', 'feel', 'overhyped', 'place', 'There', 'many', 'better', 'places', 'vicinity', 'Plantain', 'leaf', 'meal', 'There', 'much', 'waiting', 'staffs', 'hurry', 'serving', 'food', 'asking', 'people', 'finish', 'meal', 'leave', 'quickly', 'I', 'understand', 'waiting', 'staffs', 'approach', 'positive', 'way', 'I', 'never', 'go', 'nbangaloreepicure', 'com', 'I', 'confession', 'south', 'Indian', 'I', 'distaste', 'south', 'Indian', 'food', 'I', 'hate', 'I', 'like', 'either', 'But', 'still', 'made', 'mind', 'Sankaranti', 'authentic', 'south', 'Indian', 'food', 'visited', 'Adduri', 'Udupi', 'Bhojana', 'close', 'place', 'I', 'look', 'menu', 'told', 'I', 'I', 'blessed', 'tremendous', 'appetite', 'welcomed', 'mango', 'soup', 'followed', 'wide', 'variety', 'dishes', 'served', 'I', 'developed', 'new', 'love', 'Pongal', 'sweet', 'Khara', 'I', 'still', 'feel', 'taste', 'ghee', 'bursting', 'mouth', 'kai', 'holige', 'made', 'day', 'crisp', 'soft', 'forget', 'food', 'served', 'banana', 'leaf', 'adds', 'flavor', 'taste', 'waiters', 'attentive', 'responsive', 'The', 'customer', 'needs', 'monitored', 'addressed', 'much', 'variety', 'Rs', 'without', 'compromising', 'quantity', 'quality', 'yes', 'unlimited', 'This', 'visit', 'turned', 'surprise', 'package', 'Food', 'good', 'nNo', 'parking', 'nAmbience', 'average', 'nOverall', 'value', 'money', 'looking', 'south', 'Indian', 'food', 'nPreferred', 'tiffin', 'items', 'Been', 'last', 'week', 'high', 'expectations', 'based', 'reviews', 'But', 'utterly', 'disappointed', 'food', 'quality', 'taste', 'I', 'feel', 'overhyped', 'place', 'There', 'many', 'better', 'places', 'vicinity', 'Plantain', 'leaf', 'meal', 'There', 'much', 'waiting', 'staffs', 'hurry', 'serving', 'food', 'asking', 'people', 'finish', 'meal', 'leave', 'quickly', 'I', 'understand', 'waiting', 'staffs', 'approach', 'positive', 'way', 'I', 'never', 'go', 'nbangaloreepicure', 'com', 'I', 'confession', 'south', 'Indian', 'I', 'distaste', 'south', 'Indian', 'food', 'I', 'hate', 'I', 'like', 'either', 'But', 'still', 'made', 'mind', 'Sankaranti', 'authentic', 'south', 'Indian', 'food', 'visited', 'Adduri', 'Udupi', 'Bhojana', 'close', 'place', 'I', 'look', 'menu', 'told', 'I', 'I', 'blessed', 'tremendous', 'appetite', 'welcomed', 'mango', 'soup', 'followed', 'wide', 'variety', 'dishes', 'served', 'I', 'developed', 'new', 'love', 'Pongal', 'sweet', 'Khara', 'I', 'still', 'feel', 'taste', 'ghee', 'bursting', 'mouth', 'kai', 'holige', 'made', 'day', 'crisp', 'soft', 'forget', 'food', 'served', 'banana', 'leaf', 'adds', 'flavor', 'taste', 'waiters', 'attentive', 'responsive', 'The', 'customer', 'needs', 'monitored', 'addressed', 'much', 'variety', 'Rs', 'without', 'compromising', 'quantity', 'quality', 'yes', 'unlimited', 'This', 'visit', 'turned', 'surprise', 'package', 'Food', 'good', 'nNo', 'parking', 'nAmbience', 'average', 'nOverall', 'value', 'money', 'looking', 'south', 'Indian', 'food', 'nPreferred', 'tiffin', 'items', 'Been', 'last', 'week', 'high', 'expectations', 'based', 'reviews', 'But', 'utterly', 'disappointed', 'food', 'quality', 'taste', 'I', 'feel', 'overhyped', 'place', 'There', 'many', 'better', 'places', 'vicinity', 'Plantain', 'leaf', 'meal', 'There', 'much', 'waiting', 'staffs', 'hurry', 'serving', 'food', 'asking', 'people', 'finish', 'meal', 'leave', 'quickly', 'I', 'understand', 'waiting', 'staffs', 'approach', 'positive', 'way', 'I', 'never', 'go', 'nbangaloreepicure', 'com', 'I', 'confession', 'south', 'Indian', 'I', 'distaste', 'south', 'Indian', 'food', 'I', 'hate', 'I', 'like', 'either', 'But', 'still', 'made', 'mind', 'Sankaranti', 'authentic', 'south', 'Indian', 'food', 'visited', 'Adduri', 'Udupi', 'Bhojana', 'close', 'place', 'I', 'look', 'menu', 'told', 'I', 'I', 'blessed', 'tremendous', 'appetite', 'welcomed', 'mango', 'soup', 'followed', 'wide', 'variety', 'dishes', 'served', 'I', 'developed', 'new', 'love', 'Pongal', 'sweet', 'Khara', 'I', 'still', 'feel', 'taste', 'ghee', 'bursting', 'mouth', 'kai', 'holige', 'made', 'day', 'crisp', 'soft', 'forget', 'food', 'served', 'banana', 'leaf', 'adds', 'flavor', 'taste', 'waiters', 'attentive', 'responsive', 'The', 'customer', 'needs', 'monitored', 'addressed', 'much', 'variety', 'Rs', 'without', 'compromising', 'quantity', 'quality', 'yes', 'unlimited', 'This', 'visit', 'turned', 'surprise', 'package', 'Food', 'good', 'nNo', 'parking', 'nAmbience', 'average', 'nOverall', 'value', 'money', 'looking', 'south', 'Indian', 'food', 'nPreferred', 'tiffin', 'items', 'Had', 'week', 'night', 'authentic', 'south', 'Indian', 'food', 'I', 'personally', 'love', 'served', 'banyan', 'leaf', 'The', 'waiters', 'dressed', 'traditional', 'Mysore', 'attire', 'wearing', 'peta', 'The', 'food', 'delicious', 'definitely', 'worth', 'price', 'The', 'waiters', 'friendly', 'serve', 'u', 'well', 'smile', 'The', 'food', 'prepared', 'without', 'garlic', 'plus', 'point', 'attracting', 'many', 'senior', 'customers', 'Food', 'good', 'enjoyed', 'With', 'Rs', 'nice', 'nNote', 'It', 'happen', 'us', 'If', 'going', 'TWO', 'people', 'may', 'need', 'share', 'table', 'Its', 'almost', 'crowed', 'You', 'sit', 'ask', 'choose', 'even', 'table', 'empty', 'nJust', 'wait', 'eat', 'come', 'back', 'Excellent', 'Ambience', 'delicious', 'meals', 'variety', 'types', 'Worth', 'paying', 'money', 'dine', 'friends', 'relatives', 'home', 'Very', 'good', 'Unlimited', 'especially', 'masala', 'dosa', 'Service', 'ambience', 'also', 'good', 'visit', 'friends', 'reasonble', 'wholesome', 'food', 'Aaaa', 'wt', 'tell', 'Unlimited', 'food', 'food', 'like', 'exactly', 'like', 'south', 'indian', 'marriage', 'food', 'soups', 'sides', 'masala', 'dosa', 'unlimited', 'except', 'ice', 'cream', 'end', 'give', 'water', 'bottle', 'main', 'thing', 'patience', 'get', 'place', 'sit', 'parking', 'place', 'outlet', 'difficult', 'park', 'front', 'restaurants']\n"
     ]
    }
   ],
   "source": [
    "print([token for token in rev3 if token not in stop])"
   ]
  },
  {
   "cell_type": "markdown",
   "id": "99908dc7-ed45-47bf-96c2-3a3ca6c28990",
   "metadata": {},
   "source": [
    "### Cleaning/ Storing the data from the main dataframe with the help of the above mentioned methods"
   ]
  },
  {
   "cell_type": "code",
   "execution_count": 50,
   "id": "c939b42a-f5c7-4cbf-9825-e1fa983f7ba6",
   "metadata": {},
   "outputs": [],
   "source": [
    "reviews_tokens_clean = reviews_tokens.apply(lambda each_review : [token for token in each_review if token not in stop])"
   ]
  },
  {
   "cell_type": "markdown",
   "id": "f811bb8d-3db1-4dbf-9737-c17edb616854",
   "metadata": {},
   "source": [
    "### Checking the data after the changes"
   ]
  },
  {
   "cell_type": "code",
   "execution_count": 51,
   "id": "b260319c-80f7-40e2-a98f-f7db485de79d",
   "metadata": {},
   "outputs": [
    {
     "data": {
      "text/plain": [
       "0        [A, beautiful, place, dine, The, interiors, ta...\n",
       "1        [Had, dinner, family, Turned, good, choose, su...\n",
       "2        [Ambience, good, enough, pocket, friendly, caf...\n",
       "3        [Great, food, proper, Karnataka, style, full, ...\n",
       "4        [Very, good, restaurant, neighbourhood, Buffet...\n",
       "                               ...                        \n",
       "10046    [A, simplistic, joy, local, biryani, lovers, n...\n",
       "10047                                               [Good]\n",
       "10048    [Vry, gud, taste, something, different, must, ...\n",
       "10049                                                   []\n",
       "10050                                                   []\n",
       "Name: reviews_list, Length: 10000, dtype: object"
      ]
     },
     "execution_count": 51,
     "metadata": {},
     "output_type": "execute_result"
    }
   ],
   "source": [
    "reviews_tokens_clean"
   ]
  },
  {
   "cell_type": "markdown",
   "id": "11a40698-37dc-42e5-a8eb-b9f64868fea2",
   "metadata": {},
   "source": [
    "### Checking the type of the cleaned data"
   ]
  },
  {
   "cell_type": "code",
   "execution_count": 52,
   "id": "1e4b48ec-6066-4aee-a128-a3a8bbaeeeda",
   "metadata": {},
   "outputs": [
    {
     "data": {
      "text/plain": [
       "pandas.core.series.Series"
      ]
     },
     "execution_count": 52,
     "metadata": {},
     "output_type": "execute_result"
    }
   ],
   "source": [
    "type(reviews_tokens_clean)"
   ]
  },
  {
   "cell_type": "markdown",
   "id": "dc6ef574-65c2-4277-8580-5ae22ac77307",
   "metadata": {},
   "source": [
    "### 4. Performing Unigram, Bi-gram and Trigram analysis on data"
   ]
  },
  {
   "cell_type": "markdown",
   "id": "f078703a-e2a8-4263-84dc-0031bbebc8f5",
   "metadata": {},
   "source": [
    "### Storing the 2D data  "
   ]
  },
  {
   "cell_type": "code",
   "execution_count": 53,
   "id": "eec54d9d-b90e-47b9-b1b0-faedf4151f97",
   "metadata": {},
   "outputs": [],
   "source": [
    "total_reviews_2D = list(reviews_tokens_clean)"
   ]
  },
  {
   "cell_type": "markdown",
   "id": "1eb0d076-a47c-4a06-9286-5b0720d6c61c",
   "metadata": {},
   "source": [
    "### Converting the 1D data from the above 2D data "
   ]
  },
  {
   "cell_type": "code",
   "execution_count": 54,
   "id": "adfc3423-4884-4c78-b8c9-5b11f09d4d8a",
   "metadata": {},
   "outputs": [],
   "source": [
    "total_reviews_1D = []\n",
    "\n",
    "for review in total_reviews_2D:\n",
    "    for word in review:\n",
    "        total_reviews_1D.append(word)"
   ]
  },
  {
   "cell_type": "markdown",
   "id": "2d78d11c-b115-417d-b63d-b1599ec99266",
   "metadata": {},
   "source": [
    "### CHecking the 1D data"
   ]
  },
  {
   "cell_type": "code",
   "execution_count": 55,
   "id": "f5e1ac18-fa39-4256-abaf-4cd9864d2d9d",
   "metadata": {},
   "outputs": [
    {
     "data": {
      "text/plain": [
       "['A',\n",
       " 'beautiful',\n",
       " 'place',\n",
       " 'dine',\n",
       " 'The',\n",
       " 'interiors',\n",
       " 'take',\n",
       " 'back',\n",
       " 'Mughal',\n",
       " 'era',\n",
       " 'The',\n",
       " 'lightings',\n",
       " 'perfect',\n",
       " 'We',\n",
       " 'went',\n",
       " 'occasion',\n",
       " 'Christmas',\n",
       " 'limited',\n",
       " 'items',\n",
       " 'available',\n",
       " 'But',\n",
       " 'taste',\n",
       " 'service',\n",
       " 'compromised',\n",
       " 'The',\n",
       " 'complaint',\n",
       " 'breads',\n",
       " 'could',\n",
       " 'better',\n",
       " 'Would',\n",
       " 'surely',\n",
       " 'like',\n",
       " 'come',\n",
       " 'I',\n",
       " 'dinner',\n",
       " 'family',\n",
       " 'weekday',\n",
       " 'The',\n",
       " 'restaurant',\n",
       " 'completely',\n",
       " 'empty',\n",
       " 'Ambience',\n",
       " 'good',\n",
       " 'good',\n",
       " 'old',\n",
       " 'hindi',\n",
       " 'music',\n",
       " 'Seating',\n",
       " 'arrangement',\n",
       " 'good',\n",
       " 'We',\n",
       " 'ordered',\n",
       " 'masala',\n",
       " 'papad',\n",
       " 'panner',\n",
       " 'baby',\n",
       " 'corn',\n",
       " 'starters',\n",
       " 'lemon',\n",
       " 'corrionder',\n",
       " 'soup',\n",
       " 'butter',\n",
       " 'roti',\n",
       " 'olive',\n",
       " 'chilli',\n",
       " 'paratha',\n",
       " 'Food',\n",
       " 'fresh',\n",
       " 'good',\n",
       " 'service',\n",
       " 'good',\n",
       " 'Good',\n",
       " 'family',\n",
       " 'hangout',\n",
       " 'nCheers',\n",
       " 'Its',\n",
       " 'restaurant',\n",
       " 'near',\n",
       " 'Banashankari',\n",
       " 'BDA',\n",
       " 'Me',\n",
       " 'along',\n",
       " 'office',\n",
       " 'friends',\n",
       " 'visited',\n",
       " 'buffet',\n",
       " 'unfortunately',\n",
       " 'provide',\n",
       " 'veg',\n",
       " 'buffet',\n",
       " 'On',\n",
       " 'inquiring',\n",
       " 'said',\n",
       " 'place',\n",
       " 'mostly',\n",
       " 'visited',\n",
       " 'vegetarians',\n",
       " 'Anyways',\n",
       " 'ordered',\n",
       " 'ala',\n",
       " 'carte',\n",
       " 'items',\n",
       " 'took',\n",
       " 'ages',\n",
       " 'come',\n",
       " 'Food',\n",
       " 'ok',\n",
       " 'ok',\n",
       " 'Definitely',\n",
       " 'visiting',\n",
       " 'anymore',\n",
       " 'We',\n",
       " 'went',\n",
       " 'weekend',\n",
       " 'one',\n",
       " 'us',\n",
       " 'buffet',\n",
       " 'two',\n",
       " 'us',\n",
       " 'took',\n",
       " 'Ala',\n",
       " 'Carte',\n",
       " 'Firstly',\n",
       " 'ambience',\n",
       " 'service',\n",
       " 'place',\n",
       " 'great',\n",
       " 'The',\n",
       " 'buffet',\n",
       " 'lot',\n",
       " 'items',\n",
       " 'good',\n",
       " 'good',\n",
       " 'We',\n",
       " 'Pumpkin',\n",
       " 'Halwa',\n",
       " 'intm',\n",
       " 'dessert',\n",
       " 'amazing',\n",
       " 'Must',\n",
       " 'try',\n",
       " 'The',\n",
       " 'kulchas',\n",
       " 'great',\n",
       " 'Cheers',\n",
       " 'The',\n",
       " 'best',\n",
       " 'thing',\n",
       " 'place',\n",
       " 'ambiance',\n",
       " 'Second',\n",
       " 'best',\n",
       " 'thing',\n",
       " 'yummy',\n",
       " 'food',\n",
       " 'We',\n",
       " 'try',\n",
       " 'buffet',\n",
       " 'buffet',\n",
       " 'food',\n",
       " 'disappointed',\n",
       " 'us',\n",
       " 'nTest',\n",
       " 'nQuality',\n",
       " 'nService',\n",
       " 'Staff',\n",
       " 'professional',\n",
       " 'friendly',\n",
       " 'nOverall',\n",
       " 'experience',\n",
       " 'excellent',\n",
       " 'nsubirmajumder',\n",
       " 'wixsite',\n",
       " 'com',\n",
       " 'Great',\n",
       " 'food',\n",
       " 'pleasant',\n",
       " 'ambience',\n",
       " 'Expensive',\n",
       " 'Coll',\n",
       " 'place',\n",
       " 'chill',\n",
       " 'relax',\n",
       " 'nService',\n",
       " 'really',\n",
       " 'good',\n",
       " 'friendly',\n",
       " 'staff',\n",
       " 'nFood',\n",
       " 'nService',\n",
       " 'nAmbience',\n",
       " 'nOverall',\n",
       " 'Good',\n",
       " 'ambience',\n",
       " 'tasty',\n",
       " 'food',\n",
       " 'nCheese',\n",
       " 'chilli',\n",
       " 'paratha',\n",
       " 'Bhutta',\n",
       " 'palak',\n",
       " 'methi',\n",
       " 'curry',\n",
       " 'good',\n",
       " 'combo',\n",
       " 'nLemon',\n",
       " 'Chicken',\n",
       " 'starters',\n",
       " 'must',\n",
       " 'try',\n",
       " 'item',\n",
       " 'nEgg',\n",
       " 'fried',\n",
       " 'rice',\n",
       " 'also',\n",
       " 'quite',\n",
       " 'tasty',\n",
       " 'nIn',\n",
       " 'mocktails',\n",
       " 'recommend',\n",
       " 'Alice',\n",
       " 'Junoon',\n",
       " 'Do',\n",
       " 'miss',\n",
       " 'You',\n",
       " 'go',\n",
       " 'wrong',\n",
       " 'Jalsa',\n",
       " 'Never',\n",
       " 'fan',\n",
       " 'buffet',\n",
       " 'thus',\n",
       " 'always',\n",
       " 'order',\n",
       " 'alacarte',\n",
       " 'Service',\n",
       " 'times',\n",
       " 'slower',\n",
       " 'side',\n",
       " 'food',\n",
       " 'worth',\n",
       " 'wait',\n",
       " 'Overdelighted',\n",
       " 'service',\n",
       " 'food',\n",
       " 'provided',\n",
       " 'place',\n",
       " 'A',\n",
       " 'royal',\n",
       " 'ethnic',\n",
       " 'atmosphere',\n",
       " 'builds',\n",
       " 'strong',\n",
       " 'essence',\n",
       " 'India',\n",
       " 'also',\n",
       " 'quality',\n",
       " 'taste',\n",
       " 'food',\n",
       " 'truly',\n",
       " 'authentic',\n",
       " 'I',\n",
       " 'would',\n",
       " 'totally',\n",
       " 'recommend',\n",
       " 'visit',\n",
       " 'place',\n",
       " 'The',\n",
       " 'place',\n",
       " 'nice',\n",
       " 'comfortable',\n",
       " 'Food',\n",
       " 'wise',\n",
       " 'jalea',\n",
       " 'outlets',\n",
       " 'maintain',\n",
       " 'good',\n",
       " 'standard',\n",
       " 'The',\n",
       " 'soya',\n",
       " 'chaap',\n",
       " 'standout',\n",
       " 'dish',\n",
       " 'Clearly',\n",
       " 'one',\n",
       " 'trademark',\n",
       " 'dish',\n",
       " 'per',\n",
       " 'must',\n",
       " 'try',\n",
       " 'nThe',\n",
       " 'concern',\n",
       " 'parking',\n",
       " 'It',\n",
       " 'congested',\n",
       " 'limited',\n",
       " 'cars',\n",
       " 'The',\n",
       " 'basement',\n",
       " 'parking',\n",
       " 'steep',\n",
       " 'makes',\n",
       " 'cumbersome',\n",
       " 'The',\n",
       " 'place',\n",
       " 'nice',\n",
       " 'comfortable',\n",
       " 'Food',\n",
       " 'wise',\n",
       " 'jalea',\n",
       " 'outlets',\n",
       " 'maintain',\n",
       " 'good',\n",
       " 'standard',\n",
       " 'The',\n",
       " 'soya',\n",
       " 'chaap',\n",
       " 'standout',\n",
       " 'dish',\n",
       " 'Clearly',\n",
       " 'one',\n",
       " 'trademark',\n",
       " 'dish',\n",
       " 'per',\n",
       " 'must',\n",
       " 'try',\n",
       " 'nThe',\n",
       " 'concern',\n",
       " 'parking',\n",
       " 'It',\n",
       " 'congested',\n",
       " 'limited',\n",
       " 'cars',\n",
       " 'The',\n",
       " 'basement',\n",
       " 'parking',\n",
       " 'steep',\n",
       " 'makes',\n",
       " 'cumbersome',\n",
       " 'The',\n",
       " 'place',\n",
       " 'nice',\n",
       " 'comfortable',\n",
       " 'Food',\n",
       " 'wise',\n",
       " 'jalea',\n",
       " 'outlets',\n",
       " 'maintain',\n",
       " 'good',\n",
       " 'standard',\n",
       " 'The',\n",
       " 'soya',\n",
       " 'chaap',\n",
       " 'standout',\n",
       " 'dish',\n",
       " 'Clearly',\n",
       " 'one',\n",
       " 'trademark',\n",
       " 'dish',\n",
       " 'per',\n",
       " 'must',\n",
       " 'try',\n",
       " 'nThe',\n",
       " 'concern',\n",
       " 'parking',\n",
       " 'It',\n",
       " 'congested',\n",
       " 'limited',\n",
       " 'cars',\n",
       " 'The',\n",
       " 'basement',\n",
       " 'parking',\n",
       " 'steep',\n",
       " 'makes',\n",
       " 'cumbersome',\n",
       " 'Had',\n",
       " 'dinner',\n",
       " 'family',\n",
       " 'Turned',\n",
       " 'good',\n",
       " 'choose',\n",
       " 'suitable',\n",
       " 'ages',\n",
       " 'people',\n",
       " 'Can',\n",
       " 'try',\n",
       " 'place',\n",
       " 'We',\n",
       " 'liked',\n",
       " 'starters',\n",
       " 'Service',\n",
       " 'good',\n",
       " 'Prices',\n",
       " 'affordable',\n",
       " 'Will',\n",
       " 'recommend',\n",
       " 'restaurant',\n",
       " 'early',\n",
       " 'dinner',\n",
       " 'The',\n",
       " 'place',\n",
       " 'little',\n",
       " 'noisy',\n",
       " 'The',\n",
       " 'ambience',\n",
       " 'really',\n",
       " 'nice',\n",
       " 'staff',\n",
       " 'courteous',\n",
       " 'The',\n",
       " 'price',\n",
       " 'pretty',\n",
       " 'high',\n",
       " 'quantity',\n",
       " 'overall',\n",
       " 'experience',\n",
       " 'fine',\n",
       " 'The',\n",
       " 'quality',\n",
       " 'food',\n",
       " 'nice',\n",
       " 'nothing',\n",
       " 'extraordinary',\n",
       " 'They',\n",
       " 'also',\n",
       " 'buffet',\n",
       " 'veg',\n",
       " 'I',\n",
       " 'felt',\n",
       " 'good',\n",
       " 'little',\n",
       " 'expensive',\n",
       " 'quantity',\n",
       " 'serve',\n",
       " 'In',\n",
       " 'terms',\n",
       " 'taste',\n",
       " 'decent',\n",
       " 'There',\n",
       " 'nothing',\n",
       " 'much',\n",
       " 'talk',\n",
       " 'ambience',\n",
       " 'regular',\n",
       " 'casual',\n",
       " 'dining',\n",
       " 'restaurant',\n",
       " 'take',\n",
       " 'family',\n",
       " 'dinner',\n",
       " 'lunch',\n",
       " 'If',\n",
       " 'improve',\n",
       " 'quantity',\n",
       " 'may',\n",
       " 'reduce',\n",
       " 'price',\n",
       " 'bit',\n",
       " 'may',\n",
       " 'improve',\n",
       " 'presentation',\n",
       " 'food',\n",
       " 'might',\n",
       " 'Manage',\n",
       " 'get',\n",
       " 'repeat',\n",
       " 'customers',\n",
       " 'I',\n",
       " 'looking',\n",
       " 'quite',\n",
       " 'place',\n",
       " 'spend',\n",
       " 'time',\n",
       " 'family',\n",
       " 'well',\n",
       " 'wanted',\n",
       " 'try',\n",
       " 'new',\n",
       " 'place',\n",
       " 'Since',\n",
       " 'I',\n",
       " 'Banashankari',\n",
       " 'I',\n",
       " 'thought',\n",
       " 'trying',\n",
       " 'place',\n",
       " 'The',\n",
       " 'place',\n",
       " 'good',\n",
       " 'rating',\n",
       " 'part',\n",
       " 'Zomato',\n",
       " 'gold',\n",
       " 'So',\n",
       " 'I',\n",
       " 'decided',\n",
       " 'try',\n",
       " 'place',\n",
       " 'It',\n",
       " 'delite',\n",
       " 'see',\n",
       " 'friendly',\n",
       " 'staff',\n",
       " 'food',\n",
       " 'ordered',\n",
       " 'tasty',\n",
       " 'well',\n",
       " 'nFood',\n",
       " 'nAmbience',\n",
       " 'nFriendly',\n",
       " 'staff',\n",
       " 'nPocket',\n",
       " 'friendly',\n",
       " 'nWill',\n",
       " 'definitely',\n",
       " 'visit',\n",
       " 'Nice',\n",
       " 'place',\n",
       " 'dine',\n",
       " 'good',\n",
       " 'ambiance',\n",
       " 'Food',\n",
       " 'good',\n",
       " 'serving',\n",
       " 'time',\n",
       " 'also',\n",
       " 'good',\n",
       " 'neat',\n",
       " 'restrooms',\n",
       " 'arranged',\n",
       " 'tables',\n",
       " 'thing',\n",
       " 'went',\n",
       " 'lunch',\n",
       " 'noticed',\n",
       " 'kept',\n",
       " 'playing',\n",
       " 'one',\n",
       " 'music',\n",
       " 'back',\n",
       " 'back',\n",
       " 'little',\n",
       " 'annoying',\n",
       " 'Chicken',\n",
       " 'biriyani',\n",
       " 'good',\n",
       " 'chicken',\n",
       " 'fresh',\n",
       " 'tender',\n",
       " 'rice',\n",
       " 'well',\n",
       " 'cooked',\n",
       " 'overall',\n",
       " 'great',\n",
       " 'Mutton',\n",
       " 'biriyani',\n",
       " 'good',\n",
       " 'tasty',\n",
       " 'It',\n",
       " 'plenty',\n",
       " 'mutton',\n",
       " 'pieces',\n",
       " 'This',\n",
       " 'place',\n",
       " 'cool',\n",
       " 'good',\n",
       " 'ambience',\n",
       " 'slow',\n",
       " 'music',\n",
       " 'delicious',\n",
       " 'food',\n",
       " 'find',\n",
       " 'peace',\n",
       " 'Staff',\n",
       " 'friendly',\n",
       " 'maintained',\n",
       " 'place',\n",
       " 'clean',\n",
       " 'The',\n",
       " 'price',\n",
       " 'average',\n",
       " 'quantity',\n",
       " 'food',\n",
       " 'serve',\n",
       " 'nThom',\n",
       " 'yum',\n",
       " 'Thai',\n",
       " 'soup',\n",
       " 'best',\n",
       " 'treat',\n",
       " 'mouth',\n",
       " 'roti',\n",
       " 'soft',\n",
       " 'vilaythi',\n",
       " 'paneer',\n",
       " 'perfect',\n",
       " 'veggie',\n",
       " 'foodies',\n",
       " 'rice',\n",
       " 'tried',\n",
       " 'burnt',\n",
       " 'garlic',\n",
       " 'fried',\n",
       " 'rice',\n",
       " 'vegetables',\n",
       " 'perfect',\n",
       " 'thing',\n",
       " 'end',\n",
       " 'Quiet',\n",
       " 'good',\n",
       " 'family',\n",
       " 'type',\n",
       " 'place',\n",
       " 'calm',\n",
       " 'usually',\n",
       " 'find',\n",
       " 'crowd',\n",
       " 'panner',\n",
       " 'curry',\n",
       " 'deserts',\n",
       " 'tasted',\n",
       " 'wer',\n",
       " 'really',\n",
       " 'good',\n",
       " 'found',\n",
       " 'little',\n",
       " 'expensive',\n",
       " 'I',\n",
       " 'bad',\n",
       " 'experience',\n",
       " 'nI',\n",
       " 'know',\n",
       " 'la',\n",
       " 'carte',\n",
       " 'buffet',\n",
       " 'worst',\n",
       " 'They',\n",
       " 'gave',\n",
       " 'us',\n",
       " 'complementary',\n",
       " 'drink',\n",
       " 'momos',\n",
       " 'buffet',\n",
       " 'The',\n",
       " 'momos',\n",
       " 'really',\n",
       " 'good',\n",
       " 'nThe',\n",
       " 'number',\n",
       " 'varieties',\n",
       " 'first',\n",
       " 'disappointing',\n",
       " 'The',\n",
       " 'service',\n",
       " 'slow',\n",
       " 'They',\n",
       " 'refilled',\n",
       " 'food',\n",
       " 'slowly',\n",
       " 'The',\n",
       " 'starters',\n",
       " 'okay',\n",
       " 'The',\n",
       " 'main',\n",
       " 'course',\n",
       " 'also',\n",
       " 'There',\n",
       " 'two',\n",
       " 'gravies',\n",
       " 'roti',\n",
       " 'rice',\n",
       " 'raitha',\n",
       " 'They',\n",
       " 'chats',\n",
       " 'sev',\n",
       " 'puri',\n",
       " 'pan',\n",
       " 'puri',\n",
       " 'average',\n",
       " 'But',\n",
       " 'desert',\n",
       " 'disappointing',\n",
       " 'They',\n",
       " 'gulab',\n",
       " 'Jamun',\n",
       " 'chocolate',\n",
       " 'cake',\n",
       " 'The',\n",
       " 'jamun',\n",
       " 'cooked',\n",
       " 'inside',\n",
       " 'There',\n",
       " 'cold',\n",
       " 'blob',\n",
       " 'raw',\n",
       " 'dough',\n",
       " 'inside',\n",
       " 'The',\n",
       " 'chocolate',\n",
       " 'cake',\n",
       " 'also',\n",
       " 'really',\n",
       " 'hard',\n",
       " 'good',\n",
       " 'nOverall',\n",
       " 'buffet',\n",
       " 'bad',\n",
       " 'experience',\n",
       " 'Food',\n",
       " 'nAmbience',\n",
       " 'nStaff',\n",
       " 'nOne',\n",
       " 'good',\n",
       " 'places',\n",
       " 'try',\n",
       " 'north',\n",
       " 'Indian',\n",
       " 'food',\n",
       " 'depends',\n",
       " 'ur',\n",
       " 'taste',\n",
       " 'buds',\n",
       " 'Not',\n",
       " 'everyone',\n",
       " 'like',\n",
       " 'items',\n",
       " 'Specially',\n",
       " 'u',\n",
       " 'r',\n",
       " 'particular',\n",
       " 'abt',\n",
       " 'sweet',\n",
       " 'spicy',\n",
       " 'food',\n",
       " 'nThere',\n",
       " 'buffet',\n",
       " 'available',\n",
       " 'nWe',\n",
       " 'ordered',\n",
       " 'paneer',\n",
       " 'uttar',\n",
       " 'dakshin',\n",
       " 'paneer',\n",
       " 'kurchan',\n",
       " 'amazing',\n",
       " 'The',\n",
       " 'Gobi',\n",
       " 'hara',\n",
       " 'pyaz',\n",
       " 'mix',\n",
       " 'veg',\n",
       " 'average',\n",
       " 'A',\n",
       " 'decent',\n",
       " 'place',\n",
       " 'family',\n",
       " 'lunch',\n",
       " 'dinner',\n",
       " 'well',\n",
       " 'arranged',\n",
       " 'simple',\n",
       " 'manner',\n",
       " 'Food',\n",
       " 'tasty',\n",
       " 'crew',\n",
       " 'helpful',\n",
       " 'understanding',\n",
       " 'Great',\n",
       " 'place',\n",
       " 'heavy',\n",
       " 'lunch',\n",
       " 'Good',\n",
       " 'service',\n",
       " 'nThe',\n",
       " 'chicken',\n",
       " 'biryani',\n",
       " 'undoubtedly',\n",
       " 'one',\n",
       " 'best',\n",
       " 'I',\n",
       " 'Biriyani',\n",
       " 'Lassi',\n",
       " 'would',\n",
       " 'suggested',\n",
       " 'combo',\n",
       " 'Buffet',\n",
       " 'talk',\n",
       " 'place',\n",
       " 'try',\n",
       " 'according',\n",
       " 'appetite',\n",
       " 'A',\n",
       " 'nice',\n",
       " 'place',\n",
       " 'Its',\n",
       " 'one',\n",
       " 'restaurant',\n",
       " 'near',\n",
       " 'katriguppe',\n",
       " 'found',\n",
       " 'really',\n",
       " 'good',\n",
       " 'Good',\n",
       " 'variety',\n",
       " 'Chinese',\n",
       " 'thai',\n",
       " 'dishes',\n",
       " 'Service',\n",
       " 'good',\n",
       " 'good',\n",
       " 'place',\n",
       " 'hangout',\n",
       " 'family',\n",
       " 'peaceful',\n",
       " 'place',\n",
       " 'noise',\n",
       " 'really',\n",
       " 'less',\n",
       " 'good',\n",
       " 'view',\n",
       " 'Spice',\n",
       " 'elephant',\n",
       " 'soup',\n",
       " 'SPL',\n",
       " 'almost',\n",
       " 'manchow',\n",
       " 'flavour',\n",
       " 'soup',\n",
       " 'Just',\n",
       " 'medium',\n",
       " 'spicy',\n",
       " 'nLasooni',\n",
       " 'fish',\n",
       " 'tikka',\n",
       " 'awesome',\n",
       " 'nI',\n",
       " 'remember',\n",
       " 'dessert',\n",
       " 'name',\n",
       " 'I',\n",
       " 'attached',\n",
       " 'photo',\n",
       " 'It',\n",
       " 'vanilla',\n",
       " 'ice',\n",
       " 'inside',\n",
       " 'wafers',\n",
       " 'Wafer',\n",
       " 'hell',\n",
       " 'hard',\n",
       " 'egg',\n",
       " 'smell',\n",
       " 'chewy',\n",
       " 'Nightmare',\n",
       " 'dessert',\n",
       " 'nTable',\n",
       " 'leg',\n",
       " 'space',\n",
       " 'bad',\n",
       " 'I',\n",
       " 'uncomfortable',\n",
       " 'whole',\n",
       " 'time',\n",
       " 'kept',\n",
       " 'adjusting',\n",
       " 'legs',\n",
       " 'nNo',\n",
       " 'parking',\n",
       " 'nFor',\n",
       " 'taste',\n",
       " 'felt',\n",
       " 'costly',\n",
       " 'Zomato',\n",
       " 'gold',\n",
       " 'partner',\n",
       " 'price',\n",
       " 'It',\n",
       " 'insane',\n",
       " 'They',\n",
       " 'really',\n",
       " 'nice',\n",
       " 'food',\n",
       " 'small',\n",
       " 'place',\n",
       " 'courteous',\n",
       " 'staff',\n",
       " 'cheap',\n",
       " 'food',\n",
       " 'ambience',\n",
       " 'Cost',\n",
       " 'soups',\n",
       " 'Starters',\n",
       " 'Main',\n",
       " 'course',\n",
       " 'Cost',\n",
       " 'two',\n",
       " 'us',\n",
       " 'Ambience',\n",
       " 'good',\n",
       " 'enough',\n",
       " 'pocket',\n",
       " 'friendly',\n",
       " 'cafe',\n",
       " 'quantity',\n",
       " 'good',\n",
       " 'desserts',\n",
       " 'good',\n",
       " 'enough',\n",
       " 'nWent',\n",
       " 'quick',\n",
       " 'bite',\n",
       " 'friends',\n",
       " 'nThe',\n",
       " 'ambience',\n",
       " 'corporate',\n",
       " 'feel',\n",
       " 'I',\n",
       " 'would',\n",
       " 'say',\n",
       " 'unique',\n",
       " 'nTried',\n",
       " 'nachos',\n",
       " 'pasta',\n",
       " 'churros',\n",
       " 'lasagne',\n",
       " 'nNachos',\n",
       " 'pathetic',\n",
       " 'Seriously',\n",
       " 'order',\n",
       " 'nPasta',\n",
       " 'okayish',\n",
       " 'nLasagne',\n",
       " 'good',\n",
       " 'nNutella',\n",
       " 'churros',\n",
       " 'best',\n",
       " 'nOverall',\n",
       " 'okayish',\n",
       " 'experience',\n",
       " 'nPeace',\n",
       " 'First',\n",
       " 'big',\n",
       " 'thanks',\n",
       " 'staff',\n",
       " 'Cafe',\n",
       " 'Very',\n",
       " 'polite',\n",
       " 'courteous',\n",
       " 'nI',\n",
       " 'mins',\n",
       " 'closing',\n",
       " 'time',\n",
       " 'Without',\n",
       " 'discomfort',\n",
       " 'hesitation',\n",
       " 'staff',\n",
       " 'welcomed',\n",
       " 'warm',\n",
       " 'smile',\n",
       " 'said',\n",
       " 'still',\n",
       " 'open',\n",
       " 'though',\n",
       " 'preparing',\n",
       " 'close',\n",
       " 'cafe',\n",
       " 'day',\n",
       " 'nQuickly',\n",
       " 'ordered',\n",
       " 'Thai',\n",
       " 'green',\n",
       " 'curry',\n",
       " 'served',\n",
       " 'rice',\n",
       " 'They',\n",
       " 'got',\n",
       " 'within',\n",
       " 'mins',\n",
       " 'hot',\n",
       " 'freshly',\n",
       " 'made',\n",
       " 'nIt',\n",
       " 'tasty',\n",
       " 'taste',\n",
       " 'coconut',\n",
       " 'milk',\n",
       " 'Not',\n",
       " 'spicy',\n",
       " 'mild',\n",
       " 'spicy',\n",
       " 'nI',\n",
       " 'saw',\n",
       " 'yummy',\n",
       " 'looking',\n",
       " 'dessert',\n",
       " 'menu',\n",
       " 'go',\n",
       " 'try',\n",
       " 'nA',\n",
       " 'good',\n",
       " ...]"
      ]
     },
     "execution_count": 55,
     "metadata": {},
     "output_type": "execute_result"
    }
   ],
   "source": [
    "total_reviews_1D"
   ]
  },
  {
   "cell_type": "markdown",
   "id": "d6d30ad0-143a-46de-9f15-e7f9fa615244",
   "metadata": {},
   "source": [
    "### Importing the FreqDist from the nltk package"
   ]
  },
  {
   "cell_type": "code",
   "execution_count": 56,
   "id": "17136b41-c0d1-4adc-9e6f-2e8fc662d0cf",
   "metadata": {},
   "outputs": [],
   "source": [
    "from nltk import FreqDist"
   ]
  },
  {
   "cell_type": "code",
   "execution_count": 57,
   "id": "21591d71-04a6-446c-9aaf-8e56a928e83d",
   "metadata": {},
   "outputs": [],
   "source": [
    "fd = FreqDist()"
   ]
  },
  {
   "cell_type": "markdown",
   "id": "141e65d2-c482-4e2d-8db2-29c1ae2ec1be",
   "metadata": {},
   "source": [
    "### Applying the freqDist on the dataframe to get the count of the words used in the reviews list"
   ]
  },
  {
   "cell_type": "code",
   "execution_count": 58,
   "id": "2ee706d4-4f2a-488d-8827-3e2d770238ab",
   "metadata": {},
   "outputs": [],
   "source": [
    "for word in total_reviews_1D:\n",
    "    fd[word] = fd[word] + 1"
   ]
  },
  {
   "cell_type": "markdown",
   "id": "0c448e8d-05a3-4a44-9ef9-fc72d3442697",
   "metadata": {},
   "source": [
    "### Getting the 20 most common words in the dataframe"
   ]
  },
  {
   "cell_type": "code",
   "execution_count": 59,
   "id": "7d95ed04-de50-4079-8b1a-30a1c177fb63",
   "metadata": {},
   "outputs": [
    {
     "data": {
      "text/plain": [
       "[('place', 139173),\n",
       " ('I', 137965),\n",
       " ('good', 134232),\n",
       " ('food', 126195),\n",
       " ('The', 97479),\n",
       " ('chicken', 46887),\n",
       " ('service', 41216),\n",
       " ('taste', 40063),\n",
       " ('ordered', 39651),\n",
       " ('great', 34402),\n",
       " ('really', 33942),\n",
       " ('time', 33052),\n",
       " ('try', 32415),\n",
       " ('one', 32079),\n",
       " ('ambience', 31703),\n",
       " ('like', 30679),\n",
       " ('also', 30647),\n",
       " ('It', 30487),\n",
       " ('visit', 27355),\n",
       " ('restaurant', 26421)]"
      ]
     },
     "execution_count": 59,
     "metadata": {},
     "output_type": "execute_result"
    }
   ],
   "source": [
    "fd.most_common(20)"
   ]
  },
  {
   "cell_type": "markdown",
   "id": "f2a76cd1-a7a4-4087-94a2-b88e63c52c29",
   "metadata": {},
   "source": [
    "### Ploting the 20 most common words ib the reviews_list"
   ]
  },
  {
   "cell_type": "code",
   "execution_count": 60,
   "id": "c656fe4d-57cd-4e01-b29c-f51a6c47a13c",
   "metadata": {},
   "outputs": [
    {
     "data": {
      "image/png": "[encoded data removed]",
      "text/plain": [
       "<Figure size 640x480 with 1 Axes>"
      ]
     },
     "metadata": {},
     "output_type": "display_data"
    },
    {
     "data": {
      "text/plain": [
       "<Axes: xlabel='Samples', ylabel='Counts'>"
      ]
     },
     "execution_count": 60,
     "metadata": {},
     "output_type": "execute_result"
    }
   ],
   "source": [
    "fd.plot(20)\n"
   ]
  },
  {
   "cell_type": "code",
   "execution_count": null,
   "id": "ef517b0e-587f-49a2-a02a-4a2fd840b156",
   "metadata": {},
   "outputs": [],
   "source": []
  },
  {
   "cell_type": "markdown",
   "id": "5eaad444-7451-4806-9cbd-b1011065e2c4",
   "metadata": {},
   "source": [
    "### Importing the bigrams and trigrams from the nltk package"
   ]
  },
  {
   "cell_type": "code",
   "execution_count": 61,
   "id": "afff3582-9219-4602-84e0-00dc20ed199b",
   "metadata": {},
   "outputs": [],
   "source": [
    "from nltk import FreqDist , bigrams , trigrams"
   ]
  },
  {
   "cell_type": "markdown",
   "id": "33ba122b-5f60-475d-8a49-1066c34812fb",
   "metadata": {},
   "source": [
    "## Applying bigram function on the 1D dataframe"
   ]
  },
  {
   "cell_type": "code",
   "execution_count": 62,
   "id": "31258cac-9815-41ef-86cb-ef36409e2feb",
   "metadata": {},
   "outputs": [],
   "source": [
    "bi_grams = bigrams(total_reviews_1D)"
   ]
  },
  {
   "cell_type": "markdown",
   "id": "810ce8e3-a86f-46f4-a56a-5152d9de934f",
   "metadata": {},
   "source": [
    "### Getting bigram with the help of freqDist"
   ]
  },
  {
   "cell_type": "code",
   "execution_count": 63,
   "id": "e6cbb6bc-8efc-4931-8cc6-20b753853379",
   "metadata": {},
   "outputs": [],
   "source": [
    "fd_bigrams = FreqDist()\n",
    "\n",
    "for bigram in bi_grams:\n",
    "    fd_bigrams[bigram] = fd_bigrams[bigram] + 1"
   ]
  },
  {
   "cell_type": "markdown",
   "id": "bc0737b9-7ed9-4444-9cf1-4cafe9e2dcdd",
   "metadata": {},
   "source": [
    "### Getting 20 most common words in the list "
   ]
  },
  {
   "cell_type": "code",
   "execution_count": 64,
   "id": "bd867cfe-c175-4c76-bfb7-1631cb32bdc3",
   "metadata": {},
   "outputs": [
    {
     "data": {
      "text/plain": [
       "[(('The', 'food'), 10497),\n",
       " (('I', 'ordered'), 10159),\n",
       " (('really', 'good'), 9575),\n",
       " (('This', 'place'), 8208),\n",
       " (('must', 'try'), 7824),\n",
       " (('I', 'would'), 7353),\n",
       " (('We', 'ordered'), 7223),\n",
       " (('visit', 'place'), 6897),\n",
       " (('food', 'good'), 6823),\n",
       " (('good', 'food'), 6482),\n",
       " (('The', 'place'), 6158),\n",
       " (('main', 'course'), 5544),\n",
       " (('non', 'veg'), 5364),\n",
       " (('good', 'place'), 5339),\n",
       " (('ice', 'cream'), 5287),\n",
       " (('also', 'good'), 5083),\n",
       " (('The', 'ambience'), 4798),\n",
       " (('I', 'tried'), 4523),\n",
       " (('good', 'I'), 4139),\n",
       " (('good', 'The'), 4078)]"
      ]
     },
     "execution_count": 64,
     "metadata": {},
     "output_type": "execute_result"
    }
   ],
   "source": [
    "fd_bigrams.most_common(20)"
   ]
  },
  {
   "cell_type": "markdown",
   "id": "9f801612-03cc-4cca-a3c9-3f57971d07f5",
   "metadata": {},
   "source": [
    "### Plotting the 20 most common bigrams "
   ]
  },
  {
   "cell_type": "code",
   "execution_count": 65,
   "id": "8798c700-dd34-4a37-81be-1babb44aa87c",
   "metadata": {},
   "outputs": [
    {
     "data": {
      "image/png": "[encoded data removed]",
      "text/plain": [
       "<Figure size 640x480 with 1 Axes>"
      ]
     },
     "metadata": {},
     "output_type": "display_data"
    },
    {
     "data": {
      "text/plain": [
       "<Axes: xlabel='Samples', ylabel='Counts'>"
      ]
     },
     "execution_count": 65,
     "metadata": {},
     "output_type": "execute_result"
    }
   ],
   "source": [
    "fd_bigrams.plot(20)"
   ]
  },
  {
   "cell_type": "markdown",
   "id": "02a4d8c6-0898-427a-9345-3cea763b7301",
   "metadata": {},
   "source": [
    "### Getting 100 most common words in |the list "
   ]
  },
  {
   "cell_type": "code",
   "execution_count": 66,
   "id": "241de666-59ef-47b3-9426-b55f971cce18",
   "metadata": {},
   "outputs": [
    {
     "data": {
      "text/plain": [
       "[(('The', 'food'), 10497),\n",
       " (('I', 'ordered'), 10159),\n",
       " (('really', 'good'), 9575),\n",
       " (('This', 'place'), 8208),\n",
       " (('must', 'try'), 7824),\n",
       " (('I', 'would'), 7353),\n",
       " (('We', 'ordered'), 7223),\n",
       " (('visit', 'place'), 6897),\n",
       " (('food', 'good'), 6823),\n",
       " (('good', 'food'), 6482),\n",
       " (('The', 'place'), 6158),\n",
       " (('main', 'course'), 5544),\n",
       " (('non', 'veg'), 5364),\n",
       " (('good', 'place'), 5339),\n",
       " (('ice', 'cream'), 5287),\n",
       " (('also', 'good'), 5083),\n",
       " (('The', 'ambience'), 4798),\n",
       " (('I', 'tried'), 4523),\n",
       " (('good', 'I'), 4139),\n",
       " (('good', 'The'), 4078),\n",
       " (('food', 'I'), 3998),\n",
       " (('place', 'I'), 3896),\n",
       " (('The', 'service'), 3830),\n",
       " (('one', 'best'), 3711),\n",
       " (('must', 'visit'), 3658),\n",
       " (('I', 'love'), 3529),\n",
       " (('quality', 'food'), 3510),\n",
       " (('nWe', 'ordered'), 3490),\n",
       " (('time', 'I'), 3398),\n",
       " (('nice', 'place'), 3290),\n",
       " (('The', 'staff'), 3286),\n",
       " (('taste', 'good'), 3275),\n",
       " (('pretty', 'good'), 3270),\n",
       " (('fried', 'rice'), 3127),\n",
       " (('pocket', 'friendly'), 3097),\n",
       " (('place', 'good'), 3083),\n",
       " (('I', 'loved'), 3078),\n",
       " (('good', 'service'), 3036),\n",
       " (('value', 'money'), 2966),\n",
       " (('place', 'hangout'), 2883),\n",
       " (('good', 'taste'), 2866),\n",
       " (('I', 'like'), 2828),\n",
       " (('I', 'visited'), 2824),\n",
       " (('service', 'good'), 2806),\n",
       " (('great', 'place'), 2708),\n",
       " (('good', 'experience'), 2589),\n",
       " (('nThe', 'food'), 2546),\n",
       " (('ambience', 'good'), 2543),\n",
       " (('first', 'time'), 2533),\n",
       " (('visited', 'place'), 2521),\n",
       " (('chicken', 'biryani'), 2457),\n",
       " (('North', 'Indian'), 2439),\n",
       " (('food', 'The'), 2436),\n",
       " (('I', 'went'), 2416),\n",
       " (('I', 'really'), 2407),\n",
       " (('place', 'The'), 2393),\n",
       " (('recommend', 'place'), 2322),\n",
       " (('I', 'think'), 2271),\n",
       " (('I', 'liked'), 2242),\n",
       " (('One', 'best'), 2225),\n",
       " (('food', 'quality'), 2223),\n",
       " (('Must', 'try'), 2210),\n",
       " (('The', 'best'), 2182),\n",
       " (('I', 'ever'), 2171),\n",
       " (('long', 'time'), 2156),\n",
       " (('really', 'nice'), 2108),\n",
       " (('I', 'got'), 2059),\n",
       " (('nValue', 'money'), 2054),\n",
       " (('food', 'great'), 2051),\n",
       " (('tasted', 'good'), 2049),\n",
       " (('ordered', 'chicken'), 2039),\n",
       " (('best', 'place'), 2021),\n",
       " (('Food', 'good'), 2019),\n",
       " (('food', 'really'), 1992),\n",
       " (('home', 'delivery'), 1992),\n",
       " (('Good', 'place'), 1986),\n",
       " (('We', 'went'), 1981),\n",
       " (('I', 'felt'), 1961),\n",
       " (('Indian', 'food'), 1960),\n",
       " (('nFood', 'nService'), 1953),\n",
       " (('Good', 'food'), 1925),\n",
       " (('nAmbience', 'nService'), 1924),\n",
       " (('great', 'food'), 1924),\n",
       " (('quite', 'good'), 1917),\n",
       " (('try', 'place'), 1913),\n",
       " (('food', 'service'), 1879),\n",
       " (('good', 'ambience'), 1873),\n",
       " (('place', 'hang'), 1861),\n",
       " (('The', 'taste'), 1857),\n",
       " (('place', 'visit'), 1856),\n",
       " (('would', 'recommend'), 1849),\n",
       " (('The', 'chicken'), 1826),\n",
       " (('We', 'tried'), 1822),\n",
       " (('tasty', 'food'), 1810),\n",
       " (('worth', 'money'), 1746),\n",
       " (('nThe', 'service'), 1739),\n",
       " (('Nice', 'place'), 1738),\n",
       " (('best', 'part'), 1707),\n",
       " (('go', 'place'), 1687),\n",
       " (('next', 'time'), 1663)]"
      ]
     },
     "execution_count": 66,
     "metadata": {},
     "output_type": "execute_result"
    }
   ],
   "source": [
    "fd_bigrams.most_common(100)"
   ]
  },
  {
   "cell_type": "markdown",
   "id": "50d1781d-f037-4aab-b04e-84fdb1432cc9",
   "metadata": {},
   "source": [
    "## Applying trigram function on the 1D dataframe"
   ]
  },
  {
   "cell_type": "code",
   "execution_count": 67,
   "id": "ad3ef13c-2ee6-4ff3-a30a-67d5e3953323",
   "metadata": {},
   "outputs": [],
   "source": [
    "tri_grams = trigrams(total_reviews_1D)"
   ]
  },
  {
   "cell_type": "markdown",
   "id": "3dedf8c2-f02f-48fd-9019-22ac24520de8",
   "metadata": {},
   "source": [
    "### Getting bigram with the help of freqDist"
   ]
  },
  {
   "cell_type": "code",
   "execution_count": 68,
   "id": "f2df43d7-d91d-4d67-add4-f9936401c023",
   "metadata": {},
   "outputs": [],
   "source": [
    "fd_trigrams = FreqDist()\n",
    "\n",
    "for trigram in tri_grams:\n",
    "    fd_trigrams[trigram] = fd_trigrams[trigram] + 1"
   ]
  },
  {
   "cell_type": "markdown",
   "id": "33ad2df0-4825-4dcb-a0aa-e68d0ba8ea1f",
   "metadata": {},
   "source": [
    "### Getting 50 most common words in the list"
   ]
  },
  {
   "cell_type": "code",
   "execution_count": 69,
   "id": "4fd9ea2f-608a-4f27-9eaf-287c80a9a782",
   "metadata": {},
   "outputs": [
    {
     "data": {
      "text/plain": [
       "[(('veg', 'non', 'veg'), 1525),\n",
       " (('must', 'visit', 'place'), 1487),\n",
       " (('The', 'food', 'good'), 1339),\n",
       " (('place', 'hangout', 'friends'), 1165),\n",
       " (('I', 'must', 'say'), 1131),\n",
       " (('I', 'would', 'recommend'), 1059),\n",
       " (('I', 'visited', 'place'), 1054),\n",
       " (('I', 'would', 'say'), 979),\n",
       " (('place', 'hang', 'friends'), 967),\n",
       " (('food', 'really', 'good'), 886),\n",
       " (('nFood', 'nAmbience', 'nService'), 845),\n",
       " (('A', 'must', 'visit'), 768),\n",
       " (('The', 'ambience', 'good'), 751),\n",
       " (('A', 'good', 'place'), 737),\n",
       " (('North', 'Indian', 'food'), 675),\n",
       " (('I', 'would', 'like'), 619),\n",
       " (('nFood', 'nService', 'nAmbience'), 607),\n",
       " (('A', 'must', 'try'), 603),\n",
       " (('I', 'really', 'liked'), 595),\n",
       " (('I', 'ordered', 'chicken'), 582),\n",
       " (('first', 'time', 'I'), 570),\n",
       " (('The', 'staff', 'friendly'), 561),\n",
       " (('The', 'best', 'part'), 561),\n",
       " (('The', 'food', 'really'), 559),\n",
       " (('Overall', 'good', 'experience'), 558),\n",
       " (('I', 'love', 'place'), 554),\n",
       " (('paneer', 'butter', 'masala'), 554),\n",
       " (('really', 'good', 'The'), 552),\n",
       " (('A', 'nice', 'place'), 549),\n",
       " (('starters', 'main', 'course'), 541),\n",
       " (('food', 'I', 'ordered'), 539),\n",
       " (('I', 'would', 'suggest'), 539),\n",
       " (('The', 'staff', 'courteous'), 534),\n",
       " (('nService', 'nValue', 'money'), 528),\n",
       " (('I', 'would', 'definitely'), 520),\n",
       " (('I', 'ordered', 'food'), 516),\n",
       " (('place', 'good', 'food'), 513),\n",
       " (('must', 'try', 'place'), 486),\n",
       " (('nAmbience', 'nFood', 'nService'), 486),\n",
       " (('north', 'Indian', 'food'), 480),\n",
       " (('nRead', 'full', 'post'), 478),\n",
       " (('good', 'We', 'ordered'), 473),\n",
       " (('good', 'food', 'good'), 466),\n",
       " (('The', 'service', 'good'), 457),\n",
       " (('One', 'best', 'places'), 438),\n",
       " (('would', 'recommend', 'place'), 436),\n",
       " (('A', 'great', 'place'), 436),\n",
       " (('chicken', 'fried', 'rice'), 428),\n",
       " (('place', 'The', 'food'), 427),\n",
       " (('I', 'recommend', 'place'), 427)]"
      ]
     },
     "execution_count": 69,
     "metadata": {},
     "output_type": "execute_result"
    }
   ],
   "source": [
    "fd_trigrams.most_common(50)"
   ]
  },
  {
   "cell_type": "markdown",
   "id": "8d4c6aa2-0a4d-47c1-9442-a81e3de11ad4",
   "metadata": {},
   "source": [
    "### Plotting the 20 most common trigrams "
   ]
  },
  {
   "cell_type": "code",
   "execution_count": 70,
   "id": "4abc6e41-84e9-4965-ba09-1e2f94a25645",
   "metadata": {},
   "outputs": [
    {
     "data": {
      "image/png": "[encoded data removed]",
      "text/plain": [
       "<Figure size 640x480 with 1 Axes>"
      ]
     },
     "metadata": {},
     "output_type": "display_data"
    },
    {
     "data": {
      "text/plain": [
       "<Axes: xlabel='Samples', ylabel='Counts'>"
      ]
     },
     "execution_count": 70,
     "metadata": {},
     "output_type": "execute_result"
    }
   ],
   "source": [
    "fd_trigrams.plot(20)"
   ]
  },
  {
   "cell_type": "markdown",
   "id": "1d6ec320-9741-4c3e-8ec4-d20c2bacc0ba",
   "metadata": {},
   "source": [
    "### 6. Performing Spatial Analysis"
   ]
  },
  {
   "cell_type": "markdown",
   "id": "1cc09e62-db91-4b2e-87d5-49c304ae6c04",
   "metadata": {},
   "source": [
    "### Installing geocoder and geopy package "
   ]
  },
  {
   "cell_type": "code",
   "execution_count": 71,
   "id": "d2099476-903b-4f3c-bc78-d58b4c84a0d1",
   "metadata": {},
   "outputs": [
    {
     "name": "stdout",
     "output_type": "stream",
     "text": [
      "Defaulting to user installation because normal site-packages is not writeable\n",
      "Requirement already satisfied: geocoder in c:\\users\\aryan yadav\\appdata\\roaming\\python\\python312\\site-packages (1.38.1)\n",
      "Requirement already satisfied: click in c:\\users\\aryan yadav\\appdata\\roaming\\python\\python312\\site-packages (from geocoder) (8.1.7)\n",
      "Requirement already satisfied: future in c:\\users\\aryan yadav\\appdata\\roaming\\python\\python312\\site-packages (from geocoder) (1.0.0)\n",
      "Requirement already satisfied: ratelim in c:\\users\\aryan yadav\\appdata\\roaming\\python\\python312\\site-packages (from geocoder) (0.1.6)\n",
      "Requirement already satisfied: requests in c:\\users\\aryan yadav\\appdata\\roaming\\python\\python312\\site-packages (from geocoder) (2.32.3)\n",
      "Requirement already satisfied: six in c:\\users\\aryan yadav\\appdata\\roaming\\python\\python312\\site-packages (from geocoder) (1.16.0)\n",
      "Requirement already satisfied: colorama in c:\\users\\aryan yadav\\appdata\\roaming\\python\\python312\\site-packages (from click->geocoder) (0.4.6)\n",
      "Requirement already satisfied: decorator in c:\\users\\aryan yadav\\appdata\\roaming\\python\\python312\\site-packages (from ratelim->geocoder) (5.1.1)\n",
      "Requirement already satisfied: charset-normalizer<4,>=2 in c:\\users\\aryan yadav\\appdata\\roaming\\python\\python312\\site-packages (from requests->geocoder) (3.3.2)\n",
      "Requirement already satisfied: idna<4,>=2.5 in c:\\users\\aryan yadav\\appdata\\roaming\\python\\python312\\site-packages (from requests->geocoder) (3.7)\n",
      "Requirement already satisfied: urllib3<3,>=1.21.1 in c:\\users\\aryan yadav\\appdata\\roaming\\python\\python312\\site-packages (from requests->geocoder) (2.2.2)\n",
      "Requirement already satisfied: certifi>=2017.4.17 in c:\\users\\aryan yadav\\appdata\\roaming\\python\\python312\\site-packages (from requests->geocoder) (2024.7.4)\n",
      "Defaulting to user installation because normal site-packages is not writeable\n",
      "Requirement already satisfied: geopy in c:\\users\\aryan yadav\\appdata\\roaming\\python\\python312\\site-packages (2.4.1)\n",
      "Requirement already satisfied: geographiclib<3,>=1.52 in c:\\users\\aryan yadav\\appdata\\roaming\\python\\python312\\site-packages (from geopy) (2.0)\n"
     ]
    }
   ],
   "source": [
    "!pip install geocoder\n",
    "!pip install geopy"
   ]
  },
  {
   "cell_type": "markdown",
   "id": "e8851bc3-28c1-4253-820a-225b14ffa600",
   "metadata": {},
   "source": [
    "### Getting the unique values in the location column of the dataframe"
   ]
  },
  {
   "cell_type": "code",
   "execution_count": 72,
   "id": "33a6921f-4cf9-4594-9e41-952d5bb07c64",
   "metadata": {},
   "outputs": [
    {
     "data": {
      "text/plain": [
       "array(['Banashankari', 'Basavanagudi', 'Mysore Road', 'Jayanagar',\n",
       "       'Kumaraswamy Layout', 'Rajarajeshwari Nagar', 'Vijay Nagar',\n",
       "       'Uttarahalli', 'JP Nagar', 'South Bangalore', 'City Market',\n",
       "       'Nagarbhavi', 'Bannerghatta Road', 'BTM', 'Kanakapura Road',\n",
       "       'Bommanahalli', None, 'CV Raman Nagar', 'Electronic City', 'HSR',\n",
       "       'Marathahalli', 'Sarjapur Road', 'Wilson Garden', 'Shanti Nagar',\n",
       "       'Koramangala 5th Block', 'Koramangala 8th Block', 'Richmond Road',\n",
       "       'Koramangala 7th Block', 'Jalahalli', 'Koramangala 4th Block',\n",
       "       'Bellandur', 'Whitefield', 'East Bangalore', 'Old Airport Road',\n",
       "       'Indiranagar', 'Koramangala 1st Block', 'Frazer Town', 'RT Nagar',\n",
       "       'MG Road', 'Brigade Road', 'Lavelle Road', 'Church Street',\n",
       "       'Ulsoor', 'Residency Road', 'Shivajinagar', 'Infantry Road',\n",
       "       'St. Marks Road', 'Cunningham Road', 'Race Course Road',\n",
       "       'Commercial Street', 'Vasanth Nagar', 'HBR Layout', 'Domlur',\n",
       "       'Ejipura', 'Jeevan Bhima Nagar', 'Old Madras Road', 'Malleshwaram',\n",
       "       'Seshadripuram', 'Kammanahalli', 'Koramangala 6th Block',\n",
       "       'Majestic', 'Langford Town', 'Central Bangalore', 'Sanjay Nagar',\n",
       "       'Brookefield', 'ITPL Main Road, Whitefield',\n",
       "       'Varthur Main Road, Whitefield', 'KR Puram',\n",
       "       'Koramangala 2nd Block', 'Koramangala 3rd Block', 'Koramangala',\n",
       "       'Hosur Road', 'Rajajinagar', 'Banaswadi', 'North Bangalore',\n",
       "       'Nagawara', 'Hennur', 'Kalyan Nagar', 'New BEL Road', 'Jakkur',\n",
       "       'Rammurthy Nagar', 'Thippasandra', 'Kaggadasapura', 'Hebbal',\n",
       "       'Kengeri', 'Sankey Road', 'Sadashiv Nagar', 'Basaveshwara Nagar',\n",
       "       'Yeshwantpur', 'West Bangalore', 'Magadi Road', 'Yelahanka',\n",
       "       'Sahakara Nagar', 'Peenya'], dtype=object)"
      ]
     },
     "execution_count": 72,
     "metadata": {},
     "output_type": "execute_result"
    }
   ],
   "source": [
    "df['location'].unique()"
   ]
  },
  {
   "cell_type": "markdown",
   "id": "77127219-9e34-45a2-b332-0d4a5a1a2bb7",
   "metadata": {},
   "source": [
    "### Checking the length of the unique values in the location column of the daaframe"
   ]
  },
  {
   "cell_type": "code",
   "execution_count": 73,
   "id": "e09b1ee6-fd09-489a-afc0-7767a61ed308",
   "metadata": {},
   "outputs": [
    {
     "data": {
      "text/plain": [
       "94"
      ]
     },
     "execution_count": 73,
     "metadata": {},
     "output_type": "execute_result"
    }
   ],
   "source": [
    "len(df['location'].unique())"
   ]
  },
  {
   "cell_type": "markdown",
   "id": "6f6cee58-ee05-495d-9992-b17524d07cd2",
   "metadata": {},
   "source": [
    "### Concating the hierarchy of the location for the precise location"
   ]
  },
  {
   "cell_type": "code",
   "execution_count": 74,
   "id": "8d45407f-3768-4dac-93b1-de705d422979",
   "metadata": {},
   "outputs": [],
   "source": [
    "df['location'] = df['location']+ \" , Bangalore , Karnataka , India \""
   ]
  },
  {
   "cell_type": "markdown",
   "id": "e7eb2b2d-0037-4ef3-9f41-648507867265",
   "metadata": {},
   "source": [
    "### Checking the unique locations after the changes"
   ]
  },
  {
   "cell_type": "code",
   "execution_count": 75,
   "id": "8f8c72d5-9925-4d61-912a-c0b7e4efb1f8",
   "metadata": {},
   "outputs": [
    {
     "data": {
      "text/plain": [
       "array(['Banashankari , Bangalore , Karnataka , India ',\n",
       "       'Basavanagudi , Bangalore , Karnataka , India ',\n",
       "       'Mysore Road , Bangalore , Karnataka , India ',\n",
       "       'Jayanagar , Bangalore , Karnataka , India ',\n",
       "       'Kumaraswamy Layout , Bangalore , Karnataka , India ',\n",
       "       'Rajarajeshwari Nagar , Bangalore , Karnataka , India ',\n",
       "       'Vijay Nagar , Bangalore , Karnataka , India ',\n",
       "       'Uttarahalli , Bangalore , Karnataka , India ',\n",
       "       'JP Nagar , Bangalore , Karnataka , India ',\n",
       "       'South Bangalore , Bangalore , Karnataka , India ',\n",
       "       'City Market , Bangalore , Karnataka , India ',\n",
       "       'Nagarbhavi , Bangalore , Karnataka , India ',\n",
       "       'Bannerghatta Road , Bangalore , Karnataka , India ',\n",
       "       'BTM , Bangalore , Karnataka , India ',\n",
       "       'Kanakapura Road , Bangalore , Karnataka , India ',\n",
       "       'Bommanahalli , Bangalore , Karnataka , India ', nan,\n",
       "       'CV Raman Nagar , Bangalore , Karnataka , India ',\n",
       "       'Electronic City , Bangalore , Karnataka , India ',\n",
       "       'HSR , Bangalore , Karnataka , India ',\n",
       "       'Marathahalli , Bangalore , Karnataka , India ',\n",
       "       'Sarjapur Road , Bangalore , Karnataka , India ',\n",
       "       'Wilson Garden , Bangalore , Karnataka , India ',\n",
       "       'Shanti Nagar , Bangalore , Karnataka , India ',\n",
       "       'Koramangala 5th Block , Bangalore , Karnataka , India ',\n",
       "       'Koramangala 8th Block , Bangalore , Karnataka , India ',\n",
       "       'Richmond Road , Bangalore , Karnataka , India ',\n",
       "       'Koramangala 7th Block , Bangalore , Karnataka , India ',\n",
       "       'Jalahalli , Bangalore , Karnataka , India ',\n",
       "       'Koramangala 4th Block , Bangalore , Karnataka , India ',\n",
       "       'Bellandur , Bangalore , Karnataka , India ',\n",
       "       'Whitefield , Bangalore , Karnataka , India ',\n",
       "       'East Bangalore , Bangalore , Karnataka , India ',\n",
       "       'Old Airport Road , Bangalore , Karnataka , India ',\n",
       "       'Indiranagar , Bangalore , Karnataka , India ',\n",
       "       'Koramangala 1st Block , Bangalore , Karnataka , India ',\n",
       "       'Frazer Town , Bangalore , Karnataka , India ',\n",
       "       'RT Nagar , Bangalore , Karnataka , India ',\n",
       "       'MG Road , Bangalore , Karnataka , India ',\n",
       "       'Brigade Road , Bangalore , Karnataka , India ',\n",
       "       'Lavelle Road , Bangalore , Karnataka , India ',\n",
       "       'Church Street , Bangalore , Karnataka , India ',\n",
       "       'Ulsoor , Bangalore , Karnataka , India ',\n",
       "       'Residency Road , Bangalore , Karnataka , India ',\n",
       "       'Shivajinagar , Bangalore , Karnataka , India ',\n",
       "       'Infantry Road , Bangalore , Karnataka , India ',\n",
       "       'St. Marks Road , Bangalore , Karnataka , India ',\n",
       "       'Cunningham Road , Bangalore , Karnataka , India ',\n",
       "       'Race Course Road , Bangalore , Karnataka , India ',\n",
       "       'Commercial Street , Bangalore , Karnataka , India ',\n",
       "       'Vasanth Nagar , Bangalore , Karnataka , India ',\n",
       "       'HBR Layout , Bangalore , Karnataka , India ',\n",
       "       'Domlur , Bangalore , Karnataka , India ',\n",
       "       'Ejipura , Bangalore , Karnataka , India ',\n",
       "       'Jeevan Bhima Nagar , Bangalore , Karnataka , India ',\n",
       "       'Old Madras Road , Bangalore , Karnataka , India ',\n",
       "       'Malleshwaram , Bangalore , Karnataka , India ',\n",
       "       'Seshadripuram , Bangalore , Karnataka , India ',\n",
       "       'Kammanahalli , Bangalore , Karnataka , India ',\n",
       "       'Koramangala 6th Block , Bangalore , Karnataka , India ',\n",
       "       'Majestic , Bangalore , Karnataka , India ',\n",
       "       'Langford Town , Bangalore , Karnataka , India ',\n",
       "       'Central Bangalore , Bangalore , Karnataka , India ',\n",
       "       'Sanjay Nagar , Bangalore , Karnataka , India ',\n",
       "       'Brookefield , Bangalore , Karnataka , India ',\n",
       "       'ITPL Main Road, Whitefield , Bangalore , Karnataka , India ',\n",
       "       'Varthur Main Road, Whitefield , Bangalore , Karnataka , India ',\n",
       "       'KR Puram , Bangalore , Karnataka , India ',\n",
       "       'Koramangala 2nd Block , Bangalore , Karnataka , India ',\n",
       "       'Koramangala 3rd Block , Bangalore , Karnataka , India ',\n",
       "       'Koramangala , Bangalore , Karnataka , India ',\n",
       "       'Hosur Road , Bangalore , Karnataka , India ',\n",
       "       'Rajajinagar , Bangalore , Karnataka , India ',\n",
       "       'Banaswadi , Bangalore , Karnataka , India ',\n",
       "       'North Bangalore , Bangalore , Karnataka , India ',\n",
       "       'Nagawara , Bangalore , Karnataka , India ',\n",
       "       'Hennur , Bangalore , Karnataka , India ',\n",
       "       'Kalyan Nagar , Bangalore , Karnataka , India ',\n",
       "       'New BEL Road , Bangalore , Karnataka , India ',\n",
       "       'Jakkur , Bangalore , Karnataka , India ',\n",
       "       'Rammurthy Nagar , Bangalore , Karnataka , India ',\n",
       "       'Thippasandra , Bangalore , Karnataka , India ',\n",
       "       'Kaggadasapura , Bangalore , Karnataka , India ',\n",
       "       'Hebbal , Bangalore , Karnataka , India ',\n",
       "       'Kengeri , Bangalore , Karnataka , India ',\n",
       "       'Sankey Road , Bangalore , Karnataka , India ',\n",
       "       'Sadashiv Nagar , Bangalore , Karnataka , India ',\n",
       "       'Basaveshwara Nagar , Bangalore , Karnataka , India ',\n",
       "       'Yeshwantpur , Bangalore , Karnataka , India ',\n",
       "       'West Bangalore , Bangalore , Karnataka , India ',\n",
       "       'Magadi Road , Bangalore , Karnataka , India ',\n",
       "       'Yelahanka , Bangalore , Karnataka , India ',\n",
       "       'Sahakara Nagar , Bangalore , Karnataka , India ',\n",
       "       'Peenya , Bangalore , Karnataka , India '], dtype=object)"
      ]
     },
     "execution_count": 75,
     "metadata": {},
     "output_type": "execute_result"
    }
   ],
   "source": [
    "df['location'].unique()"
   ]
  },
  {
   "cell_type": "markdown",
   "id": "9a5380cc-5f16-46d4-bd38-deba7f8d8031",
   "metadata": {},
   "source": [
    "## Copying the data into the different dataframe"
   ]
  },
  {
   "cell_type": "code",
   "execution_count": 76,
   "id": "09e5c98e-da3c-44a4-aca4-a4804cc4c29b",
   "metadata": {},
   "outputs": [],
   "source": [
    "df_copy = df.copy()"
   ]
  },
  {
   "cell_type": "markdown",
   "id": "9b3a787f-7a63-4970-8d1c-2cbf851b9887",
   "metadata": {},
   "source": [
    "### Checking the null values in the datafram of location columns"
   ]
  },
  {
   "cell_type": "code",
   "execution_count": 77,
   "id": "a4fa2819-3e3d-4540-8635-4a644d3f90a6",
   "metadata": {},
   "outputs": [
    {
     "data": {
      "text/plain": [
       "np.int64(21)"
      ]
     },
     "execution_count": 77,
     "metadata": {},
     "output_type": "execute_result"
    }
   ],
   "source": [
    "df_copy['location'].isnull().sum()"
   ]
  },
  {
   "cell_type": "markdown",
   "id": "7dc9e7db-73a1-4121-927c-bfedbbf8fc26",
   "metadata": {},
   "source": [
    "### Dropping the null values from the location columns"
   ]
  },
  {
   "cell_type": "code",
   "execution_count": 78,
   "id": "cb60174a-58ba-4141-8bd2-0e4c46bc9aa8",
   "metadata": {},
   "outputs": [],
   "source": [
    "df_copy = df_copy.dropna(subset = ['location'])"
   ]
  },
  {
   "cell_type": "markdown",
   "id": "a77d0039-d469-48a4-976a-1b60c730dbcd",
   "metadata": {},
   "source": [
    "### Checking the dataframe after making the changes"
   ]
  },
  {
   "cell_type": "code",
   "execution_count": 79,
   "id": "cf8e793a-47ad-4810-97a3-d33339710c0c",
   "metadata": {},
   "outputs": [
    {
     "data": {
      "text/plain": [
       "np.int64(0)"
      ]
     },
     "execution_count": 79,
     "metadata": {},
     "output_type": "execute_result"
    }
   ],
   "source": [
    "df_copy['location'].isnull().sum()"
   ]
  },
  {
   "cell_type": "markdown",
   "id": "4c2d6d32-22ae-42d1-85ec-147122e1b3da",
   "metadata": {},
   "source": [
    "### Creating a different dataframe of only the unique values from the  location column"
   ]
  },
  {
   "cell_type": "code",
   "execution_count": 80,
   "id": "49168ff8-0cbb-43dc-9909-b8fc7e1f7498",
   "metadata": {},
   "outputs": [],
   "source": [
    "locations = pd.DataFrame(df_copy['location'].unique())"
   ]
  },
  {
   "cell_type": "markdown",
   "id": "251e0176-7fd5-4c9e-843d-0c89de5131f3",
   "metadata": {},
   "source": [
    "### Renaming the column names "
   ]
  },
  {
   "cell_type": "code",
   "execution_count": 81,
   "id": "f468d6e8-2165-4f11-9855-a3f76f4e3c43",
   "metadata": {},
   "outputs": [],
   "source": [
    "locations.columns = ['name']"
   ]
  },
  {
   "cell_type": "markdown",
   "id": "a272efcf-fb03-4923-8221-cf102668b9e4",
   "metadata": {},
   "source": [
    "### Checking the dataframe after the changes"
   ]
  },
  {
   "cell_type": "code",
   "execution_count": 82,
   "id": "0fbd0b5a-f3af-48c8-b04b-4ffab2cc2261",
   "metadata": {},
   "outputs": [
    {
     "data": {
      "text/html": [
       "<div>\n",
       "<style scoped>\n",
       "    .dataframe tbody tr th:only-of-type {\n",
       "        vertical-align: middle;\n",
       "    }\n",
       "\n",
       "    .dataframe tbody tr th {\n",
       "        vertical-align: top;\n",
       "    }\n",
       "\n",
       "    .dataframe thead th {\n",
       "        text-align: right;\n",
       "    }\n",
       "</style>\n",
       "<table border=\"1\" class=\"dataframe\">\n",
       "  <thead>\n",
       "    <tr style=\"text-align: right;\">\n",
       "      <th></th>\n",
       "      <th>name</th>\n",
       "    </tr>\n",
       "  </thead>\n",
       "  <tbody>\n",
       "    <tr>\n",
       "      <th>0</th>\n",
       "      <td>Banashankari , Bangalore , Karnataka , India</td>\n",
       "    </tr>\n",
       "    <tr>\n",
       "      <th>1</th>\n",
       "      <td>Basavanagudi , Bangalore , Karnataka , India</td>\n",
       "    </tr>\n",
       "    <tr>\n",
       "      <th>2</th>\n",
       "      <td>Mysore Road , Bangalore , Karnataka , India</td>\n",
       "    </tr>\n",
       "    <tr>\n",
       "      <th>3</th>\n",
       "      <td>Jayanagar , Bangalore , Karnataka , India</td>\n",
       "    </tr>\n",
       "    <tr>\n",
       "      <th>4</th>\n",
       "      <td>Kumaraswamy Layout , Bangalore , Karnataka , I...</td>\n",
       "    </tr>\n",
       "    <tr>\n",
       "      <th>...</th>\n",
       "      <td>...</td>\n",
       "    </tr>\n",
       "    <tr>\n",
       "      <th>88</th>\n",
       "      <td>West Bangalore , Bangalore , Karnataka , India</td>\n",
       "    </tr>\n",
       "    <tr>\n",
       "      <th>89</th>\n",
       "      <td>Magadi Road , Bangalore , Karnataka , India</td>\n",
       "    </tr>\n",
       "    <tr>\n",
       "      <th>90</th>\n",
       "      <td>Yelahanka , Bangalore , Karnataka , India</td>\n",
       "    </tr>\n",
       "    <tr>\n",
       "      <th>91</th>\n",
       "      <td>Sahakara Nagar , Bangalore , Karnataka , India</td>\n",
       "    </tr>\n",
       "    <tr>\n",
       "      <th>92</th>\n",
       "      <td>Peenya , Bangalore , Karnataka , India</td>\n",
       "    </tr>\n",
       "  </tbody>\n",
       "</table>\n",
       "<p>93 rows × 1 columns</p>\n",
       "</div>"
      ],
      "text/plain": [
       "                                                 name\n",
       "0       Banashankari , Bangalore , Karnataka , India \n",
       "1       Basavanagudi , Bangalore , Karnataka , India \n",
       "2        Mysore Road , Bangalore , Karnataka , India \n",
       "3          Jayanagar , Bangalore , Karnataka , India \n",
       "4   Kumaraswamy Layout , Bangalore , Karnataka , I...\n",
       "..                                                ...\n",
       "88    West Bangalore , Bangalore , Karnataka , India \n",
       "89       Magadi Road , Bangalore , Karnataka , India \n",
       "90         Yelahanka , Bangalore , Karnataka , India \n",
       "91    Sahakara Nagar , Bangalore , Karnataka , India \n",
       "92            Peenya , Bangalore , Karnataka , India \n",
       "\n",
       "[93 rows x 1 columns]"
      ]
     },
     "execution_count": 82,
     "metadata": {},
     "output_type": "execute_result"
    }
   ],
   "source": [
    "locations"
   ]
  },
  {
   "cell_type": "markdown",
   "id": "f5b82820-c736-48f2-9b1c-eed4c10528ad",
   "metadata": {},
   "source": [
    "### Importing Nominatim from the geopy gecoders"
   ]
  },
  {
   "cell_type": "code",
   "execution_count": 83,
   "id": "bb82eeaf-701d-4e37-800a-daaab91ba015",
   "metadata": {},
   "outputs": [],
   "source": [
    "from geopy.geocoders import Nominatim"
   ]
  },
  {
   "cell_type": "markdown",
   "id": "39c96007-fac4-4339-97c6-7311370235d3",
   "metadata": {},
   "source": [
    "### Assigning Naminatim function"
   ]
  },
  {
   "cell_type": "code",
   "execution_count": 84,
   "id": "515c1343-f98a-4f90-b95c-2a466f0b65cd",
   "metadata": {},
   "outputs": [],
   "source": [
    "geolocator = Nominatim(user_agent = \"app\", timeout = None)\n"
   ]
  },
  {
   "cell_type": "markdown",
   "id": "9667df4d-0100-4aaa-96aa-185a2246d2a8",
   "metadata": {},
   "source": [
    "### Getting the latitude and Longitude from the Nominatim function of each location if not present appending NaN values"
   ]
  },
  {
   "cell_type": "code",
   "execution_count": 85,
   "id": "b8dea260-dfbc-4334-842d-dbc46e53c079",
   "metadata": {},
   "outputs": [],
   "source": [
    "lat = []\n",
    "lon = []\n",
    "\n",
    "for location in locations['name']:\n",
    "    location = geolocator.geocode(location)\n",
    "    if location is None:\n",
    "        lat.append(np.nan)\n",
    "        lon.append(np.nan)\n",
    "    else:\n",
    "        lat.append(location.latitude)\n",
    "        lon.append(location.longitude)\n",
    "    "
   ]
  },
  {
   "cell_type": "markdown",
   "id": "962cb6db-28aa-4248-95e7-a1e41d36adf5",
   "metadata": {},
   "source": [
    "### Adding the columns lat and and lon in which storing the latitudes ad longitudes of all the locations"
   ]
  },
  {
   "cell_type": "code",
   "execution_count": 86,
   "id": "5eb740ab-1a53-41f4-9a22-f90db1c984bb",
   "metadata": {},
   "outputs": [],
   "source": [
    "locations['lat'] = lat\n",
    "locations['lon'] = lon"
   ]
  },
  {
   "cell_type": "code",
   "execution_count": 87,
   "id": "cb371b25-4bc2-40b7-96e7-05d3a7522b6e",
   "metadata": {},
   "outputs": [
    {
     "data": {
      "text/html": [
       "<div>\n",
       "<style scoped>\n",
       "    .dataframe tbody tr th:only-of-type {\n",
       "        vertical-align: middle;\n",
       "    }\n",
       "\n",
       "    .dataframe tbody tr th {\n",
       "        vertical-align: top;\n",
       "    }\n",
       "\n",
       "    .dataframe thead th {\n",
       "        text-align: right;\n",
       "    }\n",
       "</style>\n",
       "<table border=\"1\" class=\"dataframe\">\n",
       "  <thead>\n",
       "    <tr style=\"text-align: right;\">\n",
       "      <th></th>\n",
       "      <th>name</th>\n",
       "      <th>lat</th>\n",
       "      <th>lon</th>\n",
       "    </tr>\n",
       "  </thead>\n",
       "  <tbody>\n",
       "    <tr>\n",
       "      <th>0</th>\n",
       "      <td>Banashankari , Bangalore , Karnataka , India</td>\n",
       "      <td>12.939333</td>\n",
       "      <td>77.553982</td>\n",
       "    </tr>\n",
       "    <tr>\n",
       "      <th>1</th>\n",
       "      <td>Basavanagudi , Bangalore , Karnataka , India</td>\n",
       "      <td>12.941726</td>\n",
       "      <td>77.575502</td>\n",
       "    </tr>\n",
       "    <tr>\n",
       "      <th>2</th>\n",
       "      <td>Mysore Road , Bangalore , Karnataka , India</td>\n",
       "      <td>12.951766</td>\n",
       "      <td>77.540063</td>\n",
       "    </tr>\n",
       "    <tr>\n",
       "      <th>3</th>\n",
       "      <td>Jayanagar , Bangalore , Karnataka , India</td>\n",
       "      <td>12.941849</td>\n",
       "      <td>77.586898</td>\n",
       "    </tr>\n",
       "    <tr>\n",
       "      <th>4</th>\n",
       "      <td>Kumaraswamy Layout , Bangalore , Karnataka , I...</td>\n",
       "      <td>12.906768</td>\n",
       "      <td>77.559502</td>\n",
       "    </tr>\n",
       "    <tr>\n",
       "      <th>...</th>\n",
       "      <td>...</td>\n",
       "      <td>...</td>\n",
       "      <td>...</td>\n",
       "    </tr>\n",
       "    <tr>\n",
       "      <th>88</th>\n",
       "      <td>West Bangalore , Bangalore , Karnataka , India</td>\n",
       "      <td>13.009476</td>\n",
       "      <td>77.553089</td>\n",
       "    </tr>\n",
       "    <tr>\n",
       "      <th>89</th>\n",
       "      <td>Magadi Road , Bangalore , Karnataka , India</td>\n",
       "      <td>12.975653</td>\n",
       "      <td>77.555355</td>\n",
       "    </tr>\n",
       "    <tr>\n",
       "      <th>90</th>\n",
       "      <td>Yelahanka , Bangalore , Karnataka , India</td>\n",
       "      <td>13.100698</td>\n",
       "      <td>77.596345</td>\n",
       "    </tr>\n",
       "    <tr>\n",
       "      <th>91</th>\n",
       "      <td>Sahakara Nagar , Bangalore , Karnataka , India</td>\n",
       "      <td>13.062147</td>\n",
       "      <td>77.580061</td>\n",
       "    </tr>\n",
       "    <tr>\n",
       "      <th>92</th>\n",
       "      <td>Peenya , Bangalore , Karnataka , India</td>\n",
       "      <td>13.032942</td>\n",
       "      <td>77.527325</td>\n",
       "    </tr>\n",
       "  </tbody>\n",
       "</table>\n",
       "<p>93 rows × 3 columns</p>\n",
       "</div>"
      ],
      "text/plain": [
       "                                                 name        lat        lon\n",
       "0       Banashankari , Bangalore , Karnataka , India   12.939333  77.553982\n",
       "1       Basavanagudi , Bangalore , Karnataka , India   12.941726  77.575502\n",
       "2        Mysore Road , Bangalore , Karnataka , India   12.951766  77.540063\n",
       "3          Jayanagar , Bangalore , Karnataka , India   12.941849  77.586898\n",
       "4   Kumaraswamy Layout , Bangalore , Karnataka , I...  12.906768  77.559502\n",
       "..                                                ...        ...        ...\n",
       "88    West Bangalore , Bangalore , Karnataka , India   13.009476  77.553089\n",
       "89       Magadi Road , Bangalore , Karnataka , India   12.975653  77.555355\n",
       "90         Yelahanka , Bangalore , Karnataka , India   13.100698  77.596345\n",
       "91    Sahakara Nagar , Bangalore , Karnataka , India   13.062147  77.580061\n",
       "92            Peenya , Bangalore , Karnataka , India   13.032942  77.527325\n",
       "\n",
       "[93 rows x 3 columns]"
      ]
     },
     "execution_count": 87,
     "metadata": {},
     "output_type": "execute_result"
    }
   ],
   "source": [
    "locations"
   ]
  },
  {
   "cell_type": "markdown",
   "id": "bb9f97c3-be3b-4bdc-838e-f7187a145271",
   "metadata": {},
   "source": [
    "### Checking the null values in the locations dataframe"
   ]
  },
  {
   "cell_type": "code",
   "execution_count": 88,
   "id": "6ef7f8c5-ed6d-4df1-8458-9fccddc054a3",
   "metadata": {},
   "outputs": [
    {
     "data": {
      "text/plain": [
       "name    0\n",
       "lat     2\n",
       "lon     2\n",
       "dtype: int64"
      ]
     },
     "execution_count": 88,
     "metadata": {},
     "output_type": "execute_result"
    }
   ],
   "source": [
    "locations.isnull().sum()"
   ]
  },
  {
   "cell_type": "markdown",
   "id": "d32cd549-f2e8-414a-8e4b-eb020062d819",
   "metadata": {},
   "source": [
    "### Checking which rows nave null values "
   ]
  },
  {
   "cell_type": "code",
   "execution_count": 89,
   "id": "c7ad4170-8ee2-4bb2-ae98-879f79388f01",
   "metadata": {},
   "outputs": [
    {
     "data": {
      "text/html": [
       "<div>\n",
       "<style scoped>\n",
       "    .dataframe tbody tr th:only-of-type {\n",
       "        vertical-align: middle;\n",
       "    }\n",
       "\n",
       "    .dataframe tbody tr th {\n",
       "        vertical-align: top;\n",
       "    }\n",
       "\n",
       "    .dataframe thead th {\n",
       "        text-align: right;\n",
       "    }\n",
       "</style>\n",
       "<table border=\"1\" class=\"dataframe\">\n",
       "  <thead>\n",
       "    <tr style=\"text-align: right;\">\n",
       "      <th></th>\n",
       "      <th>name</th>\n",
       "      <th>lat</th>\n",
       "      <th>lon</th>\n",
       "    </tr>\n",
       "  </thead>\n",
       "  <tbody>\n",
       "    <tr>\n",
       "      <th>79</th>\n",
       "      <td>Rammurthy Nagar , Bangalore , Karnataka , India</td>\n",
       "      <td>NaN</td>\n",
       "      <td>NaN</td>\n",
       "    </tr>\n",
       "    <tr>\n",
       "      <th>85</th>\n",
       "      <td>Sadashiv Nagar , Bangalore , Karnataka , India</td>\n",
       "      <td>NaN</td>\n",
       "      <td>NaN</td>\n",
       "    </tr>\n",
       "  </tbody>\n",
       "</table>\n",
       "</div>"
      ],
      "text/plain": [
       "                                                name  lat  lon\n",
       "79  Rammurthy Nagar , Bangalore , Karnataka , India   NaN  NaN\n",
       "85   Sadashiv Nagar , Bangalore , Karnataka , India   NaN  NaN"
      ]
     },
     "execution_count": 89,
     "metadata": {},
     "output_type": "execute_result"
    }
   ],
   "source": [
    "locations[locations['lat'].isna()]"
   ]
  },
  {
   "cell_type": "markdown",
   "id": "5d9d84fb-ea70-4209-a52b-ac0c2df0c6f8",
   "metadata": {},
   "source": [
    "### Manually Passing the latitude and logitude which contains null values"
   ]
  },
  {
   "cell_type": "code",
   "execution_count": 90,
   "id": "b8047f35-0b33-4e78-9aac-7dc75dce27cb",
   "metadata": {},
   "outputs": [],
   "source": [
    "locations['lat'][79] = 13.0163\n",
    "locations['lon'][79]= 77.6785"
   ]
  },
  {
   "cell_type": "code",
   "execution_count": 91,
   "id": "2b0f1233-cd52-4655-b83e-ff3c60e0cc93",
   "metadata": {},
   "outputs": [],
   "source": [
    "locations['lat'][85] = 13.0068\n",
    "locations['lon'][85]= 77.5813"
   ]
  },
  {
   "cell_type": "markdown",
   "id": "521e9feb-3b83-4c69-8fe1-624847f96f0c",
   "metadata": {},
   "source": [
    "### Checking the null values in the locations dataframe"
   ]
  },
  {
   "cell_type": "code",
   "execution_count": 92,
   "id": "9919024d-a861-432e-83ab-46004d67b4f8",
   "metadata": {},
   "outputs": [
    {
     "data": {
      "text/html": [
       "<div>\n",
       "<style scoped>\n",
       "    .dataframe tbody tr th:only-of-type {\n",
       "        vertical-align: middle;\n",
       "    }\n",
       "\n",
       "    .dataframe tbody tr th {\n",
       "        vertical-align: top;\n",
       "    }\n",
       "\n",
       "    .dataframe thead th {\n",
       "        text-align: right;\n",
       "    }\n",
       "</style>\n",
       "<table border=\"1\" class=\"dataframe\">\n",
       "  <thead>\n",
       "    <tr style=\"text-align: right;\">\n",
       "      <th></th>\n",
       "      <th>name</th>\n",
       "      <th>lat</th>\n",
       "      <th>lon</th>\n",
       "    </tr>\n",
       "  </thead>\n",
       "  <tbody>\n",
       "  </tbody>\n",
       "</table>\n",
       "</div>"
      ],
      "text/plain": [
       "Empty DataFrame\n",
       "Columns: [name, lat, lon]\n",
       "Index: []"
      ]
     },
     "execution_count": 92,
     "metadata": {},
     "output_type": "execute_result"
    }
   ],
   "source": [
    "locations[locations['lat'].isna()]"
   ]
  },
  {
   "cell_type": "markdown",
   "id": "8767c710-9edc-4112-88f5-b5ce2a704ba4",
   "metadata": {},
   "source": [
    "### Checking the null values in the column cuisines in dataframe"
   ]
  },
  {
   "cell_type": "code",
   "execution_count": 93,
   "id": "83d4930d-0d76-4f47-8708-9eb505c1cd38",
   "metadata": {},
   "outputs": [
    {
     "data": {
      "text/plain": [
       "np.int64(45)"
      ]
     },
     "execution_count": 93,
     "metadata": {},
     "output_type": "execute_result"
    }
   ],
   "source": [
    "df['cuisines'].isnull().sum()"
   ]
  },
  {
   "cell_type": "markdown",
   "id": "3d26ef55-96ca-4e02-8387-53183e44e2b9",
   "metadata": {},
   "source": [
    "### Dropping the values which have null values from the cuisines "
   ]
  },
  {
   "cell_type": "code",
   "execution_count": 94,
   "id": "fa509f26-f962-403d-b1fa-d0d462f52b3a",
   "metadata": {},
   "outputs": [],
   "source": [
    "df = df.dropna(subset = ['cuisines'])"
   ]
  },
  {
   "cell_type": "markdown",
   "id": "25244c12-8b7e-4ee0-9ab9-fda0619dcd82",
   "metadata": {},
   "source": [
    "### Storing the values in the df which contains the North Indian cuisine in the Restaurant"
   ]
  },
  {
   "cell_type": "code",
   "execution_count": 95,
   "id": "5f8abc87-5251-45cd-bef8-804a115ed56c",
   "metadata": {},
   "outputs": [],
   "source": [
    "north_india = df[df['cuisines'].str.contains('North Indian')]"
   ]
  },
  {
   "cell_type": "markdown",
   "id": "6657a4e5-6a42-4e19-8248-6ef9cccb8b59",
   "metadata": {},
   "source": [
    "### Checking the shape/Structure of the Dataframe"
   ]
  },
  {
   "cell_type": "code",
   "execution_count": 96,
   "id": "71d3c12c-fe64-40ed-8993-f2c7088ff24e",
   "metadata": {},
   "outputs": [
    {
     "data": {
      "text/plain": [
       "(21085, 18)"
      ]
     },
     "execution_count": 96,
     "metadata": {},
     "output_type": "execute_result"
    }
   ],
   "source": [
    "north_india.shape"
   ]
  },
  {
   "cell_type": "markdown",
   "id": "2d5e19c7-6fc8-471d-8422-d423509c131f",
   "metadata": {},
   "source": [
    "### Checking the top 2 rows from the dataframe"
   ]
  },
  {
   "cell_type": "code",
   "execution_count": 97,
   "id": "ede9d5f2-56e2-4e15-8d37-30309622ed0f",
   "metadata": {},
   "outputs": [
    {
     "data": {
      "text/html": [
       "<div>\n",
       "<style scoped>\n",
       "    .dataframe tbody tr th:only-of-type {\n",
       "        vertical-align: middle;\n",
       "    }\n",
       "\n",
       "    .dataframe tbody tr th {\n",
       "        vertical-align: top;\n",
       "    }\n",
       "\n",
       "    .dataframe thead th {\n",
       "        text-align: right;\n",
       "    }\n",
       "</style>\n",
       "<table border=\"1\" class=\"dataframe\">\n",
       "  <thead>\n",
       "    <tr style=\"text-align: right;\">\n",
       "      <th></th>\n",
       "      <th>index</th>\n",
       "      <th>url</th>\n",
       "      <th>address</th>\n",
       "      <th>name</th>\n",
       "      <th>online_order</th>\n",
       "      <th>book_table</th>\n",
       "      <th>rate</th>\n",
       "      <th>votes</th>\n",
       "      <th>phone</th>\n",
       "      <th>location</th>\n",
       "      <th>rest_type</th>\n",
       "      <th>dish_liked</th>\n",
       "      <th>cuisines</th>\n",
       "      <th>approx_cost(for two people)</th>\n",
       "      <th>reviews_list</th>\n",
       "      <th>menu_item</th>\n",
       "      <th>listed_in(type)</th>\n",
       "      <th>listed_in(city)</th>\n",
       "    </tr>\n",
       "  </thead>\n",
       "  <tbody>\n",
       "    <tr>\n",
       "      <th>0</th>\n",
       "      <td>0</td>\n",
       "      <td>https://www.zomato.com/bangalore/jalsa-banasha...</td>\n",
       "      <td>942, 21st Main Road, 2nd Stage, Banashankari, ...</td>\n",
       "      <td>Jalsa</td>\n",
       "      <td>Yes</td>\n",
       "      <td>Yes</td>\n",
       "      <td>4.1</td>\n",
       "      <td>775</td>\n",
       "      <td>080 42297555\\r\\n+91 9743772233</td>\n",
       "      <td>Banashankari , Bangalore , Karnataka , India</td>\n",
       "      <td>Casual Dining</td>\n",
       "      <td>Pasta, Lunch Buffet, Masala Papad, Paneer Laja...</td>\n",
       "      <td>North Indian, Mughlai, Chinese</td>\n",
       "      <td>800</td>\n",
       "      <td>[('Rated 4.0', 'RATED\\n  A beautiful place to ...</td>\n",
       "      <td>[]</td>\n",
       "      <td>Buffet</td>\n",
       "      <td>Banashankari</td>\n",
       "    </tr>\n",
       "    <tr>\n",
       "      <th>1</th>\n",
       "      <td>1</td>\n",
       "      <td>https://www.zomato.com/bangalore/spice-elephan...</td>\n",
       "      <td>2nd Floor, 80 Feet Road, Near Big Bazaar, 6th ...</td>\n",
       "      <td>Spice Elephant</td>\n",
       "      <td>Yes</td>\n",
       "      <td>No</td>\n",
       "      <td>4.1</td>\n",
       "      <td>787</td>\n",
       "      <td>080 41714161</td>\n",
       "      <td>Banashankari , Bangalore , Karnataka , India</td>\n",
       "      <td>Casual Dining</td>\n",
       "      <td>Momos, Lunch Buffet, Chocolate Nirvana, Thai G...</td>\n",
       "      <td>Chinese, North Indian, Thai</td>\n",
       "      <td>800</td>\n",
       "      <td>[('Rated 4.0', 'RATED\\n  Had been here for din...</td>\n",
       "      <td>[]</td>\n",
       "      <td>Buffet</td>\n",
       "      <td>Banashankari</td>\n",
       "    </tr>\n",
       "  </tbody>\n",
       "</table>\n",
       "</div>"
      ],
      "text/plain": [
       "   index                                                url  \\\n",
       "0      0  https://www.zomato.com/bangalore/jalsa-banasha...   \n",
       "1      1  https://www.zomato.com/bangalore/spice-elephan...   \n",
       "\n",
       "                                             address            name  \\\n",
       "0  942, 21st Main Road, 2nd Stage, Banashankari, ...           Jalsa   \n",
       "1  2nd Floor, 80 Feet Road, Near Big Bazaar, 6th ...  Spice Elephant   \n",
       "\n",
       "  online_order book_table  rate  votes                           phone  \\\n",
       "0          Yes        Yes   4.1    775  080 42297555\\r\\n+91 9743772233   \n",
       "1          Yes         No   4.1    787                    080 41714161   \n",
       "\n",
       "                                        location      rest_type  \\\n",
       "0  Banashankari , Bangalore , Karnataka , India   Casual Dining   \n",
       "1  Banashankari , Bangalore , Karnataka , India   Casual Dining   \n",
       "\n",
       "                                          dish_liked  \\\n",
       "0  Pasta, Lunch Buffet, Masala Papad, Paneer Laja...   \n",
       "1  Momos, Lunch Buffet, Chocolate Nirvana, Thai G...   \n",
       "\n",
       "                         cuisines approx_cost(for two people)  \\\n",
       "0  North Indian, Mughlai, Chinese                         800   \n",
       "1     Chinese, North Indian, Thai                         800   \n",
       "\n",
       "                                        reviews_list menu_item  \\\n",
       "0  [('Rated 4.0', 'RATED\\n  A beautiful place to ...        []   \n",
       "1  [('Rated 4.0', 'RATED\\n  Had been here for din...        []   \n",
       "\n",
       "  listed_in(type) listed_in(city)  \n",
       "0          Buffet    Banashankari  \n",
       "1          Buffet    Banashankari  "
      ]
     },
     "execution_count": 97,
     "metadata": {},
     "output_type": "execute_result"
    }
   ],
   "source": [
    "north_india.head(2)"
   ]
  },
  {
   "cell_type": "markdown",
   "id": "c61a3c68-c0cc-475e-a2dc-fd0ad256b6be",
   "metadata": {},
   "source": [
    "### Getting the count of restaurant locations having with there location names and reseting there names"
   ]
  },
  {
   "cell_type": "code",
   "execution_count": 98,
   "id": "181134fc-b6cb-4d98-b3b7-96d23620b4ae",
   "metadata": {},
   "outputs": [],
   "source": [
    "north_india_rest_count = north_india['location'].value_counts().reset_index().rename(columns={'location':'name'})"
   ]
  },
  {
   "cell_type": "markdown",
   "id": "39b5d1fd-29cb-448a-be84-d02c7591600e",
   "metadata": {},
   "source": [
    "### Checking the dataframe"
   ]
  },
  {
   "cell_type": "code",
   "execution_count": 99,
   "id": "9f50c2e6-f73c-4652-89c2-a7495620922d",
   "metadata": {},
   "outputs": [
    {
     "data": {
      "text/html": [
       "<div>\n",
       "<style scoped>\n",
       "    .dataframe tbody tr th:only-of-type {\n",
       "        vertical-align: middle;\n",
       "    }\n",
       "\n",
       "    .dataframe tbody tr th {\n",
       "        vertical-align: top;\n",
       "    }\n",
       "\n",
       "    .dataframe thead th {\n",
       "        text-align: right;\n",
       "    }\n",
       "</style>\n",
       "<table border=\"1\" class=\"dataframe\">\n",
       "  <thead>\n",
       "    <tr style=\"text-align: right;\">\n",
       "      <th></th>\n",
       "      <th>name</th>\n",
       "      <th>count</th>\n",
       "    </tr>\n",
       "  </thead>\n",
       "  <tbody>\n",
       "    <tr>\n",
       "      <th>0</th>\n",
       "      <td>BTM , Bangalore , Karnataka , India</td>\n",
       "      <td>2469</td>\n",
       "    </tr>\n",
       "    <tr>\n",
       "      <th>1</th>\n",
       "      <td>HSR , Bangalore , Karnataka , India</td>\n",
       "      <td>1123</td>\n",
       "    </tr>\n",
       "    <tr>\n",
       "      <th>2</th>\n",
       "      <td>Whitefield , Bangalore , Karnataka , India</td>\n",
       "      <td>1059</td>\n",
       "    </tr>\n",
       "    <tr>\n",
       "      <th>3</th>\n",
       "      <td>Marathahalli , Bangalore , Karnataka , India</td>\n",
       "      <td>1038</td>\n",
       "    </tr>\n",
       "    <tr>\n",
       "      <th>4</th>\n",
       "      <td>JP Nagar , Bangalore , Karnataka , India</td>\n",
       "      <td>958</td>\n",
       "    </tr>\n",
       "    <tr>\n",
       "      <th>...</th>\n",
       "      <td>...</td>\n",
       "      <td>...</td>\n",
       "    </tr>\n",
       "    <tr>\n",
       "      <th>85</th>\n",
       "      <td>Hebbal , Bangalore , Karnataka , India</td>\n",
       "      <td>4</td>\n",
       "    </tr>\n",
       "    <tr>\n",
       "      <th>86</th>\n",
       "      <td>Jakkur , Bangalore , Karnataka , India</td>\n",
       "      <td>3</td>\n",
       "    </tr>\n",
       "    <tr>\n",
       "      <th>87</th>\n",
       "      <td>Central Bangalore , Bangalore , Karnataka , In...</td>\n",
       "      <td>2</td>\n",
       "    </tr>\n",
       "    <tr>\n",
       "      <th>88</th>\n",
       "      <td>West Bangalore , Bangalore , Karnataka , India</td>\n",
       "      <td>1</td>\n",
       "    </tr>\n",
       "    <tr>\n",
       "      <th>89</th>\n",
       "      <td>Peenya , Bangalore , Karnataka , India</td>\n",
       "      <td>1</td>\n",
       "    </tr>\n",
       "  </tbody>\n",
       "</table>\n",
       "<p>90 rows × 2 columns</p>\n",
       "</div>"
      ],
      "text/plain": [
       "                                                 name  count\n",
       "0                BTM , Bangalore , Karnataka , India    2469\n",
       "1                HSR , Bangalore , Karnataka , India    1123\n",
       "2         Whitefield , Bangalore , Karnataka , India    1059\n",
       "3       Marathahalli , Bangalore , Karnataka , India    1038\n",
       "4           JP Nagar , Bangalore , Karnataka , India     958\n",
       "..                                                ...    ...\n",
       "85            Hebbal , Bangalore , Karnataka , India       4\n",
       "86            Jakkur , Bangalore , Karnataka , India       3\n",
       "87  Central Bangalore , Bangalore , Karnataka , In...      2\n",
       "88    West Bangalore , Bangalore , Karnataka , India       1\n",
       "89            Peenya , Bangalore , Karnataka , India       1\n",
       "\n",
       "[90 rows x 2 columns]"
      ]
     },
     "execution_count": 99,
     "metadata": {},
     "output_type": "execute_result"
    }
   ],
   "source": [
    "north_india_rest_count"
   ]
  },
  {
   "cell_type": "markdown",
   "id": "be9cb2f4-0cbc-409e-852d-24cec870030d",
   "metadata": {},
   "source": [
    "### Joining the two Dataframes 1. the dataframes with the latitude and longitudes and 2. the dataframe with northindia restaurants in those locations and the count of the restaurants present in that location"
   ]
  },
  {
   "cell_type": "code",
   "execution_count": 100,
   "id": "4c7bac6b-77a5-45fc-b612-bebacfd1640a",
   "metadata": {},
   "outputs": [],
   "source": [
    "heatmap_df = north_india_rest_count.merge(locations, on='name', how = 'left')"
   ]
  },
  {
   "cell_type": "markdown",
   "id": "2528c631-e707-40b2-9312-8168d8d58319",
   "metadata": {},
   "source": [
    "### Checking the joined Dataframe"
   ]
  },
  {
   "cell_type": "code",
   "execution_count": 101,
   "id": "e27211d6-6343-41cb-b811-9a7a211a3ace",
   "metadata": {},
   "outputs": [
    {
     "data": {
      "text/html": [
       "<div>\n",
       "<style scoped>\n",
       "    .dataframe tbody tr th:only-of-type {\n",
       "        vertical-align: middle;\n",
       "    }\n",
       "\n",
       "    .dataframe tbody tr th {\n",
       "        vertical-align: top;\n",
       "    }\n",
       "\n",
       "    .dataframe thead th {\n",
       "        text-align: right;\n",
       "    }\n",
       "</style>\n",
       "<table border=\"1\" class=\"dataframe\">\n",
       "  <thead>\n",
       "    <tr style=\"text-align: right;\">\n",
       "      <th></th>\n",
       "      <th>name</th>\n",
       "      <th>count</th>\n",
       "      <th>lat</th>\n",
       "      <th>lon</th>\n",
       "    </tr>\n",
       "  </thead>\n",
       "  <tbody>\n",
       "    <tr>\n",
       "      <th>0</th>\n",
       "      <td>BTM , Bangalore , Karnataka , India</td>\n",
       "      <td>2469</td>\n",
       "      <td>12.915971</td>\n",
       "      <td>77.616227</td>\n",
       "    </tr>\n",
       "    <tr>\n",
       "      <th>1</th>\n",
       "      <td>HSR , Bangalore , Karnataka , India</td>\n",
       "      <td>1123</td>\n",
       "      <td>12.900563</td>\n",
       "      <td>77.649475</td>\n",
       "    </tr>\n",
       "    <tr>\n",
       "      <th>2</th>\n",
       "      <td>Whitefield , Bangalore , Karnataka , India</td>\n",
       "      <td>1059</td>\n",
       "      <td>12.969637</td>\n",
       "      <td>77.749745</td>\n",
       "    </tr>\n",
       "    <tr>\n",
       "      <th>3</th>\n",
       "      <td>Marathahalli , Bangalore , Karnataka , India</td>\n",
       "      <td>1038</td>\n",
       "      <td>12.955257</td>\n",
       "      <td>77.698416</td>\n",
       "    </tr>\n",
       "    <tr>\n",
       "      <th>4</th>\n",
       "      <td>JP Nagar , Bangalore , Karnataka , India</td>\n",
       "      <td>958</td>\n",
       "      <td>12.909694</td>\n",
       "      <td>77.586607</td>\n",
       "    </tr>\n",
       "    <tr>\n",
       "      <th>...</th>\n",
       "      <td>...</td>\n",
       "      <td>...</td>\n",
       "      <td>...</td>\n",
       "      <td>...</td>\n",
       "    </tr>\n",
       "    <tr>\n",
       "      <th>85</th>\n",
       "      <td>Hebbal , Bangalore , Karnataka , India</td>\n",
       "      <td>4</td>\n",
       "      <td>13.038218</td>\n",
       "      <td>77.591900</td>\n",
       "    </tr>\n",
       "    <tr>\n",
       "      <th>86</th>\n",
       "      <td>Jakkur , Bangalore , Karnataka , India</td>\n",
       "      <td>3</td>\n",
       "      <td>13.078474</td>\n",
       "      <td>77.606894</td>\n",
       "    </tr>\n",
       "    <tr>\n",
       "      <th>87</th>\n",
       "      <td>Central Bangalore , Bangalore , Karnataka , In...</td>\n",
       "      <td>2</td>\n",
       "      <td>12.973393</td>\n",
       "      <td>77.611247</td>\n",
       "    </tr>\n",
       "    <tr>\n",
       "      <th>88</th>\n",
       "      <td>West Bangalore , Bangalore , Karnataka , India</td>\n",
       "      <td>1</td>\n",
       "      <td>13.009476</td>\n",
       "      <td>77.553089</td>\n",
       "    </tr>\n",
       "    <tr>\n",
       "      <th>89</th>\n",
       "      <td>Peenya , Bangalore , Karnataka , India</td>\n",
       "      <td>1</td>\n",
       "      <td>13.032942</td>\n",
       "      <td>77.527325</td>\n",
       "    </tr>\n",
       "  </tbody>\n",
       "</table>\n",
       "<p>90 rows × 4 columns</p>\n",
       "</div>"
      ],
      "text/plain": [
       "                                                 name  count        lat  \\\n",
       "0                BTM , Bangalore , Karnataka , India    2469  12.915971   \n",
       "1                HSR , Bangalore , Karnataka , India    1123  12.900563   \n",
       "2         Whitefield , Bangalore , Karnataka , India    1059  12.969637   \n",
       "3       Marathahalli , Bangalore , Karnataka , India    1038  12.955257   \n",
       "4           JP Nagar , Bangalore , Karnataka , India     958  12.909694   \n",
       "..                                                ...    ...        ...   \n",
       "85            Hebbal , Bangalore , Karnataka , India       4  13.038218   \n",
       "86            Jakkur , Bangalore , Karnataka , India       3  13.078474   \n",
       "87  Central Bangalore , Bangalore , Karnataka , In...      2  12.973393   \n",
       "88    West Bangalore , Bangalore , Karnataka , India       1  13.009476   \n",
       "89            Peenya , Bangalore , Karnataka , India       1  13.032942   \n",
       "\n",
       "          lon  \n",
       "0   77.616227  \n",
       "1   77.649475  \n",
       "2   77.749745  \n",
       "3   77.698416  \n",
       "4   77.586607  \n",
       "..        ...  \n",
       "85  77.591900  \n",
       "86  77.606894  \n",
       "87  77.611247  \n",
       "88  77.553089  \n",
       "89  77.527325  \n",
       "\n",
       "[90 rows x 4 columns]"
      ]
     },
     "execution_count": 101,
     "metadata": {},
     "output_type": "execute_result"
    }
   ],
   "source": [
    "heatmap_df"
   ]
  },
  {
   "cell_type": "markdown",
   "id": "f57f2b65-9bd7-4c12-881a-8145d4d48d1c",
   "metadata": {},
   "source": [
    "### Installing the folium package fr the saptial Analysis"
   ]
  },
  {
   "cell_type": "code",
   "execution_count": 102,
   "id": "8d9acaaf-1733-42df-8051-8dcc42102b84",
   "metadata": {},
   "outputs": [
    {
     "name": "stdout",
     "output_type": "stream",
     "text": [
      "Defaulting to user installation because normal site-packages is not writeable\n",
      "Requirement already satisfied: folium in c:\\users\\aryan yadav\\appdata\\roaming\\python\\python312\\site-packages (0.17.0)\n",
      "Requirement already satisfied: branca>=0.6.0 in c:\\users\\aryan yadav\\appdata\\roaming\\python\\python312\\site-packages (from folium) (0.7.2)\n",
      "Requirement already satisfied: jinja2>=2.9 in c:\\users\\aryan yadav\\appdata\\roaming\\python\\python312\\site-packages (from folium) (3.1.4)\n",
      "Requirement already satisfied: numpy in c:\\users\\aryan yadav\\appdata\\roaming\\python\\python312\\site-packages (from folium) (2.0.0)\n",
      "Requirement already satisfied: requests in c:\\users\\aryan yadav\\appdata\\roaming\\python\\python312\\site-packages (from folium) (2.32.3)\n",
      "Requirement already satisfied: xyzservices in c:\\users\\aryan yadav\\appdata\\roaming\\python\\python312\\site-packages (from folium) (2024.6.0)\n",
      "Requirement already satisfied: MarkupSafe>=2.0 in c:\\users\\aryan yadav\\appdata\\roaming\\python\\python312\\site-packages (from jinja2>=2.9->folium) (2.1.5)\n",
      "Requirement already satisfied: charset-normalizer<4,>=2 in c:\\users\\aryan yadav\\appdata\\roaming\\python\\python312\\site-packages (from requests->folium) (3.3.2)\n",
      "Requirement already satisfied: idna<4,>=2.5 in c:\\users\\aryan yadav\\appdata\\roaming\\python\\python312\\site-packages (from requests->folium) (3.7)\n",
      "Requirement already satisfied: urllib3<3,>=1.21.1 in c:\\users\\aryan yadav\\appdata\\roaming\\python\\python312\\site-packages (from requests->folium) (2.2.2)\n",
      "Requirement already satisfied: certifi>=2017.4.17 in c:\\users\\aryan yadav\\appdata\\roaming\\python\\python312\\site-packages (from requests->folium) (2024.7.4)\n"
     ]
    }
   ],
   "source": [
    "!pip install folium"
   ]
  },
  {
   "cell_type": "markdown",
   "id": "7cae82b6-c5b4-4c14-8356-ed3811d58c1a",
   "metadata": {},
   "source": [
    "### Importing the folium module"
   ]
  },
  {
   "cell_type": "code",
   "execution_count": 103,
   "id": "50e5a806-5800-4ba9-9f94-2a83f36544e1",
   "metadata": {},
   "outputs": [],
   "source": [
    "import folium "
   ]
  },
  {
   "cell_type": "markdown",
   "id": "67305088-4254-43a0-9507-7cba0b0e83f8",
   "metadata": {},
   "source": [
    "### Initialysing the folium map "
   ]
  },
  {
   "cell_type": "code",
   "execution_count": 104,
   "id": "c632d06e-da25-4597-b480-1ed572ce51d9",
   "metadata": {},
   "outputs": [],
   "source": [
    "basemap = folium.Map()"
   ]
  },
  {
   "cell_type": "markdown",
   "id": "35616f79-1bfb-444b-b66f-388cbe86dc1c",
   "metadata": {},
   "source": [
    "### Calling Initailized basemap"
   ]
  },
  {
   "cell_type": "code",
   "execution_count": 105,
   "id": "8b7f80b5-388c-4c9d-8eb1-2cca1a388d70",
   "metadata": {},
   "outputs": [
    {
     "data": {
      "text/html": [
       "<div style=\"width:100%;\"><div style=\"position:relative;width:100%;height:0;padding-bottom:60%;\"><span style=\"color:#565656\">Make this Notebook Trusted to load map: File -> Trust Notebook</span><iframe srcdoc=\"&lt;!DOCTYPE html&gt;\n",
       "&lt;html&gt;\n",
       "&lt;head&gt;\n",
       "    \n",
       "    &lt;meta http-equiv=&quot;content-type&quot; content=&quot;text/html; charset=UTF-8&quot; /&gt;\n",
       "    \n",
       "        &lt;script&gt;\n",
       "            L_NO_TOUCH = false;\n",
       "            L_DISABLE_3D = false;\n",
       "        &lt;/script&gt;\n",
       "    \n",
       "    &lt;style&gt;html, body {width: 100%;height: 100%;margin: 0;padding: 0;}&lt;/style&gt;\n",
       "    &lt;style&gt;#map {position:absolute;top:0;bottom:0;right:0;left:0;}&lt;/style&gt;\n",
       "    &lt;script src=&quot;https://cdn.jsdelivr.net/npm/leaflet@1.9.3/dist/leaflet.js&quot;&gt;&lt;/script&gt;\n",
       "    &lt;script src=&quot;https://code.jquery.com/jquery-3.7.1.min.js&quot;&gt;&lt;/script&gt;\n",
       "    &lt;script src=&quot;https://cdn.jsdelivr.net/npm/bootstrap@5.2.2/dist/js/bootstrap.bundle.min.js&quot;&gt;&lt;/script&gt;\n",
       "    &lt;script src=&quot;https://cdnjs.cloudflare.com/ajax/libs/Leaflet.awesome-markers/2.0.2/leaflet.awesome-markers.js&quot;&gt;&lt;/script&gt;\n",
       "    &lt;link rel=&quot;stylesheet&quot; href=&quot;https://cdn.jsdelivr.net/npm/leaflet@1.9.3/dist/leaflet.css&quot;/&gt;\n",
       "    &lt;link rel=&quot;stylesheet&quot; href=&quot;https://cdn.jsdelivr.net/npm/bootstrap@5.2.2/dist/css/bootstrap.min.css&quot;/&gt;\n",
       "    &lt;link rel=&quot;stylesheet&quot; href=&quot;https://netdna.bootstrapcdn.com/bootstrap/3.0.0/css/bootstrap-glyphicons.css&quot;/&gt;\n",
       "    &lt;link rel=&quot;stylesheet&quot; href=&quot;https://cdn.jsdelivr.net/npm/@fortawesome/fontawesome-free@6.2.0/css/all.min.css&quot;/&gt;\n",
       "    &lt;link rel=&quot;stylesheet&quot; href=&quot;https://cdnjs.cloudflare.com/ajax/libs/Leaflet.awesome-markers/2.0.2/leaflet.awesome-markers.css&quot;/&gt;\n",
       "    &lt;link rel=&quot;stylesheet&quot; href=&quot;https://cdn.jsdelivr.net/gh/python-visualization/folium/folium/templates/leaflet.awesome.rotate.min.css&quot;/&gt;\n",
       "    \n",
       "            &lt;meta name=&quot;viewport&quot; content=&quot;width=device-width,\n",
       "                initial-scale=1.0, maximum-scale=1.0, user-scalable=no&quot; /&gt;\n",
       "            &lt;style&gt;\n",
       "                #map_fabe2c3de610446d8f51b2c57b096413 {\n",
       "                    position: relative;\n",
       "                    width: 100.0%;\n",
       "                    height: 100.0%;\n",
       "                    left: 0.0%;\n",
       "                    top: 0.0%;\n",
       "                }\n",
       "                .leaflet-container { font-size: 1rem; }\n",
       "            &lt;/style&gt;\n",
       "        \n",
       "&lt;/head&gt;\n",
       "&lt;body&gt;\n",
       "    \n",
       "    \n",
       "            &lt;div class=&quot;folium-map&quot; id=&quot;map_fabe2c3de610446d8f51b2c57b096413&quot; &gt;&lt;/div&gt;\n",
       "        \n",
       "&lt;/body&gt;\n",
       "&lt;script&gt;\n",
       "    \n",
       "    \n",
       "            var map_fabe2c3de610446d8f51b2c57b096413 = L.map(\n",
       "                &quot;map_fabe2c3de610446d8f51b2c57b096413&quot;,\n",
       "                {\n",
       "                    center: [0.0, 0.0],\n",
       "                    crs: L.CRS.EPSG3857,\n",
       "                    zoom: 1,\n",
       "                    zoomControl: true,\n",
       "                    preferCanvas: false,\n",
       "                }\n",
       "            );\n",
       "\n",
       "            \n",
       "\n",
       "        \n",
       "    \n",
       "            var tile_layer_7eb8643321fb9df5f960df55f2025811 = L.tileLayer(\n",
       "                &quot;https://tile.openstreetmap.org/{z}/{x}/{y}.png&quot;,\n",
       "                {&quot;attribution&quot;: &quot;\\u0026copy; \\u003ca href=\\&quot;https://www.openstreetmap.org/copyright\\&quot;\\u003eOpenStreetMap\\u003c/a\\u003e contributors&quot;, &quot;detectRetina&quot;: false, &quot;maxNativeZoom&quot;: 19, &quot;maxZoom&quot;: 19, &quot;minZoom&quot;: 0, &quot;noWrap&quot;: false, &quot;opacity&quot;: 1, &quot;subdomains&quot;: &quot;abc&quot;, &quot;tms&quot;: false}\n",
       "            );\n",
       "        \n",
       "    \n",
       "            tile_layer_7eb8643321fb9df5f960df55f2025811.addTo(map_fabe2c3de610446d8f51b2c57b096413);\n",
       "        \n",
       "&lt;/script&gt;\n",
       "&lt;/html&gt;\" style=\"position:absolute;width:100%;height:100%;left:0;top:0;border:none !important;\" allowfullscreen webkitallowfullscreen mozallowfullscreen></iframe></div></div>"
      ],
      "text/plain": [
       "<folium.folium.Map at 0x166d3d21460>"
      ]
     },
     "execution_count": 105,
     "metadata": {},
     "output_type": "execute_result"
    }
   ],
   "source": [
    "basemap"
   ]
  },
  {
   "cell_type": "markdown",
   "id": "4492eeec-6181-49cf-baad-2889a5a85585",
   "metadata": {},
   "source": [
    "### Checking the columns in the dataframe"
   ]
  },
  {
   "cell_type": "code",
   "execution_count": 106,
   "id": "f7b96320-c313-47ff-880d-011c42969072",
   "metadata": {},
   "outputs": [
    {
     "data": {
      "text/plain": [
       "Index(['name', 'count', 'lat', 'lon'], dtype='object')"
      ]
     },
     "execution_count": 106,
     "metadata": {},
     "output_type": "execute_result"
    }
   ],
   "source": [
    "heatmap_df.columns"
   ]
  },
  {
   "cell_type": "markdown",
   "id": "97a042c4-218b-4088-bb1c-2850094468cc",
   "metadata": {},
   "source": [
    "### Importing the Heatmap from the folium plugings"
   ]
  },
  {
   "cell_type": "code",
   "execution_count": 107,
   "id": "3f5d52c5-97dd-4043-b4f0-76ed3952690d",
   "metadata": {},
   "outputs": [],
   "source": [
    "from folium.plugins import HeatMap"
   ]
  },
  {
   "cell_type": "markdown",
   "id": "fbf0e896-a604-4222-9cdb-0d58c0e7efe4",
   "metadata": {},
   "source": [
    "### Add the values to the heatmap of the basemap for visualization"
   ]
  },
  {
   "cell_type": "code",
   "execution_count": 108,
   "id": "3024bdec-c460-4efe-9101-5a2a6b8dfe4b",
   "metadata": {},
   "outputs": [
    {
     "data": {
      "text/plain": [
       "<folium.plugins.heat_map.HeatMap at 0x166cf7983e0>"
      ]
     },
     "execution_count": 108,
     "metadata": {},
     "output_type": "execute_result"
    }
   ],
   "source": [
    "HeatMap(heatmap_df[[ 'lat', 'lon' ,'count']]).add_to(basemap)"
   ]
  },
  {
   "cell_type": "markdown",
   "id": "30669fca-f963-4e35-8050-c16012908039",
   "metadata": {},
   "source": [
    "### Calling the updated basemap"
   ]
  },
  {
   "cell_type": "code",
   "execution_count": 109,
   "id": "7aeef36c-389e-4dd7-aaf6-da0bb8301ad1",
   "metadata": {},
   "outputs": [
    {
     "data": {
      "text/html": [
       "<div style=\"width:100%;\"><div style=\"position:relative;width:100%;height:0;padding-bottom:60%;\"><span style=\"color:#565656\">Make this Notebook Trusted to load map: File -> Trust Notebook</span><iframe srcdoc=\"&lt;!DOCTYPE html&gt;\n",
       "&lt;html&gt;\n",
       "&lt;head&gt;\n",
       "    \n",
       "    &lt;meta http-equiv=&quot;content-type&quot; content=&quot;text/html; charset=UTF-8&quot; /&gt;\n",
       "    \n",
       "        &lt;script&gt;\n",
       "            L_NO_TOUCH = false;\n",
       "            L_DISABLE_3D = false;\n",
       "        &lt;/script&gt;\n",
       "    \n",
       "    &lt;style&gt;html, body {width: 100%;height: 100%;margin: 0;padding: 0;}&lt;/style&gt;\n",
       "    &lt;style&gt;#map {position:absolute;top:0;bottom:0;right:0;left:0;}&lt;/style&gt;\n",
       "    &lt;script src=&quot;https://cdn.jsdelivr.net/npm/leaflet@1.9.3/dist/leaflet.js&quot;&gt;&lt;/script&gt;\n",
       "    &lt;script src=&quot;https://code.jquery.com/jquery-3.7.1.min.js&quot;&gt;&lt;/script&gt;\n",
       "    &lt;script src=&quot;https://cdn.jsdelivr.net/npm/bootstrap@5.2.2/dist/js/bootstrap.bundle.min.js&quot;&gt;&lt;/script&gt;\n",
       "    &lt;script src=&quot;https://cdnjs.cloudflare.com/ajax/libs/Leaflet.awesome-markers/2.0.2/leaflet.awesome-markers.js&quot;&gt;&lt;/script&gt;\n",
       "    &lt;link rel=&quot;stylesheet&quot; href=&quot;https://cdn.jsdelivr.net/npm/leaflet@1.9.3/dist/leaflet.css&quot;/&gt;\n",
       "    &lt;link rel=&quot;stylesheet&quot; href=&quot;https://cdn.jsdelivr.net/npm/bootstrap@5.2.2/dist/css/bootstrap.min.css&quot;/&gt;\n",
       "    &lt;link rel=&quot;stylesheet&quot; href=&quot;https://netdna.bootstrapcdn.com/bootstrap/3.0.0/css/bootstrap-glyphicons.css&quot;/&gt;\n",
       "    &lt;link rel=&quot;stylesheet&quot; href=&quot;https://cdn.jsdelivr.net/npm/@fortawesome/fontawesome-free@6.2.0/css/all.min.css&quot;/&gt;\n",
       "    &lt;link rel=&quot;stylesheet&quot; href=&quot;https://cdnjs.cloudflare.com/ajax/libs/Leaflet.awesome-markers/2.0.2/leaflet.awesome-markers.css&quot;/&gt;\n",
       "    &lt;link rel=&quot;stylesheet&quot; href=&quot;https://cdn.jsdelivr.net/gh/python-visualization/folium/folium/templates/leaflet.awesome.rotate.min.css&quot;/&gt;\n",
       "    \n",
       "            &lt;meta name=&quot;viewport&quot; content=&quot;width=device-width,\n",
       "                initial-scale=1.0, maximum-scale=1.0, user-scalable=no&quot; /&gt;\n",
       "            &lt;style&gt;\n",
       "                #map_fabe2c3de610446d8f51b2c57b096413 {\n",
       "                    position: relative;\n",
       "                    width: 100.0%;\n",
       "                    height: 100.0%;\n",
       "                    left: 0.0%;\n",
       "                    top: 0.0%;\n",
       "                }\n",
       "                .leaflet-container { font-size: 1rem; }\n",
       "            &lt;/style&gt;\n",
       "        \n",
       "    &lt;script src=&quot;https://cdn.jsdelivr.net/gh/python-visualization/folium@main/folium/templates/leaflet_heat.min.js&quot;&gt;&lt;/script&gt;\n",
       "&lt;/head&gt;\n",
       "&lt;body&gt;\n",
       "    \n",
       "    \n",
       "            &lt;div class=&quot;folium-map&quot; id=&quot;map_fabe2c3de610446d8f51b2c57b096413&quot; &gt;&lt;/div&gt;\n",
       "        \n",
       "&lt;/body&gt;\n",
       "&lt;script&gt;\n",
       "    \n",
       "    \n",
       "            var map_fabe2c3de610446d8f51b2c57b096413 = L.map(\n",
       "                &quot;map_fabe2c3de610446d8f51b2c57b096413&quot;,\n",
       "                {\n",
       "                    center: [0.0, 0.0],\n",
       "                    crs: L.CRS.EPSG3857,\n",
       "                    zoom: 1,\n",
       "                    zoomControl: true,\n",
       "                    preferCanvas: false,\n",
       "                }\n",
       "            );\n",
       "\n",
       "            \n",
       "\n",
       "        \n",
       "    \n",
       "            var tile_layer_7eb8643321fb9df5f960df55f2025811 = L.tileLayer(\n",
       "                &quot;https://tile.openstreetmap.org/{z}/{x}/{y}.png&quot;,\n",
       "                {&quot;attribution&quot;: &quot;\\u0026copy; \\u003ca href=\\&quot;https://www.openstreetmap.org/copyright\\&quot;\\u003eOpenStreetMap\\u003c/a\\u003e contributors&quot;, &quot;detectRetina&quot;: false, &quot;maxNativeZoom&quot;: 19, &quot;maxZoom&quot;: 19, &quot;minZoom&quot;: 0, &quot;noWrap&quot;: false, &quot;opacity&quot;: 1, &quot;subdomains&quot;: &quot;abc&quot;, &quot;tms&quot;: false}\n",
       "            );\n",
       "        \n",
       "    \n",
       "            tile_layer_7eb8643321fb9df5f960df55f2025811.addTo(map_fabe2c3de610446d8f51b2c57b096413);\n",
       "        \n",
       "    \n",
       "            tile_layer_7eb8643321fb9df5f960df55f2025811.addTo(map_fabe2c3de610446d8f51b2c57b096413);\n",
       "        \n",
       "    \n",
       "            var heat_map_dffaaffedfa95708585c4a37aeee5b91 = L.heatLayer(\n",
       "                [[12.9159707, 77.6162267, 2469.0], [12.90056335, 77.64947470503677, 1123.0], [12.9696365, 77.7497448, 1059.0], [12.9552572, 77.6984163, 1038.0], [12.9096941, 77.5866067, 958.0], [12.9348429, 77.6189768, 755.0], [12.9521804, 77.6041899, 701.0], [12.9962979, 77.5452778, 678.0], [12.848759900000001, 77.64825295827616, 675.0], [12.9418488, 77.5868976, 664.0], [12.93103185, 77.6782471, 659.0], [12.9277245, 77.6327822, 601.0], [12.9243866, 77.6508897, 529.0], [12.9390255, 77.6238477, 408.0], [12.9364846, 77.6134783, 390.0], [12.9778793, 77.6246697, 376.0], [12.9755264, 77.6067902, 359.0], [12.9327778, 77.6294052, 351.0], [12.9736046, 77.6074967, 323.0], [12.9682513, 77.6124832, 312.0], [12.9393328, 77.5539819, 309.0], [12.96381425, 77.72243691580387, 282.0], [12.986391, 77.6075416, 272.0], [13.0170461, 77.5726933, 267.0], [13.0221416, 77.6403368, 262.0], [12.9882338, 77.554883, 230.0], [13.0058357, 77.6281321, 227.0], [12.9904393, 77.5909071, 224.0], [12.9575547, 77.5979099, 223.0], [13.0027353, 77.5703253, 215.0], [12.9672379, 77.5993533, 214.0], [12.9604498, 77.642725, 214.0], [12.946605, 77.6289077, 202.0], [12.9986827, 77.615525, 201.0], [12.9624669, 77.6381958, 199.0], [12.9417261, 77.5755021, 189.0], [13.0093455, 77.6377094, 175.0], [12.9749032, 77.6052899, 173.0], [12.9489339, 77.5968273, 132.0], [12.9089453, 77.6239038, 129.0], [12.9749487, 77.5997248, 128.0], [12.9934283, 77.5902145, 127.0], [12.9744255, 77.6015301, 121.0], [12.9678074, 77.6568367, 117.0], [12.9408685, 77.617338, 103.0], [12.9067683, 77.5595021, 98.0], [13.0422794, 77.6248577, 96.0], [12.9282918, 77.6254034, 84.0], [12.9931876, 77.5753419, 83.0], [12.973936, 77.6509982, 78.0], [12.9822324, 77.6082947, 76.0], [12.9830667, 77.5768071, 76.0], [12.9585353, 77.6061062, 73.0], [13.02383, 77.5529215, 72.0], [12.9783547, 77.5728609, 69.0], [13.0258087, 77.6305067, 68.0], [12.99118045, 77.54489175084052, 65.0], [12.9829856, 77.5964564, 61.0], [12.9243692, 77.6242433, 58.0], [12.965717999999999, 77.5762705372058, 58.0], [13.0358698, 77.6323597, 51.0], [13.0227204, 77.595715, 51.0], [12.9874878, 77.736158, 50.0], [12.9621761, 77.77136741208628, 47.0], [12.9846713, 77.6790908, 47.0], [12.9660722, 77.6125940647638, 35.0], [12.9578658, 77.6958748, 34.0], [12.864107149999999, 77.55441638924378, 31.0], [12.985098650000001, 77.66311735, 30.0], [12.957998, 77.6037312, 22.0], [13.0068, 77.5813, 20.0], [13.0394104, 77.5197351, 19.0], [12.9385691, 77.6331222, 19.0], [13.0052986, 77.580654, 17.0], [12.9366418, 77.5753914, 16.0], [13.0163, 77.6785, 14.0], [13.001147, 77.61822712748447, 14.0], [12.9055682, 77.5455438, 13.0], [13.0621474, 77.58006135480495, 13.0], [13.007516, 77.695935, 12.0], [12.9756527, 77.5553548, 12.0], [12.9517658, 77.5400626, 11.0], [12.9847584, 77.6426242, 7.0], [12.9817233, 77.5549364, 6.0], [12.96757385, 77.51180117435558, 5.0], [13.0382184, 77.5919, 4.0], [13.0784743, 77.6068938, 3.0], [12.97339325, 77.61124684880099, 2.0], [13.009476450000001, 77.55308891231309, 1.0], [13.0329419, 77.5273253, 1.0]],\n",
       "                {&quot;blur&quot;: 15, &quot;maxZoom&quot;: 18, &quot;minOpacity&quot;: 0.5, &quot;radius&quot;: 25}\n",
       "            );\n",
       "        \n",
       "    \n",
       "            heat_map_dffaaffedfa95708585c4a37aeee5b91.addTo(map_fabe2c3de610446d8f51b2c57b096413);\n",
       "        \n",
       "&lt;/script&gt;\n",
       "&lt;/html&gt;\" style=\"position:absolute;width:100%;height:100%;left:0;top:0;border:none !important;\" allowfullscreen webkitallowfullscreen mozallowfullscreen></iframe></div></div>"
      ],
      "text/plain": [
       "<folium.folium.Map at 0x166d3d21460>"
      ]
     },
     "execution_count": 109,
     "metadata": {},
     "output_type": "execute_result"
    }
   ],
   "source": [
    "basemap"
   ]
  },
  {
   "cell_type": "markdown",
   "id": "98417819-164f-44a3-9557-0f55c82a80ea",
   "metadata": {},
   "source": [
    "### 7. Automating Spatial Analysis"
   ]
  },
  {
   "cell_type": "markdown",
   "id": "363625d5-1a8a-486d-ad9c-cb631a93eac1",
   "metadata": {},
   "source": [
    "### Creating a dynamic function to get the heatmap on different cuisines individually"
   ]
  },
  {
   "cell_type": "code",
   "execution_count": 110,
   "id": "69ba4b68-23ea-46cf-8a47-720f33157ce8",
   "metadata": {},
   "outputs": [],
   "source": [
    "def get_heatmap(cuisine):\n",
    "    cuisine_df = df[df['cuisines'].str.contains(cuisine)]\n",
    "    cuisine_df_rest_count = cuisine_df['location'].value_counts().reset_index().rename(columns={'location':'name'})\n",
    "    heatmap_df = cuisine_df_rest_count.merge(locations, on='name', how = 'left')\n",
    "    print(heatmap_df.head(4))\n",
    "    basemap = folium.Map()\n",
    "    HeatMap(heatmap_df[[ 'lat', 'lon' ,'count']]).add_to(basemap)\n",
    "    return basemap"
   ]
  },
  {
   "cell_type": "markdown",
   "id": "4592a893-952e-4326-b03c-406d0714045c",
   "metadata": {},
   "source": [
    "### Calling the function for the South Indian Cuisine"
   ]
  },
  {
   "cell_type": "code",
   "execution_count": 111,
   "id": "17d1cd85-79f8-4354-9792-027cb5a5858e",
   "metadata": {},
   "outputs": [
    {
     "name": "stdout",
     "output_type": "stream",
     "text": [
      "                                         name  count        lat        lon\n",
      "0        BTM , Bangalore , Karnataka , India     815  12.915971  77.616227\n",
      "1   JP Nagar , Bangalore , Karnataka , India     437  12.909694  77.586607\n",
      "2        HSR , Bangalore , Karnataka , India     436  12.900563  77.649475\n",
      "3  Jayanagar , Bangalore , Karnataka , India     416  12.941849  77.586898\n"
     ]
    },
    {
     "data": {
      "text/html": [
       "<div style=\"width:100%;\"><div style=\"position:relative;width:100%;height:0;padding-bottom:60%;\"><span style=\"color:#565656\">Make this Notebook Trusted to load map: File -> Trust Notebook</span><iframe srcdoc=\"&lt;!DOCTYPE html&gt;\n",
       "&lt;html&gt;\n",
       "&lt;head&gt;\n",
       "    \n",
       "    &lt;meta http-equiv=&quot;content-type&quot; content=&quot;text/html; charset=UTF-8&quot; /&gt;\n",
       "    \n",
       "        &lt;script&gt;\n",
       "            L_NO_TOUCH = false;\n",
       "            L_DISABLE_3D = false;\n",
       "        &lt;/script&gt;\n",
       "    \n",
       "    &lt;style&gt;html, body {width: 100%;height: 100%;margin: 0;padding: 0;}&lt;/style&gt;\n",
       "    &lt;style&gt;#map {position:absolute;top:0;bottom:0;right:0;left:0;}&lt;/style&gt;\n",
       "    &lt;script src=&quot;https://cdn.jsdelivr.net/npm/leaflet@1.9.3/dist/leaflet.js&quot;&gt;&lt;/script&gt;\n",
       "    &lt;script src=&quot;https://code.jquery.com/jquery-3.7.1.min.js&quot;&gt;&lt;/script&gt;\n",
       "    &lt;script src=&quot;https://cdn.jsdelivr.net/npm/bootstrap@5.2.2/dist/js/bootstrap.bundle.min.js&quot;&gt;&lt;/script&gt;\n",
       "    &lt;script src=&quot;https://cdnjs.cloudflare.com/ajax/libs/Leaflet.awesome-markers/2.0.2/leaflet.awesome-markers.js&quot;&gt;&lt;/script&gt;\n",
       "    &lt;link rel=&quot;stylesheet&quot; href=&quot;https://cdn.jsdelivr.net/npm/leaflet@1.9.3/dist/leaflet.css&quot;/&gt;\n",
       "    &lt;link rel=&quot;stylesheet&quot; href=&quot;https://cdn.jsdelivr.net/npm/bootstrap@5.2.2/dist/css/bootstrap.min.css&quot;/&gt;\n",
       "    &lt;link rel=&quot;stylesheet&quot; href=&quot;https://netdna.bootstrapcdn.com/bootstrap/3.0.0/css/bootstrap-glyphicons.css&quot;/&gt;\n",
       "    &lt;link rel=&quot;stylesheet&quot; href=&quot;https://cdn.jsdelivr.net/npm/@fortawesome/fontawesome-free@6.2.0/css/all.min.css&quot;/&gt;\n",
       "    &lt;link rel=&quot;stylesheet&quot; href=&quot;https://cdnjs.cloudflare.com/ajax/libs/Leaflet.awesome-markers/2.0.2/leaflet.awesome-markers.css&quot;/&gt;\n",
       "    &lt;link rel=&quot;stylesheet&quot; href=&quot;https://cdn.jsdelivr.net/gh/python-visualization/folium/folium/templates/leaflet.awesome.rotate.min.css&quot;/&gt;\n",
       "    \n",
       "            &lt;meta name=&quot;viewport&quot; content=&quot;width=device-width,\n",
       "                initial-scale=1.0, maximum-scale=1.0, user-scalable=no&quot; /&gt;\n",
       "            &lt;style&gt;\n",
       "                #map_e653e01e944f808f84cc0951dd2bf5d9 {\n",
       "                    position: relative;\n",
       "                    width: 100.0%;\n",
       "                    height: 100.0%;\n",
       "                    left: 0.0%;\n",
       "                    top: 0.0%;\n",
       "                }\n",
       "                .leaflet-container { font-size: 1rem; }\n",
       "            &lt;/style&gt;\n",
       "        \n",
       "    &lt;script src=&quot;https://cdn.jsdelivr.net/gh/python-visualization/folium@main/folium/templates/leaflet_heat.min.js&quot;&gt;&lt;/script&gt;\n",
       "&lt;/head&gt;\n",
       "&lt;body&gt;\n",
       "    \n",
       "    \n",
       "            &lt;div class=&quot;folium-map&quot; id=&quot;map_e653e01e944f808f84cc0951dd2bf5d9&quot; &gt;&lt;/div&gt;\n",
       "        \n",
       "&lt;/body&gt;\n",
       "&lt;script&gt;\n",
       "    \n",
       "    \n",
       "            var map_e653e01e944f808f84cc0951dd2bf5d9 = L.map(\n",
       "                &quot;map_e653e01e944f808f84cc0951dd2bf5d9&quot;,\n",
       "                {\n",
       "                    center: [0.0, 0.0],\n",
       "                    crs: L.CRS.EPSG3857,\n",
       "                    zoom: 1,\n",
       "                    zoomControl: true,\n",
       "                    preferCanvas: false,\n",
       "                }\n",
       "            );\n",
       "\n",
       "            \n",
       "\n",
       "        \n",
       "    \n",
       "            var tile_layer_91b2150c914b002d5c53f9b010cbab5e = L.tileLayer(\n",
       "                &quot;https://tile.openstreetmap.org/{z}/{x}/{y}.png&quot;,\n",
       "                {&quot;attribution&quot;: &quot;\\u0026copy; \\u003ca href=\\&quot;https://www.openstreetmap.org/copyright\\&quot;\\u003eOpenStreetMap\\u003c/a\\u003e contributors&quot;, &quot;detectRetina&quot;: false, &quot;maxNativeZoom&quot;: 19, &quot;maxZoom&quot;: 19, &quot;minZoom&quot;: 0, &quot;noWrap&quot;: false, &quot;opacity&quot;: 1, &quot;subdomains&quot;: &quot;abc&quot;, &quot;tms&quot;: false}\n",
       "            );\n",
       "        \n",
       "    \n",
       "            tile_layer_91b2150c914b002d5c53f9b010cbab5e.addTo(map_e653e01e944f808f84cc0951dd2bf5d9);\n",
       "        \n",
       "    \n",
       "            var heat_map_8e57b39d2b3e467ee01e290ac752d778 = L.heatLayer(\n",
       "                [[12.9159707, 77.6162267, 815.0], [12.9096941, 77.5866067, 437.0], [12.90056335, 77.64947470503677, 436.0], [12.9418488, 77.5868976, 416.0], [12.9696365, 77.7497448, 308.0], [12.848759900000001, 77.64825295827616, 308.0], [12.9521804, 77.6041899, 302.0], [12.9552572, 77.6984163, 293.0], [12.9393328, 77.5539819, 242.0], [12.9962979, 77.5452778, 235.0], [12.9417261, 77.5755021, 218.0], [12.9882338, 77.554883, 217.0], [12.9736046, 77.6074967, 211.0], [12.9277245, 77.6327822, 187.0], [12.93103185, 77.6782471, 183.0], [12.9778793, 77.6246697, 182.0], [12.9243866, 77.6508897, 180.0], [12.9390255, 77.6238477, 164.0], [12.986391, 77.6075416, 160.0], [13.0027353, 77.5703253, 160.0], [12.9348429, 77.6189768, 155.0], [13.0058357, 77.6281321, 155.0], [12.9575547, 77.5979099, 153.0], [12.9682513, 77.6124832, 149.0], [12.96381425, 77.72243691580387, 133.0], [13.0093455, 77.6377094, 117.0], [12.9327778, 77.6294052, 102.0], [12.9364846, 77.6134783, 102.0], [12.9904393, 77.5909071, 99.0], [12.9986827, 77.615525, 92.0], [13.0170461, 77.5726933, 92.0], [12.9783547, 77.5728609, 88.0], [12.9672379, 77.5993533, 85.0], [13.0221416, 77.6403368, 85.0], [12.9755264, 77.6067902, 82.0], [12.9604498, 77.642725, 69.0], [12.9624669, 77.6381958, 65.0], [12.9408685, 77.617338, 62.0], [12.9934283, 77.5902145, 59.0], [12.965717999999999, 77.5762705372058, 56.0], [12.9830667, 77.5768071, 51.0], [12.9089453, 77.6239038, 48.0], [12.9749032, 77.6052899, 46.0], [12.9678074, 77.6568367, 46.0], [12.9489339, 77.5968273, 44.0], [12.9822324, 77.6082947, 44.0], [12.99118045, 77.54489175084052, 41.0], [12.946605, 77.6289077, 40.0], [12.9067683, 77.5595021, 38.0], [12.973936, 77.6509982, 37.0], [12.9744255, 77.6015301, 37.0], [12.9660722, 77.6125940647638, 35.0], [13.02383, 77.5529215, 35.0], [12.9829856, 77.5964564, 33.0], [12.9585353, 77.6061062, 32.0], [13.0422794, 77.6248577, 31.0], [13.0358698, 77.6323597, 29.0], [12.9621761, 77.77136741208628, 26.0], [13.0258087, 77.6305067, 25.0], [12.9931876, 77.5753419, 22.0], [12.9846713, 77.6790908, 22.0], [13.0227204, 77.595715, 18.0], [12.9243692, 77.6242433, 18.0], [12.9756527, 77.5553548, 17.0], [12.9517658, 77.5400626, 17.0], [12.9749487, 77.5997248, 16.0], [12.9282918, 77.6254034, 16.0], [12.985098650000001, 77.66311735, 14.0], [13.0394104, 77.5197351, 13.0], [13.0621474, 77.58006135480495, 13.0], [12.9366418, 77.5753914, 12.0], [12.9874878, 77.736158, 10.0], [12.9578658, 77.6958748, 10.0], [13.0068, 77.5813, 9.0], [12.96757385, 77.51180117435558, 8.0], [13.0163, 77.6785, 7.0], [13.007516, 77.695935, 6.0], [13.0052986, 77.580654, 5.0], [12.9055682, 77.5455438, 4.0], [13.1006982, 77.5963454, 4.0], [13.001147, 77.61822712748447, 3.0], [13.0784743, 77.6068938, 3.0], [12.9847584, 77.6426242, 2.0], [12.9817233, 77.5549364, 1.0], [12.864107149999999, 77.55441638924378, 1.0], [13.0382184, 77.5919, 1.0]],\n",
       "                {&quot;blur&quot;: 15, &quot;maxZoom&quot;: 18, &quot;minOpacity&quot;: 0.5, &quot;radius&quot;: 25}\n",
       "            );\n",
       "        \n",
       "    \n",
       "            heat_map_8e57b39d2b3e467ee01e290ac752d778.addTo(map_e653e01e944f808f84cc0951dd2bf5d9);\n",
       "        \n",
       "&lt;/script&gt;\n",
       "&lt;/html&gt;\" style=\"position:absolute;width:100%;height:100%;left:0;top:0;border:none !important;\" allowfullscreen webkitallowfullscreen mozallowfullscreen></iframe></div></div>"
      ],
      "text/plain": [
       "<folium.folium.Map at 0x166cf778ce0>"
      ]
     },
     "execution_count": 111,
     "metadata": {},
     "output_type": "execute_result"
    }
   ],
   "source": [
    "get_heatmap('South Indian')"
   ]
  },
  {
   "cell_type": "markdown",
   "id": "7842d683-eccf-4855-8530-c62f69a8a4b3",
   "metadata": {},
   "source": [
    "### Calling the function for the Chinese Cuisine"
   ]
  },
  {
   "cell_type": "code",
   "execution_count": 112,
   "id": "709f9b69-414f-46d5-ac64-271838af340b",
   "metadata": {},
   "outputs": [
    {
     "name": "stdout",
     "output_type": "stream",
     "text": [
      "                                                name  count        lat  \\\n",
      "0               BTM , Bangalore , Karnataka , India    1824  12.915971   \n",
      "1               HSR , Bangalore , Karnataka , India     760  12.900563   \n",
      "2  Koramangala 5th Block , Bangalore , Karnataka ...    730  12.934843   \n",
      "3      Marathahalli , Bangalore , Karnataka , India     668  12.955257   \n",
      "\n",
      "         lon  \n",
      "0  77.616227  \n",
      "1  77.649475  \n",
      "2  77.618977  \n",
      "3  77.698416  \n"
     ]
    },
    {
     "data": {
      "text/html": [
       "<div style=\"width:100%;\"><div style=\"position:relative;width:100%;height:0;padding-bottom:60%;\"><span style=\"color:#565656\">Make this Notebook Trusted to load map: File -> Trust Notebook</span><iframe srcdoc=\"&lt;!DOCTYPE html&gt;\n",
       "&lt;html&gt;\n",
       "&lt;head&gt;\n",
       "    \n",
       "    &lt;meta http-equiv=&quot;content-type&quot; content=&quot;text/html; charset=UTF-8&quot; /&gt;\n",
       "    \n",
       "        &lt;script&gt;\n",
       "            L_NO_TOUCH = false;\n",
       "            L_DISABLE_3D = false;\n",
       "        &lt;/script&gt;\n",
       "    \n",
       "    &lt;style&gt;html, body {width: 100%;height: 100%;margin: 0;padding: 0;}&lt;/style&gt;\n",
       "    &lt;style&gt;#map {position:absolute;top:0;bottom:0;right:0;left:0;}&lt;/style&gt;\n",
       "    &lt;script src=&quot;https://cdn.jsdelivr.net/npm/leaflet@1.9.3/dist/leaflet.js&quot;&gt;&lt;/script&gt;\n",
       "    &lt;script src=&quot;https://code.jquery.com/jquery-3.7.1.min.js&quot;&gt;&lt;/script&gt;\n",
       "    &lt;script src=&quot;https://cdn.jsdelivr.net/npm/bootstrap@5.2.2/dist/js/bootstrap.bundle.min.js&quot;&gt;&lt;/script&gt;\n",
       "    &lt;script src=&quot;https://cdnjs.cloudflare.com/ajax/libs/Leaflet.awesome-markers/2.0.2/leaflet.awesome-markers.js&quot;&gt;&lt;/script&gt;\n",
       "    &lt;link rel=&quot;stylesheet&quot; href=&quot;https://cdn.jsdelivr.net/npm/leaflet@1.9.3/dist/leaflet.css&quot;/&gt;\n",
       "    &lt;link rel=&quot;stylesheet&quot; href=&quot;https://cdn.jsdelivr.net/npm/bootstrap@5.2.2/dist/css/bootstrap.min.css&quot;/&gt;\n",
       "    &lt;link rel=&quot;stylesheet&quot; href=&quot;https://netdna.bootstrapcdn.com/bootstrap/3.0.0/css/bootstrap-glyphicons.css&quot;/&gt;\n",
       "    &lt;link rel=&quot;stylesheet&quot; href=&quot;https://cdn.jsdelivr.net/npm/@fortawesome/fontawesome-free@6.2.0/css/all.min.css&quot;/&gt;\n",
       "    &lt;link rel=&quot;stylesheet&quot; href=&quot;https://cdnjs.cloudflare.com/ajax/libs/Leaflet.awesome-markers/2.0.2/leaflet.awesome-markers.css&quot;/&gt;\n",
       "    &lt;link rel=&quot;stylesheet&quot; href=&quot;https://cdn.jsdelivr.net/gh/python-visualization/folium/folium/templates/leaflet.awesome.rotate.min.css&quot;/&gt;\n",
       "    \n",
       "            &lt;meta name=&quot;viewport&quot; content=&quot;width=device-width,\n",
       "                initial-scale=1.0, maximum-scale=1.0, user-scalable=no&quot; /&gt;\n",
       "            &lt;style&gt;\n",
       "                #map_7c4a2c2c46c79a6c96736512ccb6a61d {\n",
       "                    position: relative;\n",
       "                    width: 100.0%;\n",
       "                    height: 100.0%;\n",
       "                    left: 0.0%;\n",
       "                    top: 0.0%;\n",
       "                }\n",
       "                .leaflet-container { font-size: 1rem; }\n",
       "            &lt;/style&gt;\n",
       "        \n",
       "    &lt;script src=&quot;https://cdn.jsdelivr.net/gh/python-visualization/folium@main/folium/templates/leaflet_heat.min.js&quot;&gt;&lt;/script&gt;\n",
       "&lt;/head&gt;\n",
       "&lt;body&gt;\n",
       "    \n",
       "    \n",
       "            &lt;div class=&quot;folium-map&quot; id=&quot;map_7c4a2c2c46c79a6c96736512ccb6a61d&quot; &gt;&lt;/div&gt;\n",
       "        \n",
       "&lt;/body&gt;\n",
       "&lt;script&gt;\n",
       "    \n",
       "    \n",
       "            var map_7c4a2c2c46c79a6c96736512ccb6a61d = L.map(\n",
       "                &quot;map_7c4a2c2c46c79a6c96736512ccb6a61d&quot;,\n",
       "                {\n",
       "                    center: [0.0, 0.0],\n",
       "                    crs: L.CRS.EPSG3857,\n",
       "                    zoom: 1,\n",
       "                    zoomControl: true,\n",
       "                    preferCanvas: false,\n",
       "                }\n",
       "            );\n",
       "\n",
       "            \n",
       "\n",
       "        \n",
       "    \n",
       "            var tile_layer_baa525a72893fa953f261099a97c43c6 = L.tileLayer(\n",
       "                &quot;https://tile.openstreetmap.org/{z}/{x}/{y}.png&quot;,\n",
       "                {&quot;attribution&quot;: &quot;\\u0026copy; \\u003ca href=\\&quot;https://www.openstreetmap.org/copyright\\&quot;\\u003eOpenStreetMap\\u003c/a\\u003e contributors&quot;, &quot;detectRetina&quot;: false, &quot;maxNativeZoom&quot;: 19, &quot;maxZoom&quot;: 19, &quot;minZoom&quot;: 0, &quot;noWrap&quot;: false, &quot;opacity&quot;: 1, &quot;subdomains&quot;: &quot;abc&quot;, &quot;tms&quot;: false}\n",
       "            );\n",
       "        \n",
       "    \n",
       "            tile_layer_baa525a72893fa953f261099a97c43c6.addTo(map_7c4a2c2c46c79a6c96736512ccb6a61d);\n",
       "        \n",
       "    \n",
       "            var heat_map_0894187858d43cc43772eb364af1b9be = L.heatLayer(\n",
       "                [[12.9159707, 77.6162267, 1824.0], [12.90056335, 77.64947470503677, 760.0], [12.9348429, 77.6189768, 730.0], [12.9552572, 77.6984163, 668.0], [12.9096941, 77.5866067, 633.0], [12.9696365, 77.7497448, 629.0], [12.9418488, 77.5868976, 570.0], [12.9521804, 77.6041899, 510.0], [12.848759900000001, 77.64825295827616, 509.0], [12.9962979, 77.5452778, 466.0], [12.93103185, 77.6782471, 375.0], [12.9277245, 77.6327822, 356.0], [12.9736046, 77.6074967, 349.0], [12.9390255, 77.6238477, 322.0], [12.9243866, 77.6508897, 311.0], [12.9364846, 77.6134783, 284.0], [12.9327778, 77.6294052, 278.0], [12.9393328, 77.5539819, 259.0], [12.96381425, 77.72243691580387, 254.0], [13.0058357, 77.6281321, 254.0], [12.9778793, 77.6246697, 245.0], [12.9755264, 77.6067902, 242.0], [12.9682513, 77.6124832, 233.0], [13.0093455, 77.6377094, 211.0], [12.9882338, 77.554883, 204.0], [12.9986827, 77.615525, 200.0], [13.0170461, 77.5726933, 196.0], [12.9672379, 77.5993533, 194.0], [12.946605, 77.6289077, 186.0], [12.9575547, 77.5979099, 174.0], [13.0221416, 77.6403368, 170.0], [12.9904393, 77.5909071, 170.0], [12.986391, 77.6075416, 162.0], [13.0027353, 77.5703253, 157.0], [12.9417261, 77.5755021, 156.0], [12.9604498, 77.642725, 145.0], [12.9624669, 77.6381958, 120.0], [12.9749032, 77.6052899, 105.0], [12.9089453, 77.6239038, 101.0], [12.9408685, 77.617338, 100.0], [12.9067683, 77.5595021, 99.0], [12.9934283, 77.5902145, 94.0], [12.9489339, 77.5968273, 92.0], [12.9829856, 77.5964564, 79.0], [13.0422794, 77.6248577, 76.0], [12.9931876, 77.5753419, 67.0], [12.9678074, 77.6568367, 66.0], [13.02383, 77.5529215, 65.0], [13.0358698, 77.6323597, 65.0], [12.9282918, 77.6254034, 62.0], [12.9744255, 77.6015301, 61.0], [12.973936, 77.6509982, 60.0], [12.9822324, 77.6082947, 59.0], [12.9749487, 77.5997248, 57.0], [13.0258087, 77.6305067, 56.0], [12.9783547, 77.5728609, 55.0], [12.9585353, 77.6061062, 54.0], [12.99118045, 77.54489175084052, 53.0], [12.965717999999999, 77.5762705372058, 50.0], [13.0227204, 77.595715, 44.0], [12.9846713, 77.6790908, 37.0], [12.9243692, 77.6242433, 36.0], [12.9660722, 77.6125940647638, 32.0], [12.9830667, 77.5768071, 31.0], [12.9621761, 77.77136741208628, 26.0], [12.9874878, 77.736158, 21.0], [12.9578658, 77.6958748, 21.0], [12.864107149999999, 77.55441638924378, 20.0], [13.007516, 77.695935, 17.0], [12.9847584, 77.6426242, 17.0], [13.0068, 77.5813, 17.0], [12.9366418, 77.5753914, 16.0], [13.0394104, 77.5197351, 14.0], [12.985098650000001, 77.66311735, 14.0], [12.9055682, 77.5455438, 13.0], [12.9385691, 77.6331222, 12.0], [12.9517658, 77.5400626, 9.0], [12.9756527, 77.5553548, 9.0], [13.0621474, 77.58006135480495, 9.0], [12.96757385, 77.51180117435558, 8.0], [13.0052986, 77.580654, 8.0], [13.001147, 77.61822712748447, 8.0], [12.9817233, 77.5549364, 6.0], [13.0382184, 77.5919, 6.0], [13.0163, 77.6785, 6.0], [13.0784743, 77.6068938, 3.0], [12.97339325, 77.61124684880099, 2.0], [12.9274413, 77.5155224, 1.0], [13.009476450000001, 77.55308891231309, 1.0], [13.0329419, 77.5273253, 1.0]],\n",
       "                {&quot;blur&quot;: 15, &quot;maxZoom&quot;: 18, &quot;minOpacity&quot;: 0.5, &quot;radius&quot;: 25}\n",
       "            );\n",
       "        \n",
       "    \n",
       "            heat_map_0894187858d43cc43772eb364af1b9be.addTo(map_7c4a2c2c46c79a6c96736512ccb6a61d);\n",
       "        \n",
       "&lt;/script&gt;\n",
       "&lt;/html&gt;\" style=\"position:absolute;width:100%;height:100%;left:0;top:0;border:none !important;\" allowfullscreen webkitallowfullscreen mozallowfullscreen></iframe></div></div>"
      ],
      "text/plain": [
       "<folium.folium.Map at 0x166d08a4530>"
      ]
     },
     "execution_count": 112,
     "metadata": {},
     "output_type": "execute_result"
    }
   ],
   "source": [
    "get_heatmap('Chinese')"
   ]
  },
  {
   "cell_type": "markdown",
   "id": "6a333ac8-63c9-46b6-8473-aec67972397b",
   "metadata": {},
   "source": [
    "### Calling the function for the Italian Cuisine"
   ]
  },
  {
   "cell_type": "code",
   "execution_count": 113,
   "id": "7778bc5f-f04a-473b-8803-1ee5879a9774",
   "metadata": {},
   "outputs": [
    {
     "name": "stdout",
     "output_type": "stream",
     "text": [
      "                                                name  count        lat  \\\n",
      "0  Koramangala 5th Block , Bangalore , Karnataka ...    220  12.934843   \n",
      "1       Indiranagar , Bangalore , Karnataka , India     209  12.996298   \n",
      "2  Koramangala 4th Block , Bangalore , Karnataka ...    187  12.932778   \n",
      "3          JP Nagar , Bangalore , Karnataka , India     185  12.909694   \n",
      "\n",
      "         lon  \n",
      "0  77.618977  \n",
      "1  77.545278  \n",
      "2  77.629405  \n",
      "3  77.586607  \n"
     ]
    },
    {
     "data": {
      "text/html": [
       "<div style=\"width:100%;\"><div style=\"position:relative;width:100%;height:0;padding-bottom:60%;\"><span style=\"color:#565656\">Make this Notebook Trusted to load map: File -> Trust Notebook</span><iframe srcdoc=\"&lt;!DOCTYPE html&gt;\n",
       "&lt;html&gt;\n",
       "&lt;head&gt;\n",
       "    \n",
       "    &lt;meta http-equiv=&quot;content-type&quot; content=&quot;text/html; charset=UTF-8&quot; /&gt;\n",
       "    \n",
       "        &lt;script&gt;\n",
       "            L_NO_TOUCH = false;\n",
       "            L_DISABLE_3D = false;\n",
       "        &lt;/script&gt;\n",
       "    \n",
       "    &lt;style&gt;html, body {width: 100%;height: 100%;margin: 0;padding: 0;}&lt;/style&gt;\n",
       "    &lt;style&gt;#map {position:absolute;top:0;bottom:0;right:0;left:0;}&lt;/style&gt;\n",
       "    &lt;script src=&quot;https://cdn.jsdelivr.net/npm/leaflet@1.9.3/dist/leaflet.js&quot;&gt;&lt;/script&gt;\n",
       "    &lt;script src=&quot;https://code.jquery.com/jquery-3.7.1.min.js&quot;&gt;&lt;/script&gt;\n",
       "    &lt;script src=&quot;https://cdn.jsdelivr.net/npm/bootstrap@5.2.2/dist/js/bootstrap.bundle.min.js&quot;&gt;&lt;/script&gt;\n",
       "    &lt;script src=&quot;https://cdnjs.cloudflare.com/ajax/libs/Leaflet.awesome-markers/2.0.2/leaflet.awesome-markers.js&quot;&gt;&lt;/script&gt;\n",
       "    &lt;link rel=&quot;stylesheet&quot; href=&quot;https://cdn.jsdelivr.net/npm/leaflet@1.9.3/dist/leaflet.css&quot;/&gt;\n",
       "    &lt;link rel=&quot;stylesheet&quot; href=&quot;https://cdn.jsdelivr.net/npm/bootstrap@5.2.2/dist/css/bootstrap.min.css&quot;/&gt;\n",
       "    &lt;link rel=&quot;stylesheet&quot; href=&quot;https://netdna.bootstrapcdn.com/bootstrap/3.0.0/css/bootstrap-glyphicons.css&quot;/&gt;\n",
       "    &lt;link rel=&quot;stylesheet&quot; href=&quot;https://cdn.jsdelivr.net/npm/@fortawesome/fontawesome-free@6.2.0/css/all.min.css&quot;/&gt;\n",
       "    &lt;link rel=&quot;stylesheet&quot; href=&quot;https://cdnjs.cloudflare.com/ajax/libs/Leaflet.awesome-markers/2.0.2/leaflet.awesome-markers.css&quot;/&gt;\n",
       "    &lt;link rel=&quot;stylesheet&quot; href=&quot;https://cdn.jsdelivr.net/gh/python-visualization/folium/folium/templates/leaflet.awesome.rotate.min.css&quot;/&gt;\n",
       "    \n",
       "            &lt;meta name=&quot;viewport&quot; content=&quot;width=device-width,\n",
       "                initial-scale=1.0, maximum-scale=1.0, user-scalable=no&quot; /&gt;\n",
       "            &lt;style&gt;\n",
       "                #map_a57734bb9efc69da4328ad24eada4ef4 {\n",
       "                    position: relative;\n",
       "                    width: 100.0%;\n",
       "                    height: 100.0%;\n",
       "                    left: 0.0%;\n",
       "                    top: 0.0%;\n",
       "                }\n",
       "                .leaflet-container { font-size: 1rem; }\n",
       "            &lt;/style&gt;\n",
       "        \n",
       "    &lt;script src=&quot;https://cdn.jsdelivr.net/gh/python-visualization/folium@main/folium/templates/leaflet_heat.min.js&quot;&gt;&lt;/script&gt;\n",
       "&lt;/head&gt;\n",
       "&lt;body&gt;\n",
       "    \n",
       "    \n",
       "            &lt;div class=&quot;folium-map&quot; id=&quot;map_a57734bb9efc69da4328ad24eada4ef4&quot; &gt;&lt;/div&gt;\n",
       "        \n",
       "&lt;/body&gt;\n",
       "&lt;script&gt;\n",
       "    \n",
       "    \n",
       "            var map_a57734bb9efc69da4328ad24eada4ef4 = L.map(\n",
       "                &quot;map_a57734bb9efc69da4328ad24eada4ef4&quot;,\n",
       "                {\n",
       "                    center: [0.0, 0.0],\n",
       "                    crs: L.CRS.EPSG3857,\n",
       "                    zoom: 1,\n",
       "                    zoomControl: true,\n",
       "                    preferCanvas: false,\n",
       "                }\n",
       "            );\n",
       "\n",
       "            \n",
       "\n",
       "        \n",
       "    \n",
       "            var tile_layer_fdb8ca0e86e2b5698102ee3bb69638b0 = L.tileLayer(\n",
       "                &quot;https://tile.openstreetmap.org/{z}/{x}/{y}.png&quot;,\n",
       "                {&quot;attribution&quot;: &quot;\\u0026copy; \\u003ca href=\\&quot;https://www.openstreetmap.org/copyright\\&quot;\\u003eOpenStreetMap\\u003c/a\\u003e contributors&quot;, &quot;detectRetina&quot;: false, &quot;maxNativeZoom&quot;: 19, &quot;maxZoom&quot;: 19, &quot;minZoom&quot;: 0, &quot;noWrap&quot;: false, &quot;opacity&quot;: 1, &quot;subdomains&quot;: &quot;abc&quot;, &quot;tms&quot;: false}\n",
       "            );\n",
       "        \n",
       "    \n",
       "            tile_layer_fdb8ca0e86e2b5698102ee3bb69638b0.addTo(map_a57734bb9efc69da4328ad24eada4ef4);\n",
       "        \n",
       "    \n",
       "            var heat_map_78837fa915d356ba239a90d0be1730b2 = L.heatLayer(\n",
       "                [[12.9348429, 77.6189768, 220.0], [12.9962979, 77.5452778, 209.0], [12.9327778, 77.6294052, 187.0], [12.9096941, 77.5866067, 185.0], [12.90056335, 77.64947470503677, 161.0], [12.9749487, 77.5997248, 148.0], [12.9159707, 77.6162267, 139.0], [12.9755264, 77.6067902, 128.0], [12.9393328, 77.5539819, 113.0], [12.9418488, 77.5868976, 109.0], [12.9696365, 77.7497448, 108.0], [12.9390255, 77.6238477, 105.0], [13.0221416, 77.6403368, 103.0], [12.9778793, 77.6246697, 95.0], [12.9736046, 77.6074967, 84.0], [12.9552572, 77.6984163, 76.0], [12.9243866, 77.6508897, 75.0], [12.93103185, 77.6782471, 74.0], [12.9364846, 77.6134783, 73.0], [12.9749032, 77.6052899, 70.0], [12.9277245, 77.6327822, 69.0], [12.9521804, 77.6041899, 62.0], [13.0170461, 77.5726933, 58.0], [12.9672379, 77.5993533, 57.0], [12.9904393, 77.5909071, 54.0], [12.9624669, 77.6381958, 50.0], [13.0027353, 77.5703253, 44.0], [12.848759900000001, 77.64825295827616, 43.0], [13.0093455, 77.6377094, 32.0], [12.9682513, 77.6124832, 30.0], [12.9604498, 77.642725, 29.0], [12.9282918, 77.6254034, 29.0], [12.9575547, 77.5979099, 28.0], [12.9934283, 77.5902145, 28.0], [12.9417261, 77.5755021, 26.0], [12.96381425, 77.72243691580387, 25.0], [12.9744255, 77.6015301, 23.0], [12.957998, 77.6037312, 22.0], [12.9243692, 77.6242433, 21.0], [13.0058357, 77.6281321, 20.0], [12.9829856, 77.5964564, 18.0], [12.99118045, 77.54489175084052, 17.0], [12.9986827, 77.615525, 15.0], [12.946605, 77.6289077, 15.0], [12.9882338, 77.554883, 10.0], [12.9678074, 77.6568367, 10.0], [12.9874878, 77.736158, 8.0], [13.0068, 77.5813, 8.0], [12.9067683, 77.5595021, 7.0], [12.9578658, 77.6958748, 7.0], [13.0258087, 77.6305067, 7.0], [13.0358698, 77.6323597, 6.0], [13.001147, 77.61822712748447, 6.0], [12.973936, 77.6509982, 6.0], [12.9931876, 77.5753419, 6.0], [12.9385691, 77.6331222, 4.0], [12.9621761, 77.77136741208628, 4.0], [12.9830667, 77.5768071, 4.0], [12.9408685, 77.617338, 3.0], [13.0621474, 77.58006135480495, 3.0], [12.9846713, 77.6790908, 2.0], [13.0422794, 77.6248577, 2.0], [12.9783547, 77.5728609, 2.0], [12.9817233, 77.5549364, 2.0], [12.9274413, 77.5155224, 1.0], [12.9089453, 77.6239038, 1.0], [12.9847584, 77.6426242, 1.0], [13.009476450000001, 77.55308891231309, 1.0], [12.97339325, 77.61124684880099, 1.0]],\n",
       "                {&quot;blur&quot;: 15, &quot;maxZoom&quot;: 18, &quot;minOpacity&quot;: 0.5, &quot;radius&quot;: 25}\n",
       "            );\n",
       "        \n",
       "    \n",
       "            heat_map_78837fa915d356ba239a90d0be1730b2.addTo(map_a57734bb9efc69da4328ad24eada4ef4);\n",
       "        \n",
       "&lt;/script&gt;\n",
       "&lt;/html&gt;\" style=\"position:absolute;width:100%;height:100%;left:0;top:0;border:none !important;\" allowfullscreen webkitallowfullscreen mozallowfullscreen></iframe></div></div>"
      ],
      "text/plain": [
       "<folium.folium.Map at 0x166cf701e80>"
      ]
     },
     "execution_count": 113,
     "metadata": {},
     "output_type": "execute_result"
    }
   ],
   "source": [
    "get_heatmap('Italian')"
   ]
  },
  {
   "cell_type": "code",
   "execution_count": null,
   "id": "978a6eea-65c1-4460-9c3b-a9e82341c432",
   "metadata": {},
   "outputs": [],
   "source": []
  }
 ],
 "metadata": {
  "kernelspec": {
   "display_name": "Python 3 (ipykernel)",
   "language": "python",
   "name": "python3"
  },
  "language_info": {
   "codemirror_mode": {
    "name": "ipython",
    "version": 3
   },
   "file_extension": ".py",
   "mimetype": "text/x-python",
   "name": "python",
   "nbconvert_exporter": "python",
   "pygments_lexer": "ipython3",
   "version": "3.12.4"
  }
 },
 "nbformat": 4,
 "nbformat_minor": 5
}
